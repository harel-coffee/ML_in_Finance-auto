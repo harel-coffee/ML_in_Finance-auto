{
 "cells": [
  {
   "cell_type": "markdown",
   "metadata": {
    "id": "JXpZldYOUjGJ"
   },
   "source": [
    "## Import Libraries"
   ]
  },
  {
   "cell_type": "code",
   "execution_count": 82,
   "metadata": {
    "colab": {
     "base_uri": "https://localhost:8080/",
     "height": 67
    },
    "id": "a5HnPotefAq7",
    "outputId": "ccfdbade-d5cb-433d-dcf0-6b178b644f42"
   },
   "outputs": [
    {
     "name": "stderr",
     "output_type": "stream",
     "text": [
      "[nltk_data] Downloading package stopwords to\n",
      "[nltk_data]     C:\\Users\\Almalis\\AppData\\Roaming\\nltk_data...\n",
      "[nltk_data]   Package stopwords is already up-to-date!\n"
     ]
    },
    {
     "name": "stdout",
     "output_type": "stream",
     "text": [
      "GPU Model    GeForce GTX 1060 with Max-Q Design\n"
     ]
    }
   ],
   "source": [
    ">>> import nltk\n",
    ">>> nltk.download('stopwords')\n",
    "import pandas as pd\n",
    "import json\n",
    "import numpy as np\n",
    "import re\n",
    "from nltk.stem.porter import *\n",
    "from nltk.corpus import stopwords\n",
    "from sklearn.model_selection import train_test_split\n",
    "from sklearn import model_selection,metrics,preprocessing\n",
    "import torch\n",
    "from torchtext import data\n",
    "import random\n",
    "import torch.nn as nn\n",
    "import torch.nn.functional as F\n",
    "import torch.optim as optim\n",
    "import time\n",
    "import spacy\n",
    "lang = spacy.load('en')\n",
    "stemmer = PorterStemmer()\n",
    "import seaborn as sns\n",
    "from sklearn.metrics import confusion_matrix\n",
    "import matplotlib.pyplot as plt\n",
    "import six\n",
    "import sys\n",
    "sys.modules['sklearn.externals.six'] = six\n",
    "from imblearn.over_sampling import RandomOverSampler\n",
    "\n",
    "stemmer = PorterStemmer()\n",
    "import warnings\n",
    "warnings.filterwarnings('ignore')\n",
    "device = torch.device(\"cuda:0\" if torch.cuda.is_available() else \"cpu\")\n",
    "print(\"GPU Model   \",torch.cuda.get_device_name(0))"
   ]
  },
  {
   "cell_type": "markdown",
   "metadata": {
    "id": "6aUng0tUOnJU"
   },
   "source": [
    "## Confusion Matrix Method"
   ]
  },
  {
   "cell_type": "code",
   "execution_count": 83,
   "metadata": {
    "id": "UDGI_gcARDf3"
   },
   "outputs": [],
   "source": [
    "def plot_confusion_matrix(cm, classes,\n",
    "                          normalize=True,\n",
    "                          title='Confusion matrix',\n",
    "                          cmap=plt.cm.Blues):\n",
    "    \n",
    "    import itertools\n",
    "    if normalize:\n",
    "        cm = cm.astype('float') / cm.sum(axis=1)[:, np.newaxis]\n",
    "        print(\"Normalized confusion matrix\")\n",
    "    else:\n",
    "        print('Confusion matrix, without normalization')\n",
    "\n",
    "    print(cm)\n",
    "\n",
    "    plt.imshow(cm, interpolation='nearest', cmap=cmap)\n",
    "    plt.title(title)\n",
    "    plt.colorbar()\n",
    "    tick_marks = np.arange(len(classes))\n",
    "    plt.xticks(tick_marks, classes, rotation=45)\n",
    "    plt.yticks(tick_marks, classes)\n",
    "\n",
    "    fmt = '.2f' if normalize else 'd'\n",
    "    thresh = cm.max() / 2.\n",
    "    for i, j in itertools.product(range(cm.shape[0]), range(cm.shape[1])):\n",
    "        plt.text(j, i, format(cm[i, j], fmt),\n",
    "                 horizontalalignment=\"center\",\n",
    "                 color=\"white\" if cm[i, j] > thresh else \"black\")\n",
    "\n",
    "    plt.ylabel('True label')\n",
    "    plt.xlabel('Predicted label')\n",
    "    plt.tight_layout()"
   ]
  },
  {
   "cell_type": "markdown",
   "metadata": {
    "id": "Ju-OgZmqOnJY"
   },
   "source": [
    "## Cleaning Data, Preprocessing"
   ]
  },
  {
   "cell_type": "code",
   "execution_count": 84,
   "metadata": {
    "id": "VCJKt_MyfAq-"
   },
   "outputs": [],
   "source": [
    "def clean_data(X):\n",
    "    STOPWORDS = set(stopwords.words('english'))\n",
    "    X=X.str.lower()\n",
    "    X=X.str.replace(\"[/(){}\\[\\]\\|@,;]\", \" \")\n",
    "    X=X.str.replace(\"[^0-9a-z #+_]\", \" \")\n",
    "    X = X.str.replace(r'\\d+','')\n",
    "    X = X.apply(lambda x: ' '.join([w for w in str(x).split() if (len(w)>2 and w not in STOPWORDS) ] ))\n",
    "    X = X.apply(lambda x: x.split()) \n",
    "    return X\n",
    "\n",
    "def target_arrange(y):\n",
    "    \n",
    "    for i in range(len(y)):\n",
    "        if y.values[i]=='Negative':\n",
    "            y.values[i]=0.0\n",
    "        else:\n",
    "            y.values[i]=1.0\n",
    "            \n",
    "    y=y.to_numpy()  \n",
    "    y=y.reshape(y.shape[0],1)\n",
    "    y= pd.DataFrame(data=y)\n",
    "    y=np.ravel(y)\n",
    "    y=y.astype('float')\n",
    "    return y\n",
    "\n",
    "def target_arrange_b(y):\n",
    "    \n",
    "    for i in range(len(y)):\n",
    "        if y.values[i]=='negative':\n",
    "            y.values[i]=0.0\n",
    "        else:\n",
    "            y.values[i]=1.0\n",
    "            \n",
    "    y=y.to_numpy()  \n",
    "    y=y.reshape(y.shape[0],1)\n",
    "    y= pd.DataFrame(data=y)\n",
    "    y=np.ravel(y)\n",
    "    y=y.astype('float')\n",
    "    return y"
   ]
  },
  {
   "cell_type": "markdown",
   "metadata": {
    "id": "AExKeWCZOnJb"
   },
   "source": [
    "## Load Dataset and Process"
   ]
  },
  {
   "cell_type": "code",
   "execution_count": 85,
   "metadata": {
    "colab": {
     "base_uri": "https://localhost:8080/",
     "height": 210
    },
    "id": "39r_65tmfArB",
    "outputId": "355cdf86-b9e9-49e9-fb1a-ac336e10054f"
   },
   "outputs": [
    {
     "name": "stdout",
     "output_type": "stream",
     "text": [
      "Number of Examples :  35146 \n",
      "\n",
      "Number of Examples after removing duplicates:  24442 \n",
      "\n",
      "Number of words before cleaning :  813785\n",
      "Number of words after cleaning :  530617\n",
      "\n",
      "******************\n",
      "\n",
      "Negative Examples :  11104\n",
      "Positive Examples :  13338\n"
     ]
    }
   ],
   "source": [
    "with open(\"Tech_news.json\",\"r\") as fp:\n",
    "#with open(\"General_Market.json\",encoding='utf8') as fp:\n",
    "    json_d = json.load(fp)\n",
    " \n",
    "ticks_d = json_d['data']\n",
    "df = pd.DataFrame(ticks_d)\n",
    "\n",
    "X= pd.DataFrame(columns=['Date', 'Article','Target'])\n",
    "X['Date']=pd.to_datetime(df['date'])\n",
    "X['Article']=df['title']+\" \"+df['text']\n",
    "X['Target']=df['sentiment']\n",
    "\n",
    "indexNames = X[X['Target'] == 'Neutral'].index\n",
    " \n",
    "# Delete these row indexes from dataFrame\n",
    "X.drop(indexNames , inplace=True)\n",
    "\n",
    "\n",
    "X=X.sort_values(\"Date\")\n",
    "\n",
    "print(\"Number of Examples : \",len(X),\"\\n\")\n",
    "X.drop_duplicates(inplace=True)\n",
    "X.index = range(len(X))\n",
    "print(\"Number of Examples after removing duplicates: \",len(X),\"\\n\")\n",
    "\n",
    "print('Number of words before cleaning : ',X['Article'].apply(lambda x: len(str(x).split(' '))).sum())\n",
    "X['Article']=clean_data(X['Article'])\n",
    "print('Number of words after cleaning : ',X['Article'].apply(lambda x: len(str(x).split(' '))).sum())\n",
    "print(\"\\n******************\\n\")\n",
    "\n",
    "X['Target']=target_arrange(X['Target'])\n",
    "X=X.drop('Date',1)\n",
    "\n",
    "print(\"Negative Examples : \",(X['Target']==0).sum())\n",
    "print(\"Positive Examples : \",(X['Target']==1).sum())\n"
   ]
  },
  {
   "cell_type": "markdown",
   "metadata": {
    "id": "GPK6sNgYOnJf"
   },
   "source": [
    "## Stemming"
   ]
  },
  {
   "cell_type": "code",
   "execution_count": 86,
   "metadata": {
    "colab": {
     "base_uri": "https://localhost:8080/",
     "height": 228
    },
    "id": "F2Lyyf7vfArF",
    "outputId": "67011d1d-c8c4-4e78-ef88-1e3c7c3bbb58"
   },
   "outputs": [
    {
     "name": "stdout",
     "output_type": "stream",
     "text": [
      "0        gtt commun gtt report loss lag revenu estim gt...\n",
      "1        greenski get anoth downgrad even though damag ...\n",
      "2        system ddd earn top revenu miss fall system dd...\n",
      "3        angi homeservic stock plung toward year low ea...\n",
      "4        match group stock get downgrad massiv ralli ma...\n",
      "                               ...                        \n",
      "24437    market dramat undervalu network technolog netw...\n",
      "24438    human capit uber eat hit claim revers racism l...\n",
      "24439    anyon talk billion eleph room stock mention ma...\n",
      "24440    top stock buy ahead elect elect result could c...\n",
      "24441    amazon appl facebook price analysi roundup con...\n",
      "Name: Article, Length: 24442, dtype: object\n"
     ]
    }
   ],
   "source": [
    "X['Article']= X['Article'].apply(lambda x: [stemmer.stem(i) for i in x]) # stemming\n",
    "for i in range(len(X['Article'])): #φέρνω τα tokens ξανά μαζί διαχωριζόμενα με κενά\n",
    "    X['Article'][i] = ' '.join(X['Article'][i])\n",
    "print(X['Article'])\n",
    "Xv = X['Article'].to_frame()"
   ]
  },
  {
   "cell_type": "markdown",
   "metadata": {
    "id": "TIcQ7Cj8OnJk"
   },
   "source": [
    "## Oversampling and Csvs"
   ]
  },
  {
   "cell_type": "code",
   "execution_count": 87,
   "metadata": {
    "colab": {
     "base_uri": "https://localhost:8080/",
     "height": 52
    },
    "id": "v_A1300jfArI",
    "outputId": "5c9d3868-b3fe-4229-f6c9-087ed75c0e4a"
   },
   "outputs": [
    {
     "name": "stdout",
     "output_type": "stream",
     "text": [
      "Negative Examples in Training after OverSampling:  10670\n",
      "Positive Examples in Training after OverSampling:  10670\n"
     ]
    }
   ],
   "source": [
    "X_train,X_val,y_train,y_val = train_test_split(Xv,X['Target'], test_size=0.2,stratify=X['Target'])\n",
    "\n",
    "ros = RandomOverSampler()\n",
    "X_train,y_train = ros.fit_resample(X_train, y_train)\n",
    "\n",
    "train1=pd.DataFrame(columns=['Article','Target'])\n",
    "val = pd.DataFrame(columns=['Article','Target'])\n",
    "\n",
    "df = pd.DataFrame(data = X_train,columns=['Article'])\n",
    "df1= pd.DataFrame(data = y_train,columns=['Target'])\n",
    "train1['Article']=df['Article']\n",
    "train1['Target']=df1['Target']\n",
    "\n",
    "df = pd.DataFrame(data = X_val,columns=['Article'])\n",
    "df1= pd.DataFrame(data = y_val,columns=['Target'])\n",
    "val['Article']=df['Article']\n",
    "val['Target']=df1['Target']\n",
    "\n",
    "print(\"Negative Examples in Training after OverSampling: \",(train1['Target']==0).sum())\n",
    "print(\"Positive Examples in Training after OverSampling: \",(train1['Target']==1).sum())\n",
    "\n",
    "train1.to_csv (r'Train.csv', index = False, header=True)\n",
    "val.to_csv (r'Val.csv', index = False, header=True)\n",
    "\n",
    "\n"
   ]
  },
  {
   "cell_type": "markdown",
   "metadata": {
    "id": "JJ1k7mnGQmaa"
   },
   "source": [
    "## Process Tweets as TestSet"
   ]
  },
  {
   "cell_type": "code",
   "execution_count": 88,
   "metadata": {
    "id": "vRG24J83Qmaa",
    "outputId": "4e7071fe-6e68-461a-f56c-d8265de8fed6"
   },
   "outputs": [
    {
     "name": "stdout",
     "output_type": "stream",
     "text": [
      "0       intern electron industri compani elcoteq laid ...\n",
      "1       new product plant compani would increas capac ...\n",
      "2       accord compani updat strategi year baswar targ...\n",
      "3       financ aspocomp growth aspocomp aggress pursu ...\n",
      "4       last quarter componenta net sale doubl eurm eu...\n",
      "                              ...                        \n",
      "1962    helsinki thomson financi share cargotec fell s...\n",
      "1963    london marketwatch share price end lower londo...\n",
      "1964    oper profit fell eur eur includ vessel sale ga...\n",
      "1965    net sale paper segment decreas eur second quar...\n",
      "1966    sale finland decreas januari sale outsid finla...\n",
      "Name: Article, Length: 1967, dtype: object\n"
     ]
    }
   ],
   "source": [
    "Test_pd = pd.read_csv(r'all-data.csv',sep=\",\",skiprows=0,header=None,encoding=\"latin-1\")\n",
    "\n",
    "\n",
    "X_Tweets= pd.DataFrame(columns=['Article','Target'])\n",
    "X_Tweets['Article']=Test_pd[Test_pd.columns[1]]\n",
    "X_Tweets['Target']=Test_pd[Test_pd.columns[0]]\n",
    "\n",
    "indexNames = X_Tweets[X_Tweets['Target'] == 'neutral'].index\n",
    "# Delete these row indexes from dataFrame\n",
    "X_Tweets.drop(indexNames , inplace=True)\n",
    "X_Tweets.drop_duplicates(inplace=True)\n",
    "X_Tweets.index = range(len(X_Tweets))\n",
    "\n",
    "X_Tweets['Article']=clean_data(X_Tweets['Article'])\n",
    "X_Tweets['Target']=target_arrange_b(X_Tweets['Target'])\n",
    "\n",
    "X_Tweets['Article']= X_Tweets['Article'].apply(lambda x: [stemmer.stem(i) for i in x]) # stemming\n",
    "for i in range(len(X_Tweets['Article'])): #φέρνω τα tokens ξανά μαζί διαχωριζόμενα με κενά\n",
    "    X_Tweets['Article'][i] = ' '.join(X_Tweets['Article'][i])\n",
    "print(X_Tweets['Article'])\n",
    "#X_Tweets['Article'] = X_Tweets['Article'].to_frame()\n",
    "X_Tweets.to_csv (r'Test.csv', index = False, header=True)\n",
    "\n"
   ]
  },
  {
   "cell_type": "markdown",
   "metadata": {
    "id": "rN-KlTrxOnJn"
   },
   "source": [
    "## Build Vocabulary"
   ]
  },
  {
   "cell_type": "code",
   "execution_count": 89,
   "metadata": {
    "colab": {
     "base_uri": "https://localhost:8080/",
     "height": 87
    },
    "id": "HmOB68OSfArK",
    "outputId": "bc2127b4-d454-4a8a-d4ce-5e2a326a7b7f"
   },
   "outputs": [
    {
     "name": "stdout",
     "output_type": "stream",
     "text": [
      "Size of TEXT vocabulary: 11500\n",
      "Size of LABEL vocabulary: 2\n",
      "[('stock', 14116), ('earn', 8812), ('report', 5011), ('compani', 4930), ('share', 3811), ('market', 3177), ('revenu', 3167), ('quarter', 3042), ('buy', 2893), ('trade', 2892)]\n"
     ]
    }
   ],
   "source": [
    "torch.manual_seed(1234)\n",
    "torch.backends.cudnn.deterministic = True\n",
    "\n",
    "#TEXT = data.Field(tokenize='spacy',batch_first=True,include_lengths=True)\n",
    "TEXT = data.Field(batch_first=True)\n",
    "LABEL = data.LabelField(dtype = torch.float,batch_first=True)\n",
    "\n",
    "fields = [('text',TEXT),('label', LABEL)]\n",
    "X_train=data.TabularDataset(path = 'Train.csv',format = 'csv',fields = fields,skip_header = True)\n",
    "X_val=data.TabularDataset(path = 'Val.csv',format = 'csv',fields = fields,skip_header = True)\n",
    "X_test=data.TabularDataset(path = 'Test.csv',format = 'csv',fields = fields,skip_header = True)\n",
    "\n",
    "TEXT.build_vocab(X_train)  \n",
    "LABEL.build_vocab(X_train)\n",
    "\n",
    "print(\"Size of TEXT vocabulary:\",len(TEXT.vocab))\n",
    "\n",
    "#No. of unique tokens in label\n",
    "print(\"Size of LABEL vocabulary:\",len(LABEL.vocab))\n",
    "\n",
    "#Commonly used words\n",
    "print(TEXT.vocab.freqs.most_common(10))  \n"
   ]
  },
  {
   "cell_type": "markdown",
   "metadata": {
    "id": "oHdw0ArTOnJr"
   },
   "source": [
    "## Accuracy, Loss and Optimizer Function"
   ]
  },
  {
   "cell_type": "code",
   "execution_count": 90,
   "metadata": {
    "id": "hIvY8I8tfArM"
   },
   "outputs": [],
   "source": [
    "def find_accuracy(preds, y):\n",
    "    real_values=torch.sigmoid(preds)\n",
    "    temp = torch.round(real_values)\n",
    "    valid = (temp == y).float() \n",
    "    accur = valid.sum() / len(valid)\n",
    "    return accur,temp,y,real_values\n",
    "\n",
    "def Loss_Optimizer (model,valueLR):\n",
    "    criterion = nn.BCEWithLogitsLoss()\n",
    "    #criterion = nn.BCELoss()\n",
    "    optimizer = torch.optim.Adam(model.parameters(), lr=valueLR)\n",
    "    return optimizer,criterion"
   ]
  },
  {
   "cell_type": "markdown",
   "metadata": {
    "id": "TcqCvumUOnJu"
   },
   "source": [
    "## Training and Testing Functions "
   ]
  },
  {
   "cell_type": "code",
   "execution_count": 91,
   "metadata": {
    "id": "lNSC2cF4fArO"
   },
   "outputs": [],
   "source": [
    "def train(model,data,lr,optimizer,criterion):\n",
    "        \n",
    "    model.train()\n",
    "    sumloss=0.0\n",
    "    sumacc=0.0\n",
    "    for i in data:\n",
    "        text = i.text   \n",
    "        optimizer.zero_grad()\n",
    "        pred = model(text).squeeze(1)    \n",
    "        loss = criterion(pred, i.label)\n",
    "        acc,_,_,_ = find_accuracy(pred, i.label)\n",
    "        loss.backward()\n",
    "        optimizer.step()\n",
    "        sumloss += loss.item()\n",
    "        sumacc += acc.item()\n",
    "          \n",
    "    return sumloss / len(data), sumacc / len(data)\n",
    "\n",
    "def test(model, data, criterion):\n",
    "    y_pred_list = []\n",
    "    y_true_list = []\n",
    "    real_v_list = []\n",
    "    sumloss = 0\n",
    "    sumacc = 0\n",
    "    \n",
    "    model.eval()\n",
    "    \n",
    "    with torch.no_grad():\n",
    "    \n",
    "        for i in data:\n",
    "            text = i.text\n",
    "            \n",
    "            pred = model(text).squeeze(1)\n",
    "           \n",
    "            loss = criterion(pred, i.label)\n",
    "            \n",
    "            acc,y_pred_tags,y_true,real_v = find_accuracy(pred, i.label)\n",
    "\n",
    "            sumloss += loss.item()\n",
    "            sumacc += acc.item()\n",
    "            y_pred_list.append(y_pred_tags.cpu().numpy())\n",
    "            y_true_list.append(y_true.cpu().numpy())\n",
    "            real_v_list+=real_v.flatten().tolist()\n",
    "        \n",
    "    return sumloss / len(data), sumacc / len(data),y_pred_list,y_true_list,real_v_list\n",
    "\n",
    "def process_test(model,numEpochs,data_tr,data_val,data_test,lr,best_model):\n",
    "\n",
    "    optimizer,criterion=Loss_Optimizer (model,lr)\n",
    "    criterion = criterion.to(device)\n",
    "    start_time = time.time()\n",
    "    \n",
    "    for i in range(numEpochs):\n",
    " \n",
    "        train_loss, train_acc = train(model, data_tr, lr,optimizer,criterion)\n",
    "        valid_loss, valid_acc,_,_ ,_= test(model, data_val, criterion)\n",
    "        \n",
    "        if i==0:\n",
    "            max=valid_acc\n",
    "            torch.save(model.state_dict(), best_model)\n",
    "        elif valid_acc > max:\n",
    "            max = valid_acc\n",
    "            torch.save(model.state_dict(), best_model)\n",
    "\n",
    "        if (i+1)%5==0:\n",
    "          print(\"Epoch : \",i+1,\" Train Loss : \",train_loss,\"  Train Acc : \",train_acc,\"  Valid Loss : \",valid_loss, \" Val Acc : \",valid_acc)\n",
    "    \n",
    "    end_time = time.time()\n",
    "    timeHelp=(end_time-start_time)/60.0\n",
    "    print(\"\\nTime needed for Training : \",timeHelp)\n",
    "\n",
    "    \n",
    "    \n",
    "   \n",
    "    model.load_state_dict(torch.load(best_model))\n",
    "    \n",
    "    test_loss, test_acc,y_pred_list,y_true_list, real_v_list= test(model, data_test, criterion)\n",
    "    print(\"\\nLoss in Testset : \",test_loss,\"  Accuracy in Testset : \",test_acc,\"\\n\")\n",
    "\n",
    "    y_pred_list = [a.squeeze().tolist() for a in y_pred_list]\n",
    "    y_true_list = [a.squeeze().tolist() for a in y_true_list]\n",
    "    \n",
    "    yp = [item for sublist in y_pred_list for item in sublist]\n",
    "    yt = [item for sublist in y_true_list for item in sublist]\n",
    "    \n",
    "    cnf_matrix = confusion_matrix(yt, yp,labels=[0, 1])\n",
    "    np.set_printoptions(precision=3)\n",
    "\n",
    "    plt.figure()\n",
    "    plot_confusion_matrix(cnf_matrix, classes=[0, 1],\n",
    "                      title='Confusion matrix, with normalization')\n",
    "     \n",
    "    return real_v_list\n",
    "\n",
    "def process_test2(model,numEpochs,data_tr,data_val,data_test,lr,best_model):\n",
    "\n",
    "    optimizer,criterion=Loss_Optimizer (model,lr)\n",
    "    criterion = criterion.to(device)\n",
    "    start_time = time.time()\n",
    "        \n",
    "    for i in range(numEpochs):\n",
    " \n",
    "        train_loss, train_acc = train(model, data_tr, lr,optimizer,criterion)\n",
    "        valid_loss, valid_acc,_,_,_ = test(model, data_val, criterion)\n",
    "        \n",
    "        if i==0:\n",
    "            minloss=valid_loss\n",
    "            torch.save(model.state_dict(), best_model)\n",
    "        elif valid_loss < minloss:\n",
    "            minloss = valid_loss\n",
    "            torch.save(model.state_dict(), best_model)\n",
    "\n",
    "        if (i+1)%5==0:\n",
    "          print(\"Epoch : \",i+1,\" Train Loss : \",train_loss,\"  Train Acc : \",train_acc,\"  Valid Loss : \",valid_loss, \" Val Acc : \",valid_acc)\n",
    "    \n",
    "    end_time = time.time()\n",
    "    timeHelp=(end_time-start_time)/60.0\n",
    "    print(\"\\nTime needed for Training : \",timeHelp)\n",
    "\n",
    "    model.load_state_dict(torch.load(best_model))\n",
    "    \n",
    "    test_loss, test_acc,y_pred_list,y_true_list, real_v_list= test(model, data_test, criterion)\n",
    "    print(\"\\nLoss in Testset : \",test_loss,\"  Accuracy in Testset : \",test_acc,\"\\n\")\n",
    "\n",
    "    y_pred_list = [a.squeeze().tolist() for a in y_pred_list]\n",
    "    y_true_list = [a.squeeze().tolist() for a in y_true_list]\n",
    "    \n",
    "    yp = [item for sublist in y_pred_list for item in sublist]\n",
    "    yt = [item for sublist in y_true_list for item in sublist]\n",
    "    \n",
    "    cnf_matrix = confusion_matrix(yt, yp,labels=[0, 1])\n",
    "    np.set_printoptions(precision=3)\n",
    "\n",
    "    plt.figure()\n",
    "    plot_confusion_matrix(cnf_matrix, classes=[0, 1],\n",
    "                      title='Confusion matrix, with normalization')\n",
    "    return real_v_list"
   ]
  },
  {
   "cell_type": "markdown",
   "metadata": {
    "id": "m-swBnngOnJ4"
   },
   "source": [
    "## RNN Models"
   ]
  },
  {
   "cell_type": "code",
   "execution_count": 92,
   "metadata": {
    "id": "iN7ov3gHfArY"
   },
   "outputs": [],
   "source": [
    "class myLSTM(nn.Module):\n",
    "    def __init__(self, voc, embed_d, hid_d, out_d,dropout):\n",
    "        \n",
    "        super().__init__()\n",
    "        \n",
    "        self.embedding = nn.Embedding(voc, embed_d)\n",
    "        self.rnn = nn.LSTM(embed_d,hid_d,batch_first=True,num_layers=2,bidirectional=True,dropout=dropout)\n",
    "        self.fc = nn.Linear(hid_d * 2, out_d)\n",
    "        self.dropout = nn.Dropout(dropout)\n",
    "    def forward(self, input_text):\n",
    "                \n",
    "        embedded = self.dropout(self.embedding(input_text))\n",
    "       \n",
    "        rnn_out,(rnn_hid,rnn_cell) = self.rnn(embedded)\n",
    "        hidden = self.dropout(torch.cat((rnn_hid[-2,:,:], rnn_hid[-1,:,:]), dim=1))\n",
    "        out=self.fc(hidden.squeeze(0))\n",
    "        return out\n",
    "\n",
    "class myGRU(nn.Module):\n",
    "    def __init__(self, voc, embed_d, hid_d, out_d,dropout):\n",
    "        \n",
    "        super().__init__()\n",
    "        \n",
    "        self.embedding = nn.Embedding(voc, embed_d)\n",
    "        self.rnn = nn.GRU(embed_d,hid_d,batch_first=True,num_layers=2,bidirectional=True,dropout=dropout)\n",
    "        self.fc = nn.Linear(hid_d * 2, out_d)\n",
    "        self.dropout = nn.Dropout(dropout)\n",
    "    def forward(self, input_text):\n",
    "                \n",
    "        embedded = self.dropout(self.embedding(input_text))\n",
    "        \n",
    "        rnn_out,hidden = self.rnn(embedded)\n",
    "        hidden = self.dropout(torch.cat((hidden[-2,:,:], hidden[-1,:,:]), dim=1))\n",
    "        out=self.fc(hidden.squeeze(0))\n",
    "        return out"
   ]
  },
  {
   "cell_type": "code",
   "execution_count": 93,
   "metadata": {
    "colab": {
     "base_uri": "https://localhost:8080/",
     "height": 218
    },
    "id": "tMbHHUnifArd",
    "outputId": "f9328ea9-eee6-4153-d5b2-0db3e48d796f"
   },
   "outputs": [
    {
     "name": "stdout",
     "output_type": "stream",
     "text": [
      "myLSTM(\n",
      "  (embedding): Embedding(11500, 300)\n",
      "  (rnn): LSTM(300, 256, num_layers=2, batch_first=True, dropout=0.4, bidirectional=True)\n",
      "  (fc): Linear(in_features=512, out_features=1, bias=True)\n",
      "  (dropout): Dropout(p=0.4, inplace=False)\n",
      ")\n",
      "myGRU(\n",
      "  (embedding): Embedding(11500, 300)\n",
      "  (rnn): GRU(300, 256, num_layers=2, batch_first=True, dropout=0.4, bidirectional=True)\n",
      "  (fc): Linear(in_features=512, out_features=1, bias=True)\n",
      "  (dropout): Dropout(p=0.4, inplace=False)\n",
      ")\n"
     ]
    }
   ],
   "source": [
    "myInput = len(TEXT.vocab)\n",
    "myEmbed = 300\n",
    "myHid = 256\n",
    "myOut = 1\n",
    "batch=16\n",
    "train_it, val_it, test_it = data.BucketIterator.splits((X_train, X_val, X_test),sort_key = lambda x: len(x.text),\n",
    "    sort_within_batch=True,batch_size = batch,device = device)  \n",
    "dropout = 0.4\n",
    "\n",
    "new_model2 = myLSTM(myInput, myEmbed, myHid, myOut,dropout)\n",
    "new_model2.to(torch.device(device))\n",
    "new_model3 = myGRU(myInput, myEmbed, myHid, myOut,dropout)\n",
    "new_model3.to(torch.device(device))\n",
    "\n",
    "print(new_model2)\n",
    "print(new_model3)\n",
    "#torch.save(new_model2.state_dict(), 'model_LSTM_1.pt')"
   ]
  },
  {
   "cell_type": "markdown",
   "metadata": {
    "id": "NEVvf-RpPUpC"
   },
   "source": [
    "## LSTM results"
   ]
  },
  {
   "cell_type": "code",
   "execution_count": 94,
   "metadata": {
    "colab": {
     "base_uri": "https://localhost:8080/",
     "height": 518
    },
    "id": "xEMSmzBOfArf",
    "outputId": "aa1b46c8-384d-43cc-edd5-fcd0c20e2388"
   },
   "outputs": [
    {
     "name": "stdout",
     "output_type": "stream",
     "text": [
      "Epoch :  5  Train Loss :  0.09982050805849357   Train Acc :  0.9637212643827098   Valid Loss :  0.31681239620548085  Val Acc :  0.9089960058530172\n",
      "Epoch :  10  Train Loss :  0.0470083038368345   Train Acc :  0.9821807846225898   Valid Loss :  0.44905378256261624  Val Acc :  0.9142610748219334\n",
      "Epoch :  15  Train Loss :  0.029971491422461992   Train Acc :  0.98898988005997   Valid Loss :  0.5794449124903264  Val Acc :  0.911242737879161\n",
      "Epoch :  20  Train Loss :  0.024295328845438145   Train Acc :  0.9912856071964018   Valid Loss :  0.544578031571797  Val Acc :  0.9128767248072656\n",
      "\n",
      "Time needed for Training :  5.496300999323527\n",
      "\n",
      "Loss in Testset :  1.2943909098204922   Accuracy in Testset :  0.7565040656221591 \n",
      "\n",
      "Normalized confusion matrix\n",
      "[[0.743 0.257]\n",
      " [0.238 0.762]]\n"
     ]
    },
    {
     "data": {
      "image/png": "[encoded data removed]",
      "text/plain": [
       "<Figure size 432x288 with 2 Axes>"
      ]
     },
     "metadata": {
      "needs_background": "light"
     },
     "output_type": "display_data"
    }
   ],
   "source": [
    "lstm_list=process_test(new_model2,20,train_it,val_it,test_it,0.001,\"LSTM_tweets.pt\")"
   ]
  },
  {
   "cell_type": "markdown",
   "metadata": {
    "id": "qtwyx_WOPa1U"
   },
   "source": [
    "## GRU results"
   ]
  },
  {
   "cell_type": "code",
   "execution_count": 95,
   "metadata": {
    "colab": {
     "base_uri": "https://localhost:8080/",
     "height": 518
    },
    "id": "ufEdn9rhfAri",
    "outputId": "444223b8-5843-4fc5-a7a2-aa56f33d6874"
   },
   "outputs": [
    {
     "name": "stdout",
     "output_type": "stream",
     "text": [
      "Epoch :  5  Train Loss :  0.11229500375011575   Train Acc :  0.9580990754771626   Valid Loss :  0.30166656246828827  Val Acc :  0.9099718591356589\n",
      "Epoch :  10  Train Loss :  0.06225034813030544   Train Acc :  0.9772301349325337   Valid Loss :  0.38164274162613615  Val Acc :  0.9104257444151087\n",
      "Epoch :  15  Train Loss :  0.048634498850880115   Train Acc :  0.9822901049475262   Valid Loss :  0.447221907112596  Val Acc :  0.9110384895131479\n",
      "Epoch :  20  Train Loss :  0.04506313652165699   Train Acc :  0.9844452773613194   Valid Loss :  0.4444199019185213  Val Acc :  0.9096087509510564\n",
      "\n",
      "Time needed for Training :  4.971919004122416\n",
      "\n",
      "Loss in Testset :  1.0674114380546702   Accuracy in Testset :  0.736077235966194 \n",
      "\n",
      "Normalized confusion matrix\n",
      "[[0.743 0.257]\n",
      " [0.267 0.733]]\n"
     ]
    },
    {
     "data": {
      "image/png": "[encoded data removed]",
      "text/plain": [
       "<Figure size 432x288 with 2 Axes>"
      ]
     },
     "metadata": {
      "needs_background": "light"
     },
     "output_type": "display_data"
    }
   ],
   "source": [
    "gru_list=process_test(new_model3,20,train_it,val_it,test_it,0.001,\"GRU_tweets.pt\")"
   ]
  }
 ],
 "metadata": {
  "accelerator": "GPU",
  "colab": {
   "collapsed_sections": [],
   "name": "General_start.ipynb",
   "provenance": [],
   "toc_visible": true
  },
  "kernelspec": {
   "display_name": "Python 3",
   "language": "python",
   "name": "python3"
  },
  "language_info": {
   "codemirror_mode": {
    "name": "ipython",
    "version": 3
   },
   "file_extension": ".py",
   "mimetype": "text/x-python",
   "name": "python",
   "nbconvert_exporter": "python",
   "pygments_lexer": "ipython3",
   "version": "3.7.7"
  }
 },
 "nbformat": 4,
 "nbformat_minor": 1
}
