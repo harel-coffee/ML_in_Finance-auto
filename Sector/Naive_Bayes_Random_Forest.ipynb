{
 "cells": [
  {
   "cell_type": "code",
   "execution_count": 1,
   "metadata": {},
   "outputs": [
    {
     "name": "stderr",
     "output_type": "stream",
     "text": [
      "C:\\Users\\Almalis\\Anaconda3\\lib\\site-packages\\sklearn\\utils\\deprecation.py:143: FutureWarning: The sklearn.neighbors.base module is  deprecated in version 0.22 and will be removed in version 0.24. The corresponding classes / functions should instead be imported from sklearn.neighbors. Anything that cannot be imported from sklearn.neighbors is now part of the private API.\n",
      "  warnings.warn(message, FutureWarning)\n"
     ]
    }
   ],
   "source": [
    "import pandas as pd\n",
    "import json\n",
    "import numpy as np\n",
    "import re\n",
    "from nltk.stem.porter import *\n",
    "from nltk.corpus import stopwords\n",
    "from sklearn.model_selection import train_test_split\n",
    "from sklearn import model_selection,metrics,naive_bayes,preprocessing\n",
    "from sklearn.ensemble import RandomForestClassifier\n",
    "from sklearn.multiclass import OneVsRestClassifier\n",
    "from sklearn.feature_extraction.text import TfidfVectorizer\n",
    "from sklearn.metrics import confusion_matrix\n",
    "import matplotlib.pyplot as plt\n",
    "import six\n",
    "import sys\n",
    "sys.modules['sklearn.externals.six'] = six\n",
    "from imblearn.over_sampling import RandomOverSampler\n",
    "stemmer = PorterStemmer()\n",
    "import warnings\n",
    "warnings.filterwarnings('ignore')"
   ]
  },
  {
   "cell_type": "code",
   "execution_count": 2,
   "metadata": {},
   "outputs": [],
   "source": [
    "def plot_confusion_matrix(cm, classes,\n",
    "                          normalize=True,\n",
    "                          title='Confusion matrix',\n",
    "                          cmap=plt.cm.Blues):\n",
    "    \n",
    "    import itertools\n",
    "    if normalize:\n",
    "        cm = cm.astype('float') / cm.sum(axis=1)[:, np.newaxis]\n",
    "        print(\"Normalized confusion matrix\")\n",
    "    else:\n",
    "        print('Confusion matrix, without normalization')\n",
    "\n",
    "    print(cm)\n",
    "\n",
    "    plt.imshow(cm, interpolation='nearest', cmap=cmap)\n",
    "    plt.title(title)\n",
    "    plt.colorbar()\n",
    "    tick_marks = np.arange(len(classes))\n",
    "    plt.xticks(tick_marks, classes, rotation=45)\n",
    "    plt.yticks(tick_marks, classes)\n",
    "\n",
    "    fmt = '.2f' if normalize else 'd'\n",
    "    thresh = cm.max() / 2.\n",
    "    for i, j in itertools.product(range(cm.shape[0]), range(cm.shape[1])):\n",
    "        plt.text(j, i, format(cm[i, j], fmt),\n",
    "                 horizontalalignment=\"center\",\n",
    "                 color=\"white\" if cm[i, j] > thresh else \"black\")\n",
    "\n",
    "    plt.ylabel('True label')\n",
    "    plt.xlabel('Predicted label')\n",
    "    plt.tight_layout()"
   ]
  },
  {
   "cell_type": "code",
   "execution_count": 3,
   "metadata": {},
   "outputs": [],
   "source": [
    "tfidf_vectorizer = TfidfVectorizer(max_df=0.9,min_df=5)\n",
    "\n",
    "\n",
    "X_train = pd.read_csv(\"Train.csv\")\n",
    "\n",
    "X_train_2 =X_train.sample(n = 2000)\n",
    "\n",
    "\n",
    "x_train = X_train['Article']\n",
    "y_train = X_train['Target']\n",
    "x_train2 = X_train_2['Article']\n",
    "y_train2 = X_train_2['Target']\n",
    "#***************************************************************************\n",
    "X_test  = pd.read_csv(\"Test.csv\")\n",
    "x_test  = X_test['Article']\n",
    "y_test  = X_test['Target']\n",
    "#**********************************************************************************\n",
    "\n",
    "x_train  = tfidf_vectorizer.fit_transform(x_train.values.astype('U'))\n",
    "x_test   = tfidf_vectorizer.transform(x_test.values.astype('U'))\n",
    "\n",
    "x_train2  = tfidf_vectorizer.transform(x_train2.values.astype('U'))\n",
    "\n",
    "x_train = pd.DataFrame(x_train.todense())\n",
    "x_test  = pd.DataFrame(x_test.todense())\n",
    "x_train2 = pd.DataFrame(x_train2.todense())\n",
    "\n",
    "ros = RandomOverSampler()\n",
    "x_train,y_train = ros.fit_resample(x_train, y_train)"
   ]
  },
  {
   "cell_type": "markdown",
   "metadata": {},
   "source": [
    "## Naive Bayes"
   ]
  },
  {
   "cell_type": "code",
   "execution_count": 4,
   "metadata": {},
   "outputs": [
    {
     "name": "stdout",
     "output_type": "stream",
     "text": [
      "Normalized confusion matrix\n",
      "[[0.841 0.018 0.046 0.059 0.013 0.023]\n",
      " [0.02  0.82  0.051 0.073 0.016 0.019]\n",
      " [0.037 0.029 0.799 0.061 0.038 0.037]\n",
      " [0.038 0.03  0.078 0.814 0.017 0.023]\n",
      " [0.003 0.009 0.045 0.015 0.921 0.006]\n",
      " [0.005 0.006 0.048 0.021 0.019 0.9  ]]\n",
      "\n",
      "\n",
      "              precision    recall  f1-score   support\n",
      "\n",
      "           0      0.924     0.841     0.880      8080\n",
      "           1      0.896     0.820     0.856      5404\n",
      "           2      0.786     0.799     0.792      5781\n",
      "           3      0.794     0.814     0.804      6084\n",
      "           4      0.666     0.921     0.773      1190\n",
      "           5      0.706     0.900     0.791      1723\n",
      "\n",
      "    accuracy                          0.830     28262\n",
      "   macro avg      0.795     0.849     0.816     28262\n",
      "weighted avg      0.838     0.830     0.831     28262\n",
      "\n"
     ]
    },
    {
     "data": {
      "image/png": "[encoded data removed]",
      "text/plain": [
       "<Figure size 432x288 with 2 Axes>"
      ]
     },
     "metadata": {
      "needs_background": "light"
     },
     "output_type": "display_data"
    }
   ],
   "source": [
    "alpha = 0.6 # This is the smoothing parameter for Laplace/Lidstone smoothing\n",
    "model = naive_bayes.MultinomialNB(alpha=alpha)\n",
    "\n",
    "model.fit(x_train,y_train)\n",
    "y_predicted = model.predict(x_test)\n",
    "\n",
    "cnf_matrix = confusion_matrix(y_test, y_predicted,labels=[0, 1, 2, 3, 4, 5])\n",
    "np.set_printoptions(precision=3)\n",
    "\n",
    "plt.figure()\n",
    "plot_confusion_matrix(cnf_matrix, classes=[0, 1, 2, 3, 4, 5],\n",
    "                  title='Confusion matrix, with normalization')\n",
    "\n",
    "print(\"\\n\")\n",
    "print(metrics.classification_report(y_test, y_predicted, digits=3))"
   ]
  },
  {
   "cell_type": "markdown",
   "metadata": {},
   "source": [
    "## Random Forest"
   ]
  },
  {
   "cell_type": "code",
   "execution_count": 5,
   "metadata": {},
   "outputs": [
    {
     "name": "stdout",
     "output_type": "stream",
     "text": [
      "{'n_estimators': [200, 288, 377, 466, 555, 644, 733, 822, 911, 1000], 'max_depth': [10, 20, 30, 40, 50, 60, 70, 80, 90, 100, 110, None], 'min_samples_split': [2, 5, 10], 'min_samples_leaf': [1, 2, 4], 'bootstrap': [True, False]}\n",
      "Fitting 2 folds for each of 100 candidates, totalling 200 fits\n"
     ]
    },
    {
     "name": "stderr",
     "output_type": "stream",
     "text": [
      "[Parallel(n_jobs=-1)]: Using backend LokyBackend with 12 concurrent workers.\n",
      "[Parallel(n_jobs=-1)]: Done  17 tasks      | elapsed:  2.6min\n",
      "[Parallel(n_jobs=-1)]: Done 138 tasks      | elapsed: 13.0min\n",
      "[Parallel(n_jobs=-1)]: Done 200 out of 200 | elapsed: 17.6min finished\n"
     ]
    },
    {
     "name": "stdout",
     "output_type": "stream",
     "text": [
      "{'n_estimators': 377, 'min_samples_split': 5, 'min_samples_leaf': 2, 'max_depth': 110, 'bootstrap': False}\n"
     ]
    }
   ],
   "source": [
    "from sklearn.model_selection import RandomizedSearchCV\n",
    "# Number of trees in random forest\n",
    "n_estimators = [int(x) for x in np.linspace(start = 200, stop = 1000, num = 10)]\n",
    "# Maximum number of levels in tree\n",
    "max_depth = [int(x) for x in np.linspace(10, 110, num = 11)]\n",
    "max_depth.append(None)\n",
    "# Minimum number of samples required to split a node\n",
    "min_samples_split = [2, 5, 10]\n",
    "# Minimum number of samples required at each leaf node\n",
    "min_samples_leaf = [1, 2, 4]\n",
    "# Method of selecting samples for training each tree\n",
    "bootstrap = [True, False]\n",
    "# Create the random grid\n",
    "random_grid = {'n_estimators': n_estimators,\n",
    "               'max_depth': max_depth,\n",
    "               'min_samples_split': min_samples_split,\n",
    "               'min_samples_leaf': min_samples_leaf,\n",
    "               'bootstrap': bootstrap}\n",
    "print(random_grid)\n",
    "\n",
    "model2 = RandomForestClassifier(max_features=\"auto\")\n",
    "\n",
    "rf_random = RandomizedSearchCV(estimator = model2, param_distributions = random_grid, n_iter = 100, cv = 2, verbose=2, random_state=42,n_jobs = -1)\n",
    "# Fit the random search model\n",
    "rf_random.fit(x_train2, y_train2)\n",
    "\n",
    "print(rf_random.best_params_)"
   ]
  },
  {
   "cell_type": "code",
   "execution_count": 6,
   "metadata": {},
   "outputs": [
    {
     "name": "stdout",
     "output_type": "stream",
     "text": [
      "Fitting 2 folds for each of 81 candidates, totalling 162 fits\n"
     ]
    },
    {
     "name": "stderr",
     "output_type": "stream",
     "text": [
      "[Parallel(n_jobs=-1)]: Using backend LokyBackend with 12 concurrent workers.\n",
      "[Parallel(n_jobs=-1)]: Done  17 tasks      | elapsed:  2.2min\n",
      "[Parallel(n_jobs=-1)]: Done 138 tasks      | elapsed: 13.7min\n",
      "[Parallel(n_jobs=-1)]: Done 162 out of 162 | elapsed: 15.5min finished\n"
     ]
    },
    {
     "name": "stdout",
     "output_type": "stream",
     "text": [
      "{'bootstrap': False, 'max_depth': 100, 'min_samples_leaf': 2, 'min_samples_split': 4, 'n_estimators': 430}\n"
     ]
    }
   ],
   "source": [
    "from sklearn.model_selection import GridSearchCV\n",
    "# Create the parameter grid based on the results of random search \n",
    "param_grid = {\n",
    "    'bootstrap': [False],\n",
    "    'max_depth': [100, 110, 120],\n",
    "    'min_samples_leaf': [1, 2, 3],\n",
    "    'min_samples_split': [4,5,6],\n",
    "    'n_estimators': [350, 380, 430]\n",
    "}\n",
    "# Create a based model\n",
    "model2 = RandomForestClassifier(max_features=\"auto\")\n",
    "# Instantiate the grid search model\n",
    "grid_search = GridSearchCV(estimator = model2, param_grid = param_grid, \n",
    "                          cv = 2, n_jobs = -1, verbose = 2)\n",
    "\n",
    "grid_search.fit(x_train2, y_train2)\n",
    "print(grid_search.best_params_)"
   ]
  },
  {
   "cell_type": "code",
   "execution_count": 9,
   "metadata": {},
   "outputs": [
    {
     "name": "stdout",
     "output_type": "stream",
     "text": [
      "\n",
      "Metrics with OverSampling\n",
      "\n",
      " Recall metric: 0.8033639942508898\n",
      " F1 metric: 0.8036635999305571\n",
      " Precision metric: 0.8096574670779764\n",
      " Accuracy metric: 0.7839147972542637\n",
      " Balanced Accuracy metric: 0.8033639942508898 \n",
      "\n",
      "**************************************************\n",
      "\n",
      "Normalized confusion matrix\n",
      "[[0.874 0.021 0.032 0.061 0.005 0.007]\n",
      " [0.119 0.764 0.031 0.078 0.004 0.005]\n",
      " [0.142 0.03  0.718 0.07  0.02  0.021]\n",
      " [0.189 0.04  0.059 0.701 0.003 0.008]\n",
      " [0.024 0.008 0.031 0.024 0.905 0.008]\n",
      " [0.068 0.005 0.024 0.035 0.008 0.86 ]]\n"
     ]
    },
    {
     "data": {
      "image/png": "[encoded data removed]",
      "text/plain": [
       "<Figure size 432x288 with 2 Axes>"
      ]
     },
     "metadata": {
      "needs_background": "light"
     },
     "output_type": "display_data"
    }
   ],
   "source": [
    "model2 = RandomForestClassifier(n_estimators=430, max_features=\"auto\", bootstrap=False, \n",
    "                                max_depth =100, min_samples_leaf=2,min_samples_split = 4, n_jobs=-1)\n",
    "\n",
    "\n",
    "model2.fit(x_train,y_train)\n",
    "y_predicted = model2.predict(x_test)\n",
    "\n",
    "\n",
    "print(\"\\nMetrics with OverSampling\\n\")\n",
    "recall = metrics.recall_score(y_test,y_predicted,average='macro')\n",
    "precision = metrics.precision_score(y_test,y_predicted,average='macro')\n",
    "f1 = metrics.f1_score(y_test,y_predicted,average='macro')\n",
    "Accur=metrics.accuracy_score(y_test,y_predicted)\n",
    "B_Accur=metrics.balanced_accuracy_score(y_test,y_predicted)\n",
    "\n",
    "print(' Recall metric:',recall)\n",
    "print(' F1 metric:',f1)\n",
    "print(' Precision metric:',precision)\n",
    "print(' Accuracy metric:',Accur)\n",
    "print(' Balanced Accuracy metric:',B_Accur,\"\\n\")\n",
    "print(\"**************************************************\\n\")\n",
    "\n",
    "cnf_matrix = confusion_matrix(y_test, y_predicted,labels=[0, 1, 2, 3, 4, 5])\n",
    "np.set_printoptions(precision=3)\n",
    "\n",
    "plt.figure()\n",
    "plot_confusion_matrix(cnf_matrix, classes=[0, 1, 2, 3, 4, 5],\n",
    "                  title='Confusion matrix, with normalization')"
   ]
  },
  {
   "cell_type": "code",
   "execution_count": null,
   "metadata": {},
   "outputs": [],
   "source": []
  }
 ],
 "metadata": {
  "kernelspec": {
   "display_name": "Python 3",
   "language": "python",
   "name": "python3"
  },
  "language_info": {
   "codemirror_mode": {
    "name": "ipython",
    "version": 3
   },
   "file_extension": ".py",
   "mimetype": "text/x-python",
   "name": "python",
   "nbconvert_exporter": "python",
   "pygments_lexer": "ipython3",
   "version": "3.7.7"
  }
 },
 "nbformat": 4,
 "nbformat_minor": 4
}
