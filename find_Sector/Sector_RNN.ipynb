{
 "cells": [
  {
   "cell_type": "markdown",
   "metadata": {
    "id": "JXpZldYOUjGJ"
   },
   "source": [
    "## Import Libraries"
   ]
  },
  {
   "cell_type": "code",
   "execution_count": 2,
   "metadata": {
    "colab": {
     "base_uri": "https://localhost:8080/",
     "height": 67
    },
    "id": "a5HnPotefAq7",
    "outputId": "c37bc52a-d7a9-4bd6-e4a4-b2adc9dfcc53"
   },
   "outputs": [
    {
     "name": "stdout",
     "output_type": "stream",
     "text": [
      "[nltk_data] Downloading package stopwords to /root/nltk_data...\n",
      "[nltk_data]   Package stopwords is already up-to-date!\n",
      "GPU Model    Tesla T4\n"
     ]
    }
   ],
   "source": [
    ">>> import nltk\n",
    ">>> nltk.download('stopwords')\n",
    "import pandas as pd\n",
    "import json\n",
    "import numpy as np\n",
    "import re\n",
    "from nltk.stem.porter import *\n",
    "from nltk.corpus import stopwords\n",
    "from sklearn.model_selection import train_test_split\n",
    "from sklearn import model_selection,metrics,preprocessing\n",
    "import torch\n",
    "from torchtext import data\n",
    "import random\n",
    "import torch.nn as nn\n",
    "import torch.nn.functional as F\n",
    "import torch.optim as optim\n",
    "import time\n",
    "import spacy\n",
    "lang = spacy.load('en')\n",
    "stemmer = PorterStemmer()\n",
    "import seaborn as sns\n",
    "from sklearn.metrics import confusion_matrix\n",
    "import matplotlib.pyplot as plt\n",
    "import six\n",
    "import sys\n",
    "sys.modules['sklearn.externals.six'] = six\n",
    "from imblearn.over_sampling import RandomOverSampler\n",
    "\n",
    "stemmer = PorterStemmer()\n",
    "import warnings\n",
    "warnings.filterwarnings('ignore')\n",
    "device = torch.device(\"cuda:0\" if torch.cuda.is_available() else \"cpu\")\n",
    "print(\"GPU Model   \",torch.cuda.get_device_name(0))"
   ]
  },
  {
   "cell_type": "markdown",
   "metadata": {
    "id": "6aUng0tUOnJU"
   },
   "source": [
    "## Confusion Matrix Method"
   ]
  },
  {
   "cell_type": "code",
   "execution_count": 3,
   "metadata": {
    "id": "UDGI_gcARDf3"
   },
   "outputs": [],
   "source": [
    "def plot_confusion_matrix(cm, classes,\n",
    "                          normalize=True,\n",
    "                          title='Confusion matrix',\n",
    "                          cmap=plt.cm.Blues):\n",
    "    \n",
    "    import itertools\n",
    "    if normalize:\n",
    "        cm = cm.astype('float') / cm.sum(axis=1)[:, np.newaxis]\n",
    "        print(\"Normalized confusion matrix\")\n",
    "    else:\n",
    "        print('Confusion matrix, without normalization')\n",
    "\n",
    "    print(cm)\n",
    "\n",
    "    plt.imshow(cm, interpolation='nearest', cmap=cmap)\n",
    "    plt.title(title)\n",
    "    plt.colorbar()\n",
    "    tick_marks = np.arange(len(classes))\n",
    "    plt.xticks(tick_marks, classes, rotation=45)\n",
    "    plt.yticks(tick_marks, classes)\n",
    "\n",
    "    fmt = '.2f' if normalize else 'd'\n",
    "    thresh = cm.max() / 2.\n",
    "    for i, j in itertools.product(range(cm.shape[0]), range(cm.shape[1])):\n",
    "        plt.text(j, i, format(cm[i, j], fmt),\n",
    "                 horizontalalignment=\"center\",\n",
    "                 color=\"white\" if cm[i, j] > thresh else \"black\")\n",
    "\n",
    "    plt.ylabel('True label')\n",
    "    plt.xlabel('Predicted label')\n",
    "    plt.tight_layout()"
   ]
  },
  {
   "cell_type": "markdown",
   "metadata": {
    "id": "AExKeWCZOnJb"
   },
   "source": [
    "## Loading Dataset and preProcessing Functions"
   ]
  },
  {
   "cell_type": "code",
   "execution_count": 4,
   "metadata": {
    "id": "39r_65tmfArB"
   },
   "outputs": [],
   "source": [
    "def clean_data(X):\n",
    "    STOPWORDS = set(stopwords.words('english'))\n",
    "    X=X.str.lower()\n",
    "    X=X.str.replace(\"[/(){}\\[\\]\\|@,;]\", \" \")\n",
    "    X=X.str.replace(\"[^0-9a-z #+_]\", \" \")\n",
    "    X = X.str.replace(r'\\d+','')\n",
    "    X = X.apply(lambda x: ' '.join([w for w in str(x).split() if (len(w)>2 and w not in STOPWORDS) ] ))\n",
    "    X = X.apply(lambda x: x.split()) \n",
    "    return X\n",
    "\n",
    "def Preprocess(JsonFile,number_of_sector,text_Sector,Csvname):\n",
    "    with open(JsonFile,\"r\") as fp:\n",
    "    #with open(\"General_Market.json\",encoding='utf8') as fp:\n",
    "        json_d = json.load(fp)\n",
    "\n",
    "    ticks_d = json_d['data']\n",
    "    df = pd.DataFrame(ticks_d)\n",
    "\n",
    "    X= pd.DataFrame(columns=['Article','Target'])\n",
    "    X['Article']=df['title']+\" \"+df['text']\n",
    "    X['Target']=number_of_sector\n",
    "\n",
    "\n",
    "\n",
    "\n",
    "    print(\"Number of Examples in \",text_Sector,\" : \",len(X),\"\\n\")\n",
    "    X.drop_duplicates(inplace=True)\n",
    "    X.index = range(len(X))\n",
    "    print(\"Number of Examples after removing duplicates: \",len(X),\"\\n\")\n",
    "\n",
    "    print('Number of words before cleaning : ',X['Article'].apply(lambda x: len(str(x).split(' '))).sum())\n",
    "    X['Article']=clean_data(X['Article'])\n",
    "    print('Number of words after cleaning : ',X['Article'].apply(lambda x: len(str(x).split(' '))).sum())\n",
    "    print(\"\\n*****************************************************************************\\n\")\n",
    "    \n",
    "    X['Article']= X['Article'].apply(lambda x: [stemmer.stem(i) for i in x]) # stemming\n",
    "    for i in range(len(X['Article'])): #φέρνω τα tokens ξανά μαζί διαχωριζόμενα με κενά\n",
    "        X['Article'][i] = ' '.join(X['Article'][i])\n",
    "    \n",
    "    #Xv = X['Article'].to_frame()\n",
    "    X.to_csv (Csvname, index = False, header=True)\n"
   ]
  },
  {
   "cell_type": "markdown",
   "metadata": {
    "id": "OTw0tGdX0NXA"
   },
   "source": [
    "## Preprocessing"
   ]
  },
  {
   "cell_type": "code",
   "execution_count": 5,
   "metadata": {
    "colab": {
     "base_uri": "https://localhost:8080/",
     "height": 924
    },
    "id": "gHg4sFxG0NXB",
    "outputId": "ca412b51-bca6-4393-ab89-6a867139a5f2"
   },
   "outputs": [
    {
     "name": "stdout",
     "output_type": "stream",
     "text": [
      "Number of Examples in  Technology news  :  27387 \n",
      "\n",
      "Number of Examples after removing duplicates:  26934 \n",
      "\n",
      "Number of words before cleaning :  985859\n",
      "Number of words after cleaning :  659009\n",
      "\n",
      "*****************************************************************************\n",
      "\n",
      "Number of Examples in  Health news  :  19238 \n",
      "\n",
      "Number of Examples after removing duplicates:  18013 \n",
      "\n",
      "Number of words before cleaning :  757677\n",
      "Number of words after cleaning :  506572\n",
      "\n",
      "*****************************************************************************\n",
      "\n",
      "Number of Examples in  Financial news  :  20000 \n",
      "\n",
      "Number of Examples after removing duplicates:  19270 \n",
      "\n",
      "Number of words before cleaning :  751401\n",
      "Number of words after cleaning :  496665\n",
      "\n",
      "*****************************************************************************\n",
      "\n",
      "Number of Examples in  Consumer news  :  21240 \n",
      "\n",
      "Number of Examples after removing duplicates:  20279 \n",
      "\n",
      "Number of words before cleaning :  714316\n",
      "Number of words after cleaning :  467897\n",
      "\n",
      "*****************************************************************************\n",
      "\n",
      "Number of Examples in  Energy news  :  4319 \n",
      "\n",
      "Number of Examples after removing duplicates:  3965 \n",
      "\n",
      "Number of words before cleaning :  137424\n",
      "Number of words after cleaning :  90364\n",
      "\n",
      "*****************************************************************************\n",
      "\n",
      "Number of Examples in  Commodity news  :  6766 \n",
      "\n",
      "Number of Examples after removing duplicates:  5743 \n",
      "\n",
      "Number of words before cleaning :  222342\n",
      "Number of words after cleaning :  143289\n",
      "\n",
      "*****************************************************************************\n",
      "\n"
     ]
    }
   ],
   "source": [
    "#Technology=0,Health=1,Financial=2,Consumer=3,Energy=4,Commodity=5\n",
    "\n",
    "Preprocess('Technology_news.json',0,'Technology news','Technology.csv')\n",
    "Preprocess('Health_news.json',1,'Health news','Health.csv')\n",
    "Preprocess('Financial_news.json',2,'Financial news','Financial.csv')\n",
    "Preprocess('Consumer_news.json',3,'Consumer news','Consumer.csv')\n",
    "Preprocess('Energy_news.json',4,'Energy news','Energy.csv')\n",
    "Preprocess('Commodity_news.json',5,'Commodity news','Commodity.csv')"
   ]
  },
  {
   "cell_type": "markdown",
   "metadata": {
    "id": "RgwqPQpz0NXD"
   },
   "source": [
    "## Read data from Csv and concatenate them"
   ]
  },
  {
   "cell_type": "code",
   "execution_count": 6,
   "metadata": {
    "colab": {
     "base_uri": "https://localhost:8080/",
     "height": 134
    },
    "id": "ENoDI0vt0NXD",
    "outputId": "876601f0-9e6a-4e0c-c9f3-376f17d7ed27"
   },
   "outputs": [
    {
     "name": "stdout",
     "output_type": "stream",
     "text": [
      "Number of  Technology  examples :  26934\n",
      "Number of  Health  examples :  18013\n",
      "Number of  Financial  examples :  19270\n",
      "Number of  Consumer  examples :  20279\n",
      "Number of  Energy  examples :  3965\n",
      "Number of  Commodity  examples :  5743\n",
      " Array of Weights  [1.0, 1.4952534280797203, 1.397716658017644, 1.3281720005917452, 6.792938209331652, 4.689883336235417]\n"
     ]
    }
   ],
   "source": [
    "Tech_df = pd.read_csv(\"Technology.csv\")\n",
    "Health_df=pd.read_csv(\"Health.csv\")\n",
    "Financial_df=pd.read_csv(\"Financial.csv\")\n",
    "Consumer_df=pd.read_csv(\"Consumer.csv\")\n",
    "Energy_df=pd.read_csv(\"Energy.csv\")\n",
    "Commodity_df=pd.read_csv(\"Commodity.csv\")\n",
    "\n",
    "New_pd = pd.concat([Tech_df,Health_df], ignore_index=True)\n",
    "New_pd2 = pd.concat([Financial_df,Consumer_df], ignore_index=True)\n",
    "New_pd3 = pd.concat([Energy_df,Commodity_df], ignore_index=True)\n",
    "New_pd = pd.concat([New_pd,New_pd2], ignore_index=True)\n",
    "New_pd = pd.concat([New_pd,New_pd3], ignore_index=True)\n",
    "\n",
    "New_pd.index = range(len(New_pd))\n",
    "\n",
    "New_pd = New_pd.sample(frac=1).reset_index(drop=True)\n",
    "\n",
    "Names=['Technology','Health','Financial','Consumer','Energy','Commodity']\n",
    "Values=[]\n",
    "\n",
    "for i in range(6):\n",
    "    Values.append((New_pd['Target']==i).sum())\n",
    "    print('Number of ',Names[i],' examples : ',Values[i])\n",
    "\n",
    "normedWeights = [max(Values) / x for x in Values]\n",
    "\n",
    "print(' Array of Weights ',normedWeights)\n",
    "normedWeights = torch.FloatTensor(normedWeights).to(device)"
   ]
  },
  {
   "cell_type": "markdown",
   "metadata": {
    "id": "TIcQ7Cj8OnJk"
   },
   "source": [
    "## Creating Datasets and Csvs"
   ]
  },
  {
   "cell_type": "code",
   "execution_count": 7,
   "metadata": {
    "id": "v_A1300jfArI"
   },
   "outputs": [],
   "source": [
    "X_train,X_test,y_train,y_test = train_test_split(New_pd['Article'],New_pd['Target'], test_size=0.3,stratify=New_pd['Target'])\n",
    "X_train,X_val,y_train,y_val = train_test_split(X_train,y_train, test_size=0.2,stratify=y_train)\n",
    "\n",
    "train1=pd.DataFrame(columns=['Article','Target'])\n",
    "val = pd.DataFrame(columns=['Article','Target'])\n",
    "test= pd.DataFrame(columns=['Article','Target'])\n",
    "\n",
    "df = pd.DataFrame(data = X_train,columns=['Article'])\n",
    "df1= pd.DataFrame(data = y_train,columns=['Target'])\n",
    "train1['Article']=df['Article']\n",
    "train1['Target']=df1['Target']\n",
    "\n",
    "df = pd.DataFrame(data = X_test,columns=['Article'])\n",
    "df1= pd.DataFrame(data = y_test,columns=['Target'])\n",
    "test['Article']=df['Article']\n",
    "test['Target']=df1['Target']\n",
    "\n",
    "df = pd.DataFrame(data = X_val,columns=['Article'])\n",
    "df1= pd.DataFrame(data = y_val,columns=['Target'])\n",
    "val['Article']=df['Article']\n",
    "val['Target']=df1['Target']\n",
    "\n",
    "train1.to_csv (r'Train.csv', index = False, header=True)\n",
    "test.to_csv (r'Test.csv', index = False, header=True)\n",
    "val.to_csv (r'Validation.csv', index = False, header=True)\n"
   ]
  },
  {
   "cell_type": "markdown",
   "metadata": {
    "id": "rN-KlTrxOnJn"
   },
   "source": [
    "## Build Vocabulary"
   ]
  },
  {
   "cell_type": "code",
   "execution_count": 8,
   "metadata": {
    "colab": {
     "base_uri": "https://localhost:8080/",
     "height": 87
    },
    "id": "HmOB68OSfArK",
    "outputId": "a01f5077-16d7-4e79-8870-4593753a0e76"
   },
   "outputs": [
    {
     "name": "stdout",
     "output_type": "stream",
     "text": [
      "Size of TEXT vocabulary: 28475\n",
      "Size of LABEL vocabulary: 6\n",
      "[('stock', 26031), ('earn', 15214), ('compani', 13675), ('inc', 10853), ('announc', 10039), ('report', 9136), ('investor', 8113), ('result', 7724), ('share', 7423), ('quarter', 7356)]\n"
     ]
    }
   ],
   "source": [
    "torch.manual_seed(1234)\n",
    "torch.backends.cudnn.deterministic = True\n",
    "\n",
    "#TEXT = data.Field(tokenize='spacy',batch_first=True,include_lengths=True)\n",
    "TEXT = data.Field(batch_first=True)\n",
    "LABEL = data.LabelField(dtype = torch.long,batch_first=True)\n",
    "\n",
    "fields = [('text',TEXT),('label', LABEL)]\n",
    "X_train=data.TabularDataset(path = 'Train.csv',format = 'csv',fields = fields,skip_header = True)\n",
    "X_test=data.TabularDataset(path = 'Test.csv',format = 'csv',fields = fields,skip_header = True)\n",
    "X_val=data.TabularDataset(path = 'Validation.csv',format = 'csv',fields = fields,skip_header = True)\n",
    "\n",
    "TEXT.build_vocab(X_train)  \n",
    "LABEL.build_vocab(X_train)\n",
    "\n",
    "print(\"Size of TEXT vocabulary:\",len(TEXT.vocab))\n",
    "\n",
    "#No. of unique tokens in label\n",
    "print(\"Size of LABEL vocabulary:\",len(LABEL.vocab))\n",
    "\n",
    "#Commonly used words\n",
    "print(TEXT.vocab.freqs.most_common(10))  \n"
   ]
  },
  {
   "cell_type": "markdown",
   "metadata": {
    "id": "oHdw0ArTOnJr"
   },
   "source": [
    "## Accuracy, Loss and Optimizer Function"
   ]
  },
  {
   "cell_type": "code",
   "execution_count": 9,
   "metadata": {
    "id": "hIvY8I8tfArM"
   },
   "outputs": [],
   "source": [
    "def find_accuracy(preds, y):\n",
    "   \n",
    "    temp = torch.log_softmax(preds, dim = 1)\n",
    "    _, y_pred = torch.max(temp, dim = 1) \n",
    "    valid = (y_pred == y).float() \n",
    "    accur = valid.sum() / len(valid)\n",
    "    return accur,y_pred,y\n",
    "\n",
    "def Loss_Optimizer (model,valueLR):\n",
    "    criterion = nn.CrossEntropyLoss(weight=normedWeights)\n",
    "    optimizer = torch.optim.Adam(model.parameters(), lr=valueLR)\n",
    "    return optimizer,criterion"
   ]
  },
  {
   "cell_type": "markdown",
   "metadata": {
    "id": "TcqCvumUOnJu"
   },
   "source": [
    "## Training and Testing Functions "
   ]
  },
  {
   "cell_type": "code",
   "execution_count": 10,
   "metadata": {
    "id": "lNSC2cF4fArO"
   },
   "outputs": [],
   "source": [
    "def train(model,data,lr,optimizer,criterion):\n",
    "        \n",
    "    model.train()\n",
    "    sumloss=0.0\n",
    "    sumacc=0.0\n",
    "    for i in data:\n",
    "        text = i.text   \n",
    "        optimizer.zero_grad()\n",
    "        pred = model(text).squeeze(0) \n",
    "        loss = criterion(pred, i.label)\n",
    "        acc,_,_ = find_accuracy(pred, i.label)\n",
    "        loss.backward()\n",
    "        optimizer.step()\n",
    "        sumloss += loss.item()\n",
    "        sumacc += acc.item()\n",
    "          \n",
    "    return sumloss / len(data), sumacc / len(data)\n",
    "\n",
    "def test(model, data, criterion):\n",
    "    y_pred_list = []\n",
    "    y_true_list = []\n",
    "    \n",
    "    sumloss = 0\n",
    "    sumacc = 0\n",
    "    \n",
    "    model.eval()\n",
    "    \n",
    "    with torch.no_grad():\n",
    "    \n",
    "        for i in data:\n",
    "            text = i.text\n",
    "            \n",
    "            pred = model(text).squeeze(0)\n",
    "                       \n",
    "            loss = criterion(pred, i.label)\n",
    "            \n",
    "            acc,y_pred_tags,y_true = find_accuracy(pred, i.label)\n",
    "\n",
    "            sumloss += loss.item()\n",
    "            sumacc += acc.item()\n",
    "            y_pred_list.append(y_pred_tags.cpu().numpy())\n",
    "            y_true_list.append(y_true.cpu().numpy())\n",
    "            \n",
    "        \n",
    "    return sumloss / len(data), sumacc / len(data),y_pred_list,y_true_list\n",
    "\n",
    "def process_test(model,numEpochs,data_tr,data_val,data_test,lr,best_model):\n",
    "\n",
    "    optimizer,criterion=Loss_Optimizer (model,lr)\n",
    "    criterion = criterion.to(device)\n",
    "    start_time = time.time()\n",
    "    \n",
    "    for i in range(numEpochs):\n",
    " \n",
    "        train_loss, train_acc = train(model, data_tr, lr,optimizer,criterion)\n",
    "        valid_loss, valid_acc,_,_= test(model, data_val, criterion)\n",
    "        \n",
    "        if i==0:\n",
    "            max=valid_acc\n",
    "            torch.save(model.state_dict(), best_model)\n",
    "        elif valid_acc > max:\n",
    "            max = valid_acc\n",
    "            torch.save(model.state_dict(), best_model)\n",
    "\n",
    "        if (i+1)%5==0:\n",
    "          print(\"Epoch : \",i+1,\" Train Loss : \",train_loss,\"  Train Acc : \",train_acc,\"  Valid Loss : \",valid_loss, \" Val Acc : \",valid_acc)\n",
    "    \n",
    "    end_time = time.time()\n",
    "    timeHelp=(end_time-start_time)/60.0\n",
    "    print(\"\\nTime needed for Training : \",timeHelp)\n",
    "\n",
    "    model.load_state_dict(torch.load(best_model))\n",
    "    \n",
    "    test_loss, test_acc,y_pred_list,y_true_list= test(model, data_test, criterion)\n",
    "    print(\"\\nLoss in Testset : \",test_loss,\"  Accuracy in Testset : \",test_acc,\"\\n\")\n",
    "\n",
    "    y_pred_list = [a.squeeze().tolist() for a in y_pred_list]\n",
    "    y_true_list = [a.squeeze().tolist() for a in y_true_list]\n",
    "    \n",
    "    yp = [item for sublist in y_pred_list for item in sublist]\n",
    "    yt = [item for sublist in y_true_list for item in sublist]\n",
    "    \n",
    "    cnf_matrix = confusion_matrix(yt, yp,labels=[0, 1, 2, 3, 4, 5])\n",
    "    np.set_printoptions(precision=3)\n",
    "\n",
    "    plt.figure()\n",
    "    plot_confusion_matrix(cnf_matrix, classes=[0, 1, 2, 3, 4, 5],\n",
    "                      title='Confusion matrix, with normalization')"
   ]
  },
  {
   "cell_type": "markdown",
   "metadata": {
    "id": "m-swBnngOnJ4"
   },
   "source": [
    "## RNN Models"
   ]
  },
  {
   "cell_type": "code",
   "execution_count": 11,
   "metadata": {
    "id": "iN7ov3gHfArY"
   },
   "outputs": [],
   "source": [
    "class myLSTM(nn.Module):\n",
    "    def __init__(self, voc, embed_d, hid_d, out_d,dropout):\n",
    "        \n",
    "        super().__init__()\n",
    "        \n",
    "        self.embedding = nn.Embedding(voc, embed_d)\n",
    "        self.rnn = nn.LSTM(embed_d,hid_d,batch_first=True,num_layers=2,bidirectional=True,dropout=dropout)\n",
    "        self.fc = nn.Linear(hid_d * 2, out_d)\n",
    "        self.dropout = nn.Dropout(dropout)\n",
    "    def forward(self, input_text):\n",
    "                \n",
    "        embedded = self.dropout(self.embedding(input_text))\n",
    "       \n",
    "        rnn_out,(rnn_hid,rnn_cell) = self.rnn(embedded)\n",
    "        hidden = self.dropout(torch.cat((rnn_hid[-2,:,:], rnn_hid[-1,:,:]), dim=1))\n",
    "        out=self.fc(hidden)\n",
    "        return out\n",
    "\n",
    "class myGRU(nn.Module):\n",
    "    def __init__(self, voc, embed_d, hid_d, out_d,dropout):\n",
    "        \n",
    "        super().__init__()\n",
    "        \n",
    "        self.embedding = nn.Embedding(voc, embed_d)\n",
    "        self.rnn = nn.GRU(embed_d,hid_d,batch_first=True,num_layers=2,bidirectional=True,dropout=dropout)\n",
    "        self.fc = nn.Linear(hid_d * 2, out_d)\n",
    "        self.dropout = nn.Dropout(dropout)\n",
    "    def forward(self, input_text):\n",
    "                \n",
    "        embedded = self.dropout(self.embedding(input_text))\n",
    "        \n",
    "        rnn_out,hidden = self.rnn(embedded)\n",
    "        hidden = self.dropout(torch.cat((hidden[-2,:,:], hidden[-1,:,:]), dim=1))\n",
    "        out=self.fc(hidden)\n",
    "        return out"
   ]
  },
  {
   "cell_type": "markdown",
   "metadata": {
    "id": "TzlQQ-_M-J51"
   },
   "source": [
    "## Configuration"
   ]
  },
  {
   "cell_type": "code",
   "execution_count": 21,
   "metadata": {
    "colab": {
     "base_uri": "https://localhost:8080/",
     "height": 218
    },
    "id": "tMbHHUnifArd",
    "outputId": "0bbca387-6eec-46e4-e33b-28b29220f95f"
   },
   "outputs": [
    {
     "name": "stdout",
     "output_type": "stream",
     "text": [
      "myLSTM(\n",
      "  (embedding): Embedding(28475, 300)\n",
      "  (rnn): LSTM(300, 256, num_layers=2, batch_first=True, dropout=0.5, bidirectional=True)\n",
      "  (fc): Linear(in_features=512, out_features=6, bias=True)\n",
      "  (dropout): Dropout(p=0.5, inplace=False)\n",
      ")\n",
      "myGRU(\n",
      "  (embedding): Embedding(28475, 300)\n",
      "  (rnn): GRU(300, 256, num_layers=2, batch_first=True, dropout=0.5, bidirectional=True)\n",
      "  (fc): Linear(in_features=512, out_features=6, bias=True)\n",
      "  (dropout): Dropout(p=0.5, inplace=False)\n",
      ")\n"
     ]
    }
   ],
   "source": [
    "myInput = len(TEXT.vocab)\n",
    "myEmbed = 300\n",
    "myHid = 256\n",
    "myOut = 6\n",
    "batch=150\n",
    "train_it, val_it, test_it = data.BucketIterator.splits((X_train, X_val, X_test),sort_key = lambda x: len(x.text),\n",
    "    sort_within_batch=True,batch_size = batch,device = device)  \n",
    "dropout = 0.5\n",
    "\n",
    "new_model2 = myLSTM(myInput, myEmbed, myHid, myOut,dropout)\n",
    "new_model2.to(torch.device(device))\n",
    "new_model3 = myGRU(myInput, myEmbed, myHid, myOut,dropout)\n",
    "new_model3.to(torch.device(device))\n",
    "\n",
    "print(new_model2)\n",
    "print(new_model3)\n",
    "#torch.save(new_model2.state_dict(), 'model_LSTM_1.pt')"
   ]
  },
  {
   "cell_type": "markdown",
   "metadata": {
    "id": "NEVvf-RpPUpC"
   },
   "source": [
    "## LSTM results"
   ]
  },
  {
   "cell_type": "code",
   "execution_count": 22,
   "metadata": {
    "colab": {
     "base_uri": "https://localhost:8080/",
     "height": 619
    },
    "id": "xEMSmzBOfArf",
    "outputId": "ef2337b5-6022-4b60-89b8-799ee58bc5f3"
   },
   "outputs": [
    {
     "name": "stdout",
     "output_type": "stream",
     "text": [
      "Epoch :  5  Train Loss :  0.34245072453367437   Train Acc :  0.8560466524213552   Valid Loss :  0.3635010779411955  Val Acc :  0.8609548962929032\n",
      "Epoch :  10  Train Loss :  0.24370941104875368   Train Acc :  0.890807428481904   Valid Loss :  0.3685190490954979  Val Acc :  0.8734728809107434\n",
      "Epoch :  15  Train Loss :  0.20260474614968355   Train Acc :  0.907169411805543   Valid Loss :  0.3960198591971262  Val Acc :  0.8761183998801492\n",
      "Epoch :  20  Train Loss :  0.17409025590115396   Train Acc :  0.9167424469170246   Valid Loss :  0.4150156755296683  Val Acc :  0.8727850636298006\n",
      "Epoch :  25  Train Loss :  0.15999577206622978   Train Acc :  0.9232971324500713   Valid Loss :  0.4365992908239026  Val Acc :  0.8780880936167457\n",
      "Epoch :  30  Train Loss :  0.14646580323195932   Train Acc :  0.9289978903464295   Valid Loss :  0.4734134705186906  Val Acc :  0.8754365796392615\n",
      "\n",
      "Time needed for Training :  7.139456597963969\n",
      "\n",
      "Loss in Testset :  0.39761062152190974   Accuracy in Testset :  0.8779541660868933 \n",
      "\n",
      "Normalized confusion matrix\n",
      "[[0.9   0.046 0.025 0.017 0.007 0.005]\n",
      " [0.035 0.853 0.048 0.046 0.014 0.005]\n",
      " [0.036 0.064 0.837 0.029 0.019 0.016]\n",
      " [0.018 0.049 0.031 0.89  0.008 0.003]\n",
      " [0.011 0.026 0.029 0.015 0.909 0.01 ]\n",
      " [0.008 0.013 0.018 0.003 0.011 0.948]]\n"
     ]
    },
    {
     "data": {
      "image/png": "[encoded data removed]",
      "text/plain": [
       "<Figure size 432x288 with 2 Axes>"
      ]
     },
     "metadata": {
      "needs_background": "light",
      "tags": []
     },
     "output_type": "display_data"
    }
   ],
   "source": [
    "lstm_list=process_test(new_model2,30,train_it,val_it,test_it,0.001,\"LSTM_Sector.pt\")"
   ]
  },
  {
   "cell_type": "markdown",
   "metadata": {
    "id": "qtwyx_WOPa1U"
   },
   "source": [
    "## GRU results"
   ]
  },
  {
   "cell_type": "code",
   "execution_count": 16,
   "metadata": {
    "colab": {
     "base_uri": "https://localhost:8080/",
     "height": 619
    },
    "id": "ufEdn9rhfAri",
    "outputId": "491b9c77-4080-4b78-8ac0-f08a55c9facf"
   },
   "outputs": [
    {
     "name": "stdout",
     "output_type": "stream",
     "text": [
      "Epoch :  5  Train Loss :  0.2817569270044493   Train Acc :  0.878924610106766   Valid Loss :  0.3711497165954475  Val Acc :  0.8637319711538461\n",
      "Epoch :  10  Train Loss :  0.1941110099965738   Train Acc :  0.9113574455205811   Valid Loss :  0.39046177624074446  Val Acc :  0.8749248798076923\n",
      "Epoch :  15  Train Loss :  0.1577093213747005   Train Acc :  0.9259042070217918   Valid Loss :  0.4224359766342856  Val Acc :  0.875\n",
      "Epoch :  20  Train Loss :  0.14185143294507416   Train Acc :  0.9326006355932204   Valid Loss :  0.45941395874237617  Val Acc :  0.8738731971153846\n",
      "Epoch :  25  Train Loss :  0.13016065719625383   Train Acc :  0.9385782384987893   Valid Loss :  0.4740396135456159  Val Acc :  0.8698167067307693\n",
      "Epoch :  30  Train Loss :  0.12838356734166648   Train Acc :  0.9399780569007264   Valid Loss :  0.5002085857246269  Val Acc :  0.8718449519230769\n",
      "\n",
      "Time needed for Training :  6.046637276808421\n",
      "\n",
      "Loss in Testset :  0.3911109530615591   Accuracy in Testset :  0.8746818438914027 \n",
      "\n",
      "Normalized confusion matrix\n",
      "[[0.889 0.056 0.024 0.016 0.01  0.005]\n",
      " [0.03  0.876 0.039 0.04  0.013 0.003]\n",
      " [0.032 0.079 0.828 0.022 0.019 0.019]\n",
      " [0.017 0.069 0.029 0.871 0.011 0.004]\n",
      " [0.01  0.036 0.02  0.01  0.914 0.01 ]\n",
      " [0.002 0.013 0.02  0.005 0.008 0.951]]\n"
     ]
    },
    {
     "data": {
      "image/png": "[encoded data removed]",
      "text/plain": [
       "<Figure size 432x288 with 2 Axes>"
      ]
     },
     "metadata": {
      "needs_background": "light",
      "tags": []
     },
     "output_type": "display_data"
    }
   ],
   "source": [
    "gru_list=process_test(new_model3,30,train_it,val_it,test_it,0.001,\"GRU_Sector.pt\")"
   ]
  }
 ],
 "metadata": {
  "accelerator": "GPU",
  "colab": {
   "collapsed_sections": [],
   "name": "Sector_RNN-Copy1.ipynb",
   "provenance": []
  },
  "kernelspec": {
   "display_name": "Python 3",
   "language": "python",
   "name": "python3"
  },
  "language_info": {
   "codemirror_mode": {
    "name": "ipython",
    "version": 3
   },
   "file_extension": ".py",
   "mimetype": "text/x-python",
   "name": "python",
   "nbconvert_exporter": "python",
   "pygments_lexer": "ipython3",
   "version": "3.7.7"
  }
 },
 "nbformat": 4,
 "nbformat_minor": 1
}
