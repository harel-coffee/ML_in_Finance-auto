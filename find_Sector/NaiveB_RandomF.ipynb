{
 "cells": [
  {
   "cell_type": "code",
   "execution_count": 1,
   "metadata": {},
   "outputs": [
    {
     "name": "stderr",
     "output_type": "stream",
     "text": [
      "C:\\Users\\Almalis\\Anaconda3\\lib\\site-packages\\sklearn\\utils\\deprecation.py:143: FutureWarning: The sklearn.neighbors.base module is  deprecated in version 0.22 and will be removed in version 0.24. The corresponding classes / functions should instead be imported from sklearn.neighbors. Anything that cannot be imported from sklearn.neighbors is now part of the private API.\n",
      "  warnings.warn(message, FutureWarning)\n"
     ]
    }
   ],
   "source": [
    "import pandas as pd\n",
    "import json\n",
    "import numpy as np\n",
    "import re\n",
    "from nltk.stem.porter import *\n",
    "from nltk.corpus import stopwords\n",
    "from sklearn.model_selection import train_test_split\n",
    "from sklearn import model_selection,metrics,naive_bayes,preprocessing\n",
    "from sklearn.ensemble import RandomForestClassifier\n",
    "from sklearn.multiclass import OneVsRestClassifier\n",
    "from sklearn.feature_extraction.text import TfidfVectorizer\n",
    "from sklearn.metrics import confusion_matrix\n",
    "import matplotlib.pyplot as plt\n",
    "import six\n",
    "import sys\n",
    "sys.modules['sklearn.externals.six'] = six\n",
    "from imblearn.over_sampling import RandomOverSampler\n",
    "stemmer = PorterStemmer()\n",
    "import warnings\n",
    "warnings.filterwarnings('ignore')"
   ]
  },
  {
   "cell_type": "code",
   "execution_count": 2,
   "metadata": {},
   "outputs": [],
   "source": [
    "def plot_confusion_matrix(cm, classes,\n",
    "                          normalize=True,\n",
    "                          title='Confusion matrix',\n",
    "                          cmap=plt.cm.Blues):\n",
    "    \n",
    "    import itertools\n",
    "    if normalize:\n",
    "        cm = cm.astype('float') / cm.sum(axis=1)[:, np.newaxis]\n",
    "        print(\"Normalized confusion matrix\")\n",
    "    else:\n",
    "        print('Confusion matrix, without normalization')\n",
    "\n",
    "    print(cm)\n",
    "\n",
    "    plt.imshow(cm, interpolation='nearest', cmap=cmap)\n",
    "    plt.title(title)\n",
    "    plt.colorbar()\n",
    "    tick_marks = np.arange(len(classes))\n",
    "    plt.xticks(tick_marks, classes, rotation=45)\n",
    "    plt.yticks(tick_marks, classes)\n",
    "\n",
    "    fmt = '.2f' if normalize else 'd'\n",
    "    thresh = cm.max() / 2.\n",
    "    for i, j in itertools.product(range(cm.shape[0]), range(cm.shape[1])):\n",
    "        plt.text(j, i, format(cm[i, j], fmt),\n",
    "                 horizontalalignment=\"center\",\n",
    "                 color=\"white\" if cm[i, j] > thresh else \"black\")\n",
    "\n",
    "    plt.ylabel('True label')\n",
    "    plt.xlabel('Predicted label')\n",
    "    plt.tight_layout()"
   ]
  },
  {
   "cell_type": "code",
   "execution_count": 3,
   "metadata": {},
   "outputs": [],
   "source": [
    "def clean_data(X):\n",
    "    STOPWORDS = set(stopwords.words('english'))\n",
    "    X=X.str.lower()\n",
    "    X=X.str.replace(\"[/(){}\\[\\]\\|@,;]\", \" \")\n",
    "    X=X.str.replace(\"[^0-9a-z #+_]\", \" \")\n",
    "    X = X.str.replace(r'\\d+','')\n",
    "    X = X.apply(lambda x: ' '.join([w for w in str(x).split() if (len(w)>2 and w not in STOPWORDS) ] ))\n",
    "    X = X.apply(lambda x: x.split()) \n",
    "    return X\n",
    "\n",
    "def Preprocess(JsonFile,number_of_sector,text_Sector,Csvname):\n",
    "    with open(JsonFile,\"r\") as fp:\n",
    "    #with open(\"General_Market.json\",encoding='utf8') as fp:\n",
    "        json_d = json.load(fp)\n",
    "\n",
    "    ticks_d = json_d['data']\n",
    "    df = pd.DataFrame(ticks_d)\n",
    "\n",
    "    X= pd.DataFrame(columns=['Article','Target'])\n",
    "    X['Article']=df['title']+\" \"+df['text']\n",
    "    X['Target']=number_of_sector\n",
    "\n",
    "\n",
    "\n",
    "\n",
    "    print(\"Number of Examples in \",text_Sector,\" : \",len(X),\"\\n\")\n",
    "    X.drop_duplicates(inplace=True)\n",
    "    X.index = range(len(X))\n",
    "    print(\"Number of Examples after removing duplicates: \",len(X),\"\\n\")\n",
    "\n",
    "    print('Number of words before cleaning : ',X['Article'].apply(lambda x: len(str(x).split(' '))).sum())\n",
    "    X['Article']=clean_data(X['Article'])\n",
    "    print('Number of words after cleaning : ',X['Article'].apply(lambda x: len(str(x).split(' '))).sum())\n",
    "    print(\"\\n*****************************************************************************\\n\")\n",
    "    \n",
    "    X['Article']= X['Article'].apply(lambda x: [stemmer.stem(i) for i in x]) # stemming\n",
    "    for i in range(len(X['Article'])): #φέρνω τα tokens ξανά μαζί διαχωριζόμενα με κενά\n",
    "        X['Article'][i] = ' '.join(X['Article'][i])\n",
    "    \n",
    "    #Xv = X['Article'].to_frame()\n",
    "    X.to_csv (Csvname, index = False, header=True)\n"
   ]
  },
  {
   "cell_type": "code",
   "execution_count": 4,
   "metadata": {},
   "outputs": [
    {
     "name": "stdout",
     "output_type": "stream",
     "text": [
      "Number of Examples in  Technology news  :  27387 \n",
      "\n",
      "Number of Examples after removing duplicates:  26934 \n",
      "\n",
      "Number of words before cleaning :  985859\n",
      "Number of words after cleaning :  659009\n",
      "\n",
      "*****************************************************************************\n",
      "\n",
      "Number of Examples in  Health news  :  19238 \n",
      "\n",
      "Number of Examples after removing duplicates:  18013 \n",
      "\n",
      "Number of words before cleaning :  757677\n",
      "Number of words after cleaning :  506572\n",
      "\n",
      "*****************************************************************************\n",
      "\n",
      "Number of Examples in  Financial news  :  20000 \n",
      "\n",
      "Number of Examples after removing duplicates:  19270 \n",
      "\n",
      "Number of words before cleaning :  751401\n",
      "Number of words after cleaning :  496665\n",
      "\n",
      "*****************************************************************************\n",
      "\n",
      "Number of Examples in  Consumer news  :  21240 \n",
      "\n",
      "Number of Examples after removing duplicates:  20279 \n",
      "\n",
      "Number of words before cleaning :  714316\n",
      "Number of words after cleaning :  467897\n",
      "\n",
      "*****************************************************************************\n",
      "\n",
      "Number of Examples in  Energy news  :  4319 \n",
      "\n",
      "Number of Examples after removing duplicates:  3965 \n",
      "\n",
      "Number of words before cleaning :  137424\n",
      "Number of words after cleaning :  90364\n",
      "\n",
      "*****************************************************************************\n",
      "\n",
      "Number of Examples in  Commodity news  :  6766 \n",
      "\n",
      "Number of Examples after removing duplicates:  5743 \n",
      "\n",
      "Number of words before cleaning :  222342\n",
      "Number of words after cleaning :  143289\n",
      "\n",
      "*****************************************************************************\n",
      "\n",
      "Number of  Technology  examples :  26934\n",
      "Number of  Health  examples :  18013\n",
      "Number of  Financial  examples :  19270\n",
      "Number of  Consumer  examples :  20279\n",
      "Number of  Energy  examples :  3965\n",
      "Number of  Commodity  examples :  5743\n"
     ]
    }
   ],
   "source": [
    "#Technology=0,Health=1,Financial=2,Consumer=3,Energy=4,Commodity=5\n",
    "\n",
    "Preprocess('Technology_news.json',0,'Technology news','Technology.csv')\n",
    "Preprocess('Health_news.json',1,'Health news','Health.csv')\n",
    "Preprocess('Financial_news.json',2,'Financial news','Financial.csv')\n",
    "Preprocess('Consumer_news.json',3,'Consumer news','Consumer.csv')\n",
    "Preprocess('Energy_news.json',4,'Energy news','Energy.csv')\n",
    "Preprocess('Commodity_news.json',5,'Commodity news','Commodity.csv')\n",
    "\n",
    "Tech_df = pd.read_csv(\"Technology.csv\")\n",
    "Health_df=pd.read_csv(\"Health.csv\")\n",
    "Financial_df=pd.read_csv(\"Financial.csv\")\n",
    "Consumer_df=pd.read_csv(\"Consumer.csv\")\n",
    "Energy_df=pd.read_csv(\"Energy.csv\")\n",
    "Commodity_df=pd.read_csv(\"Commodity.csv\")\n",
    "\n",
    "New_pd = pd.concat([Tech_df,Health_df], ignore_index=True)\n",
    "New_pd2 = pd.concat([Financial_df,Consumer_df], ignore_index=True)\n",
    "New_pd3 = pd.concat([Energy_df,Commodity_df], ignore_index=True)\n",
    "New_pd = pd.concat([New_pd,New_pd2], ignore_index=True)\n",
    "New_pd = pd.concat([New_pd,New_pd3], ignore_index=True)\n",
    "\n",
    "New_pd.index = range(len(New_pd))\n",
    "\n",
    "New_pd = New_pd.sample(frac=1).reset_index(drop=True)\n",
    "\n",
    "Names=['Technology','Health','Financial','Consumer','Energy','Commodity']\n",
    "Values=[]\n",
    "\n",
    "for i in range(6):\n",
    "    Values.append((New_pd['Target']==i).sum())\n",
    "    print('Number of ',Names[i],' examples : ',Values[i])\n",
    "    \n"
   ]
  },
  {
   "cell_type": "code",
   "execution_count": 5,
   "metadata": {},
   "outputs": [],
   "source": [
    "tfidf_vectorizer = TfidfVectorizer(max_df=0.9,min_df=5)\n",
    "Xv = tfidf_vectorizer.fit_transform(New_pd['Article'].values.astype('U')) \n",
    "\n",
    "    \n",
    "Xv = pd.DataFrame(Xv.todense())\n",
    "X_train,X_test,y_train,y_test = train_test_split(Xv,New_pd['Target'], test_size=0.3,stratify=New_pd['Target'])\n",
    "\n",
    "ros = RandomOverSampler()\n",
    "X_train,y_train = ros.fit_resample(X_train, y_train)"
   ]
  },
  {
   "cell_type": "markdown",
   "metadata": {},
   "source": [
    "## Naive Bayes "
   ]
  },
  {
   "cell_type": "code",
   "execution_count": 7,
   "metadata": {},
   "outputs": [
    {
     "name": "stdout",
     "output_type": "stream",
     "text": [
      "\n",
      "Metrics\n",
      "\n",
      " Recall metric: 0.8590502477154408\n",
      " F1 metric: 0.8306994607813166\n",
      " Precision metric: 0.812077843687717\n",
      " Accuracy metric: 0.843429339749487\n",
      " Balanced Accuracy metric: 0.8590502477154408 \n",
      "\n",
      "**************************************************\n",
      "\n",
      "Normalized confusion matrix\n",
      "[[0.859 0.016 0.047 0.052 0.013 0.013]\n",
      " [0.013 0.833 0.058 0.063 0.016 0.016]\n",
      " [0.032 0.027 0.812 0.064 0.038 0.027]\n",
      " [0.035 0.025 0.076 0.831 0.016 0.018]\n",
      " [0.003 0.008 0.045 0.011 0.924 0.008]\n",
      " [0.005 0.008 0.045 0.023 0.024 0.894]]\n"
     ]
    },
    {
     "data": {
      "image/png": "[encoded data removed]",
      "text/plain": [
       "<Figure size 432x288 with 2 Axes>"
      ]
     },
     "metadata": {
      "needs_background": "light"
     },
     "output_type": "display_data"
    }
   ],
   "source": [
    "alpha = 0.6 # This is the smoothing parameter for Laplace/Lidstone smoothing\n",
    "model = naive_bayes.MultinomialNB(alpha=alpha)\n",
    "\n",
    "model.fit(X_train,y_train)\n",
    "y_predicted = model.predict(X_test)\n",
    "\n",
    "print(\"\\nMetrics\\n\")\n",
    "recall = metrics.recall_score(y_test,y_predicted,average='macro')\n",
    "precision = metrics.precision_score(y_test,y_predicted,average='macro')\n",
    "f1 = metrics.f1_score(y_test,y_predicted,average='macro')\n",
    "Accur=metrics.accuracy_score(y_test,y_predicted)\n",
    "B_Accur=metrics.balanced_accuracy_score(y_test,y_predicted)\n",
    "\n",
    "print(' Recall metric:',recall)\n",
    "print(' F1 metric:',f1)\n",
    "print(' Precision metric:',precision)\n",
    "print(' Accuracy metric:',Accur)\n",
    "print(' Balanced Accuracy metric:',B_Accur,\"\\n\")\n",
    "print(\"**************************************************\\n\")\n",
    "\n",
    "cnf_matrix = confusion_matrix(y_test, y_predicted,labels=[0, 1, 2, 3, 4, 5])\n",
    "np.set_printoptions(precision=3)\n",
    "\n",
    "plt.figure()\n",
    "plot_confusion_matrix(cnf_matrix, classes=[0, 1, 2, 3, 4, 5],\n",
    "                  title='Confusion matrix, with normalization')\n"
   ]
  },
  {
   "cell_type": "markdown",
   "metadata": {},
   "source": [
    "## Random Forest"
   ]
  },
  {
   "cell_type": "code",
   "execution_count": 9,
   "metadata": {},
   "outputs": [
    {
     "name": "stdout",
     "output_type": "stream",
     "text": [
      "\n",
      "Metrics with OverSampling\n",
      "\n",
      " Recall metric: 0.797915135843461\n",
      " F1 metric: 0.7997098448964693\n",
      " Precision metric: 0.8033910380846224\n",
      " Accuracy metric: 0.7812964404500743\n",
      " Balanced Accuracy metric: 0.797915135843461 \n",
      "\n",
      "**************************************************\n",
      "\n",
      "Normalized confusion matrix\n",
      "[[0.853 0.036 0.044 0.058 0.003 0.006]\n",
      " [0.095 0.786 0.047 0.064 0.002 0.006]\n",
      " [0.117 0.043 0.731 0.074 0.02  0.015]\n",
      " [0.155 0.059 0.083 0.692 0.003 0.008]\n",
      " [0.02  0.013 0.07  0.016 0.875 0.006]\n",
      " [0.047 0.021 0.034 0.038 0.009 0.851]]\n"
     ]
    },
    {
     "data": {
      "image/png": "[encoded data removed]",
      "text/plain": [
       "<Figure size 432x288 with 2 Axes>"
      ]
     },
     "metadata": {
      "needs_background": "light"
     },
     "output_type": "display_data"
    }
   ],
   "source": [
    "model2 = RandomForestClassifier(n_estimators=30, max_features=\"auto\", n_jobs=-1,class_weight='balanced')\n",
    "model2.fit(X_train,y_train)\n",
    "y_predicted = model2.predict(X_test)\n",
    "\n",
    "print(\"\\nMetrics with OverSampling\\n\")\n",
    "recall = metrics.recall_score(y_test,y_predicted,average='macro')\n",
    "precision = metrics.precision_score(y_test,y_predicted,average='macro')\n",
    "f1 = metrics.f1_score(y_test,y_predicted,average='macro')\n",
    "Accur=metrics.accuracy_score(y_test,y_predicted)\n",
    "B_Accur=metrics.balanced_accuracy_score(y_test,y_predicted)\n",
    "\n",
    "print(' Recall metric:',recall)\n",
    "print(' F1 metric:',f1)\n",
    "print(' Precision metric:',precision)\n",
    "print(' Accuracy metric:',Accur)\n",
    "print(' Balanced Accuracy metric:',B_Accur,\"\\n\")\n",
    "print(\"**************************************************\\n\")\n",
    "\n",
    "cnf_matrix = confusion_matrix(y_test, y_predicted,labels=[0, 1, 2, 3, 4, 5])\n",
    "np.set_printoptions(precision=3)\n",
    "\n",
    "plt.figure()\n",
    "plot_confusion_matrix(cnf_matrix, classes=[0, 1, 2, 3, 4, 5],\n",
    "                  title='Confusion matrix, with normalization')"
   ]
  },
  {
   "cell_type": "code",
   "execution_count": null,
   "metadata": {},
   "outputs": [],
   "source": []
  }
 ],
 "metadata": {
  "kernelspec": {
   "display_name": "Python 3",
   "language": "python",
   "name": "python3"
  },
  "language_info": {
   "codemirror_mode": {
    "name": "ipython",
    "version": 3
   },
   "file_extension": ".py",
   "mimetype": "text/x-python",
   "name": "python",
   "nbconvert_exporter": "python",
   "pygments_lexer": "ipython3",
   "version": "3.7.7"
  }
 },
 "nbformat": 4,
 "nbformat_minor": 4
}
