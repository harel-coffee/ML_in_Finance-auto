{
 "cells": [
  {
   "cell_type": "code",
   "execution_count": 1,
   "metadata": {},
   "outputs": [
    {
     "name": "stderr",
     "output_type": "stream",
     "text": [
      "C:\\Users\\Almalis\\Anaconda3\\lib\\site-packages\\sklearn\\utils\\deprecation.py:143: FutureWarning: The sklearn.neighbors.base module is  deprecated in version 0.22 and will be removed in version 0.24. The corresponding classes / functions should instead be imported from sklearn.neighbors. Anything that cannot be imported from sklearn.neighbors is now part of the private API.\n",
      "  warnings.warn(message, FutureWarning)\n"
     ]
    }
   ],
   "source": [
    "import pandas as pd\n",
    "import json\n",
    "import numpy as np\n",
    "import re\n",
    "from nltk.stem.porter import *\n",
    "from nltk.corpus import stopwords\n",
    "from sklearn.model_selection import train_test_split\n",
    "from sklearn import model_selection,metrics,naive_bayes,preprocessing\n",
    "from sklearn.ensemble import RandomForestClassifier\n",
    "from sklearn.multiclass import OneVsRestClassifier\n",
    "from sklearn.feature_extraction.text import TfidfVectorizer\n",
    "from sklearn.metrics import confusion_matrix\n",
    "import matplotlib.pyplot as plt\n",
    "import six\n",
    "import sys\n",
    "sys.modules['sklearn.externals.six'] = six\n",
    "from imblearn.over_sampling import RandomOverSampler\n",
    "stemmer = PorterStemmer()\n",
    "import warnings\n",
    "warnings.filterwarnings('ignore')"
   ]
  },
  {
   "cell_type": "code",
   "execution_count": 2,
   "metadata": {},
   "outputs": [],
   "source": [
    "def plot_confusion_matrix(cm, classes,\n",
    "                          normalize=True,\n",
    "                          title='Confusion matrix',\n",
    "                          cmap=plt.cm.Blues):\n",
    "    \n",
    "    import itertools\n",
    "    if normalize:\n",
    "        cm = cm.astype('float') / cm.sum(axis=1)[:, np.newaxis]\n",
    "        print(\"Normalized confusion matrix\")\n",
    "    else:\n",
    "        print('Confusion matrix, without normalization')\n",
    "\n",
    "    print(cm)\n",
    "\n",
    "    plt.imshow(cm, interpolation='nearest', cmap=cmap)\n",
    "    plt.title(title)\n",
    "    plt.colorbar()\n",
    "    tick_marks = np.arange(len(classes))\n",
    "    plt.xticks(tick_marks, classes, rotation=45)\n",
    "    plt.yticks(tick_marks, classes)\n",
    "\n",
    "    fmt = '.2f' if normalize else 'd'\n",
    "    thresh = cm.max() / 2.\n",
    "    for i, j in itertools.product(range(cm.shape[0]), range(cm.shape[1])):\n",
    "        plt.text(j, i, format(cm[i, j], fmt),\n",
    "                 horizontalalignment=\"center\",\n",
    "                 color=\"white\" if cm[i, j] > thresh else \"black\")\n",
    "\n",
    "    plt.ylabel('True label')\n",
    "    plt.xlabel('Predicted label')\n",
    "    plt.tight_layout()"
   ]
  },
  {
   "cell_type": "code",
   "execution_count": 3,
   "metadata": {},
   "outputs": [],
   "source": [
    "def clean_data(X):\n",
    "    STOPWORDS = set(stopwords.words('english'))\n",
    "    X=X.str.lower()\n",
    "    X=X.str.replace(\"[/(){}\\[\\]\\|@,;]\", \" \")\n",
    "    X=X.str.replace(\"[^0-9a-z #+_]\", \" \")\n",
    "    X = X.str.replace(r'\\d+','')\n",
    "    X = X.apply(lambda x: ' '.join([w for w in str(x).split() if (len(w)>2 and w not in STOPWORDS) ] ))\n",
    "    X = X.apply(lambda x: x.split()) \n",
    "    return X\n",
    "\n",
    "def Preprocess(JsonFile,number_of_sector,text_Sector,Csvname):\n",
    "    with open(JsonFile,\"r\") as fp:\n",
    "    #with open(\"General_Market.json\",encoding='utf8') as fp:\n",
    "        json_d = json.load(fp)\n",
    "\n",
    "    ticks_d = json_d['data']\n",
    "    df = pd.DataFrame(ticks_d)\n",
    "\n",
    "    X= pd.DataFrame(columns=['Article','Target'])\n",
    "    X['Article']=df['title']+\" \"+df['text']\n",
    "    X['Target']=number_of_sector\n",
    "    \n",
    "    print(\"Number of Examples in \",text_Sector,\" : \",len(X),\"\\n\")\n",
    "    X.drop_duplicates(inplace=True)\n",
    "    X.index = range(len(X))\n",
    "    print(\"Number of Examples after removing duplicates: \",len(X),\"\\n\")\n",
    "\n",
    "    print('Number of words before cleaning : ',X['Article'].apply(lambda x: len(str(x).split(' '))).sum())\n",
    "    X['Article']=clean_data(X['Article'])\n",
    "    print('Number of words after cleaning : ',X['Article'].apply(lambda x: len(str(x).split(' '))).sum())\n",
    "    print(\"\\n*****************************************************************************\\n\")\n",
    "    \n",
    "    X['Article']= X['Article'].apply(lambda x: [stemmer.stem(i) for i in x]) # stemming\n",
    "    for i in range(len(X['Article'])): #φέρνω τα tokens ξανά μαζί διαχωριζόμενα με κενά\n",
    "        X['Article'][i] = ' '.join(X['Article'][i])\n",
    "    \n",
    "    #Xv = X['Article'].to_frame()\n",
    "    X.to_csv (Csvname, index = False, header=True)"
   ]
  },
  {
   "cell_type": "code",
   "execution_count": 4,
   "metadata": {},
   "outputs": [
    {
     "name": "stdout",
     "output_type": "stream",
     "text": [
      "Number of Examples in  Technology news  :  27387 \n",
      "\n",
      "Number of Examples after removing duplicates:  26934 \n",
      "\n",
      "Number of words before cleaning :  985859\n",
      "Number of words after cleaning :  659009\n",
      "\n",
      "*****************************************************************************\n",
      "\n",
      "Number of Examples in  Health news  :  19238 \n",
      "\n",
      "Number of Examples after removing duplicates:  18013 \n",
      "\n",
      "Number of words before cleaning :  757677\n",
      "Number of words after cleaning :  506572\n",
      "\n",
      "*****************************************************************************\n",
      "\n",
      "Number of Examples in  Financial news  :  20000 \n",
      "\n",
      "Number of Examples after removing duplicates:  19270 \n",
      "\n",
      "Number of words before cleaning :  751401\n",
      "Number of words after cleaning :  496665\n",
      "\n",
      "*****************************************************************************\n",
      "\n",
      "Number of Examples in  Consumer news  :  21240 \n",
      "\n",
      "Number of Examples after removing duplicates:  20279 \n",
      "\n",
      "Number of words before cleaning :  714316\n",
      "Number of words after cleaning :  467897\n",
      "\n",
      "*****************************************************************************\n",
      "\n",
      "Number of Examples in  Energy news  :  4319 \n",
      "\n",
      "Number of Examples after removing duplicates:  3965 \n",
      "\n",
      "Number of words before cleaning :  137424\n",
      "Number of words after cleaning :  90364\n",
      "\n",
      "*****************************************************************************\n",
      "\n",
      "Number of Examples in  Commodity news  :  6766 \n",
      "\n",
      "Number of Examples after removing duplicates:  5743 \n",
      "\n",
      "Number of words before cleaning :  222342\n",
      "Number of words after cleaning :  143289\n",
      "\n",
      "*****************************************************************************\n",
      "\n",
      "Number of  Technology  examples :  26934\n",
      "Number of  Health  examples :  18013\n",
      "Number of  Financial  examples :  19270\n",
      "Number of  Consumer  examples :  20279\n",
      "Number of  Energy  examples :  3965\n",
      "Number of  Commodity  examples :  5743\n"
     ]
    }
   ],
   "source": [
    "#Technology=0,Health=1,Financial=2,Consumer=3,Energy=4,Commodity=5\n",
    "\n",
    "Preprocess('Technology_news.json',0,'Technology news','Technology.csv')\n",
    "Preprocess('Health_news.json',1,'Health news','Health.csv')\n",
    "Preprocess('Financial_news.json',2,'Financial news','Financial.csv')\n",
    "Preprocess('Consumer_news.json',3,'Consumer news','Consumer.csv')\n",
    "Preprocess('Energy_news.json',4,'Energy news','Energy.csv')\n",
    "Preprocess('Commodity_news.json',5,'Commodity news','Commodity.csv')\n",
    "\n",
    "Tech_df = pd.read_csv(\"Technology.csv\")\n",
    "Health_df=pd.read_csv(\"Health.csv\")\n",
    "Financial_df=pd.read_csv(\"Financial.csv\")\n",
    "Consumer_df=pd.read_csv(\"Consumer.csv\")\n",
    "Energy_df=pd.read_csv(\"Energy.csv\")\n",
    "Commodity_df=pd.read_csv(\"Commodity.csv\")\n",
    "\n",
    "New_pd = pd.concat([Tech_df,Health_df], ignore_index=True)\n",
    "New_pd2 = pd.concat([Financial_df,Consumer_df], ignore_index=True)\n",
    "New_pd3 = pd.concat([Energy_df,Commodity_df], ignore_index=True)\n",
    "New_pd = pd.concat([New_pd,New_pd2], ignore_index=True)\n",
    "New_pd = pd.concat([New_pd,New_pd3], ignore_index=True)\n",
    "\n",
    "New_pd.index = range(len(New_pd))\n",
    "\n",
    "New_pd = New_pd.sample(frac=1).reset_index(drop=True)\n",
    "\n",
    "Names=['Technology','Health','Financial','Consumer','Energy','Commodity']\n",
    "Values=[]\n",
    "\n",
    "for i in range(6):\n",
    "    Values.append((New_pd['Target']==i).sum())\n",
    "    print('Number of ',Names[i],' examples : ',Values[i])"
   ]
  },
  {
   "cell_type": "code",
   "execution_count": 5,
   "metadata": {},
   "outputs": [],
   "source": [
    "tfidf_vectorizer = TfidfVectorizer(max_df=0.9,min_df=5)\n",
    "Xv = tfidf_vectorizer.fit_transform(New_pd['Article'].values.astype('U')) \n",
    "\n",
    "    \n",
    "Xv = pd.DataFrame(Xv.todense())\n",
    "X_train,X_test,y_train,y_test = train_test_split(Xv,New_pd['Target'], test_size=0.3,stratify=New_pd['Target'])\n",
    "\n",
    "ros = RandomOverSampler()\n",
    "X_train,y_train = ros.fit_resample(X_train, y_train)"
   ]
  },
  {
   "cell_type": "markdown",
   "metadata": {},
   "source": [
    "## Naive Bayes"
   ]
  },
  {
   "cell_type": "code",
   "execution_count": 6,
   "metadata": {},
   "outputs": [
    {
     "name": "stdout",
     "output_type": "stream",
     "text": [
      "Normalized confusion matrix\n",
      "[[8.528e-01 1.559e-02 4.802e-02 5.297e-02 1.572e-02 1.485e-02]\n",
      " [1.499e-02 8.390e-01 5.126e-02 6.606e-02 1.332e-02 1.536e-02]\n",
      " [3.269e-02 2.024e-02 8.140e-01 6.746e-02 3.684e-02 2.871e-02]\n",
      " [3.534e-02 2.811e-02 7.610e-02 8.230e-01 1.841e-02 1.907e-02]\n",
      " [8.403e-04 4.202e-03 3.529e-02 1.429e-02 9.353e-01 1.008e-02]\n",
      " [6.384e-03 5.223e-03 4.005e-02 2.263e-02 2.205e-02 9.037e-01]]\n",
      "\n",
      "\n",
      "              precision    recall  f1-score   support\n",
      "\n",
      "           0      0.933     0.853     0.891      8080\n",
      "           1      0.914     0.839     0.875      5404\n",
      "           2      0.792     0.814     0.803      5781\n",
      "           3      0.803     0.823     0.813      6084\n",
      "           4      0.664     0.935     0.777      1190\n",
      "           5      0.758     0.904     0.824      1723\n",
      "\n",
      "    accuracy                          0.842     28262\n",
      "   macro avg      0.811     0.861     0.830     28262\n",
      "weighted avg      0.850     0.842     0.844     28262\n",
      "\n"
     ]
    },
    {
     "data": {
      "image/png": "[encoded data removed]",
      "text/plain": [
       "<Figure size 432x288 with 2 Axes>"
      ]
     },
     "metadata": {
      "needs_background": "light"
     },
     "output_type": "display_data"
    }
   ],
   "source": [
    "alpha = 0.6 # This is the smoothing parameter for Laplace/Lidstone smoothing\n",
    "model = naive_bayes.MultinomialNB(alpha=alpha)\n",
    "\n",
    "model.fit(X_train,y_train)\n",
    "y_predicted = model.predict(X_test)\n",
    "\n",
    "cnf_matrix = confusion_matrix(y_test, y_predicted,labels=[0, 1, 2, 3, 4, 5])\n",
    "np.set_printoptions(precision=3)\n",
    "\n",
    "plt.figure()\n",
    "plot_confusion_matrix(cnf_matrix, classes=[0, 1, 2, 3, 4, 5],\n",
    "                  title='Confusion matrix, with normalization')\n",
    "\n",
    "print(\"\\n\")\n",
    "print(metrics.classification_report(y_test, y_predicted, digits=3))"
   ]
  },
  {
   "cell_type": "markdown",
   "metadata": {},
   "source": [
    "## Random Forest"
   ]
  },
  {
   "cell_type": "code",
   "execution_count": 7,
   "metadata": {},
   "outputs": [
    {
     "name": "stdout",
     "output_type": "stream",
     "text": [
      "\n",
      "Metrics with OverSampling\n",
      "\n",
      " Recall metric: 0.8083369345057926\n",
      " F1 metric: 0.8079317949233548\n",
      " Precision metric: 0.8093100409373483\n",
      " Accuracy metric: 0.7901422404642275\n",
      " Balanced Accuracy metric: 0.8083369345057926 \n",
      "\n",
      "**************************************************\n",
      "\n",
      "Normalized confusion matrix\n",
      "[[0.861 0.033 0.043 0.054 0.003 0.006]\n",
      " [0.09  0.788 0.042 0.071 0.002 0.006]\n",
      " [0.104 0.04  0.745 0.074 0.018 0.017]\n",
      " [0.151 0.06  0.077 0.7   0.004 0.008]\n",
      " [0.02  0.012 0.056 0.011 0.891 0.01 ]\n",
      " [0.041 0.021 0.033 0.032 0.009 0.865]]\n",
      "\n",
      "\n",
      "              precision    recall  f1-score   support\n",
      "\n",
      "           0      0.768     0.861     0.812      8080\n",
      "           1      0.824     0.788     0.805      5404\n",
      "           2      0.786     0.745     0.765      5781\n",
      "           3      0.763     0.700     0.730      6084\n",
      "           4      0.853     0.891     0.872      1190\n",
      "           5      0.862     0.865     0.864      1723\n",
      "\n",
      "    accuracy                          0.790     28262\n",
      "   macro avg      0.809     0.808     0.808     28262\n",
      "weighted avg      0.791     0.790     0.789     28262\n",
      "\n"
     ]
    },
    {
     "data": {
      "image/png": "[encoded data removed]",
      "text/plain": [
       "<Figure size 432x288 with 2 Axes>"
      ]
     },
     "metadata": {
      "needs_background": "light"
     },
     "output_type": "display_data"
    }
   ],
   "source": [
    "model2 = RandomForestClassifier(n_estimators=100, max_features=\"auto\", n_jobs=-1,class_weight='balanced')\n",
    "model2.fit(X_train,y_train)\n",
    "y_predicted = model2.predict(X_test)\n",
    "\n",
    "print(\"\\nMetrics with OverSampling\\n\")\n",
    "recall = metrics.recall_score(y_test,y_predicted,average='macro')\n",
    "precision = metrics.precision_score(y_test,y_predicted,average='macro')\n",
    "f1 = metrics.f1_score(y_test,y_predicted,average='macro')\n",
    "Accur=metrics.accuracy_score(y_test,y_predicted)\n",
    "B_Accur=metrics.balanced_accuracy_score(y_test,y_predicted)\n",
    "\n",
    "print(' Recall metric:',recall)\n",
    "print(' F1 metric:',f1)\n",
    "print(' Precision metric:',precision)\n",
    "print(' Accuracy metric:',Accur)\n",
    "print(' Balanced Accuracy metric:',B_Accur,\"\\n\")\n",
    "print(\"**************************************************\\n\")\n",
    "\n",
    "cnf_matrix = confusion_matrix(y_test, y_predicted,labels=[0, 1, 2, 3, 4, 5])\n",
    "np.set_printoptions(precision=3)\n",
    "\n",
    "plt.figure()\n",
    "plot_confusion_matrix(cnf_matrix, classes=[0, 1, 2, 3, 4, 5],\n",
    "                  title='Confusion matrix, with normalization')\n",
    "print(\"\\n\")\n",
    "print(metrics.classification_report(y_test, y_predicted, digits=3))"
   ]
  }
 ],
 "metadata": {
  "kernelspec": {
   "display_name": "Python 3",
   "language": "python",
   "name": "python3"
  },
  "language_info": {
   "codemirror_mode": {
    "name": "ipython",
    "version": 3
   },
   "file_extension": ".py",
   "mimetype": "text/x-python",
   "name": "python",
   "nbconvert_exporter": "python",
   "pygments_lexer": "ipython3",
   "version": "3.7.7"
  }
 },
 "nbformat": 4,
 "nbformat_minor": 4
}
