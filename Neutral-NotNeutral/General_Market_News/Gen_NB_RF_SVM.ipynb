{
 "cells": [
  {
   "cell_type": "code",
   "execution_count": 1,
   "metadata": {},
   "outputs": [
    {
     "name": "stderr",
     "output_type": "stream",
     "text": [
      "C:\\Users\\Almalis\\Anaconda3\\lib\\site-packages\\sklearn\\utils\\deprecation.py:143: FutureWarning: The sklearn.neighbors.base module is  deprecated in version 0.22 and will be removed in version 0.24. The corresponding classes / functions should instead be imported from sklearn.neighbors. Anything that cannot be imported from sklearn.neighbors is now part of the private API.\n",
      "  warnings.warn(message, FutureWarning)\n"
     ]
    }
   ],
   "source": [
    "import pandas as pd\n",
    "import json\n",
    "import numpy as np\n",
    "import re\n",
    "from nltk.stem.porter import *\n",
    "from nltk.corpus import stopwords\n",
    "from sklearn.model_selection import train_test_split\n",
    "from sklearn import model_selection,metrics,naive_bayes,preprocessing\n",
    "from sklearn.preprocessing import MinMaxScaler\n",
    "from sklearn.svm import SVC\n",
    "from sklearn.ensemble import RandomForestClassifier\n",
    "from sklearn.feature_extraction.text import TfidfVectorizer\n",
    "from sklearn.metrics import confusion_matrix\n",
    "from sklearn.model_selection import GridSearchCV\n",
    "from sklearn.decomposition import PCA\n",
    "from sklearn.discriminant_analysis import LinearDiscriminantAnalysis\n",
    "import matplotlib.pyplot as plt\n",
    "import warnings\n",
    "import six\n",
    "import sys\n",
    "sys.modules['sklearn.externals.six'] = six\n",
    "from imblearn.over_sampling import RandomOverSampler\n",
    "from imblearn.under_sampling import RandomUnderSampler\n",
    "stemmer = PorterStemmer()\n",
    "warnings.filterwarnings('ignore')\n",
    "mypca = PCA(0.9)\n",
    "lda = LinearDiscriminantAnalysis(n_components=1)"
   ]
  },
  {
   "cell_type": "code",
   "execution_count": 2,
   "metadata": {},
   "outputs": [],
   "source": [
    "def plot_confusion_matrix(cm, classes,\n",
    "                          normalize=True,\n",
    "                          title='Confusion matrix',\n",
    "                          cmap=plt.cm.Blues):\n",
    "    \n",
    "    import itertools\n",
    "    if normalize:\n",
    "        cm = cm.astype('float') / cm.sum(axis=1)[:, np.newaxis]\n",
    "        print(\"Normalized confusion matrix\")\n",
    "    else:\n",
    "        print('Confusion matrix, without normalization')\n",
    "\n",
    "    print(cm)\n",
    "\n",
    "    plt.imshow(cm, interpolation='nearest', cmap=cmap)\n",
    "    plt.title(title)\n",
    "    plt.colorbar()\n",
    "    tick_marks = np.arange(len(classes))\n",
    "    plt.xticks(tick_marks, classes, rotation=45)\n",
    "    plt.yticks(tick_marks, classes)\n",
    "\n",
    "    fmt = '.2f' if normalize else 'd'\n",
    "    thresh = cm.max() / 2.\n",
    "    for i, j in itertools.product(range(cm.shape[0]), range(cm.shape[1])):\n",
    "        plt.text(j, i, format(cm[i, j], fmt),\n",
    "                 horizontalalignment=\"center\",\n",
    "                 color=\"white\" if cm[i, j] > thresh else \"black\")\n",
    "\n",
    "    plt.ylabel('True label')\n",
    "    plt.xlabel('Predicted label')\n",
    "    plt.tight_layout()"
   ]
  },
  {
   "cell_type": "code",
   "execution_count": 3,
   "metadata": {},
   "outputs": [],
   "source": [
    "def clean_data(X):\n",
    "    STOPWORDS = set(stopwords.words('english'))\n",
    "    X=X.str.lower()\n",
    "    X=X.str.replace(\"[/(){}\\[\\]\\|@,;]\", \" \")\n",
    "    X=X.str.replace(\"[^0-9a-z #+_]\", \" \")\n",
    "    X = X.str.replace(r'\\d+','')\n",
    "    X = X.apply(lambda x: ' '.join([w for w in str(x).split() if (len(w)>2 and w not in STOPWORDS) ] ))\n",
    "    X = X.apply(lambda x: x.split()) \n",
    "    return X\n",
    "\n",
    "def target_arrange(y):\n",
    "    \n",
    "    for i in range(len(y)):\n",
    "        if y.values[i]==\"Neutral\":\n",
    "            y.values[i]=0.0\n",
    "        else:\n",
    "            y.values[i]=1.0\n",
    "            \n",
    "    y=y.to_numpy()  \n",
    "    y=y.reshape(y.shape[0],1)\n",
    "    y= pd.DataFrame(data=y)\n",
    "    y=np.ravel(y)\n",
    "    y=y.astype('float')\n",
    "    return y\n",
    "\n",
    "def select_n_components(ratio, goal):\n",
    "        # Set initial variance explained so far\n",
    "        s=0.0 \n",
    "        # Set initial number of features\n",
    "        num_components = 0\n",
    "\n",
    "        for i in ratio:\n",
    "            s += i\n",
    "            num_components += 1\n",
    "            if s >= goal:\n",
    "                break\n",
    "\n",
    "        # Return the number of components\n",
    "        return num_components"
   ]
  },
  {
   "cell_type": "code",
   "execution_count": 4,
   "metadata": {},
   "outputs": [
    {
     "name": "stdout",
     "output_type": "stream",
     "text": [
      "Number of Examples :  65590\n",
      "Number of Examples after removing duplicates:  65085 \n",
      "\n",
      "Number of words before cleaning :  2528608\n",
      "Number of words after cleaning :  1678934\n",
      "\n",
      "\n",
      "Neutral Examples :  32563\n",
      "Not Neutral Examples :  32522\n"
     ]
    }
   ],
   "source": [
    "with open(\"All_Tickers.json\",\"r\") as fp:\n",
    "#with open(\"General_Market.json\",encoding='utf8') as fp:\n",
    "    json_d = json.load(fp)\n",
    " \n",
    "ticks_d = json_d['data']\n",
    "df = pd.DataFrame(ticks_d)\n",
    "\n",
    "X= pd.DataFrame(columns=['Date', 'Article','Target'])\n",
    "X['Date']=pd.to_datetime(df['date'])\n",
    "X['Article']=df['title']+\" \"+df['text']\n",
    "X['Target']=df['sentiment']\n",
    "\n",
    "X=X.sort_values(\"Date\")\n",
    "print(\"Number of Examples : \",len(X))\n",
    "X.drop_duplicates(inplace=True)\n",
    "X.index = range(len(X))\n",
    "print(\"Number of Examples after removing duplicates: \",len(X),\"\\n\")\n",
    "X.to_csv (r'Tech.csv', index = False, header=True)\n",
    "\n",
    "print('Number of words before cleaning : ',X['Article'].apply(lambda x: len(str(x).split(' '))).sum())\n",
    "X['Article']=clean_data(X['Article'])\n",
    "print('Number of words after cleaning : ',X['Article'].apply(lambda x: len(str(x).split(' '))).sum())\n",
    "print(\"\\n\")\n",
    "\n",
    "y=target_arrange(X['Target'])\n",
    "\n",
    "print(\"Neutral Examples : \",(y==0.0).sum())\n",
    "print(\"Not Neutral Examples : \",(y==1.0).sum())"
   ]
  },
  {
   "cell_type": "code",
   "execution_count": 5,
   "metadata": {},
   "outputs": [
    {
     "name": "stdout",
     "output_type": "stream",
     "text": [
      "0        nyse presid coronaviru see unpreced uncertain ...\n",
      "1                  big stock fundament big stock fundament\n",
      "2        weekli updat good dose fear void common sens w...\n",
      "3        sell panic may miss market best day bank ameri...\n",
      "4        wall street wildest week year wall street anot...\n",
      "                               ...                        \n",
      "65080    macroview astonish lack valu valu macroview as...\n",
      "65081    post crash reflat trade fade post crash reflat...\n",
      "65082    septemb selloff healthi correct start new bear...\n",
      "65083    geeli maker polestar plan new plant precept mo...\n",
      "65084    china gac bmw expect china sale grow year chin...\n",
      "Name: Article, Length: 65085, dtype: object\n"
     ]
    }
   ],
   "source": [
    "X['Article']= X['Article'].apply(lambda x: [stemmer.stem(i) for i in x]) # stemming\n",
    "for i in range(len(X['Article'])): #φέρνω τα tokens ξανά μαζί διαχωριζόμενα με κενά\n",
    "    X['Article'][i] = ' '.join(X['Article'][i])\n",
    "\n",
    "print(X['Article'])"
   ]
  },
  {
   "cell_type": "code",
   "execution_count": 6,
   "metadata": {},
   "outputs": [],
   "source": [
    "tfidf_vectorizer = TfidfVectorizer(max_df=0.9,min_df=5)\n",
    "Xv = tfidf_vectorizer.fit_transform(X['Article'])\n",
    "Xv = pd.DataFrame(Xv.todense())\n",
    "X_train,X_test,y_train,y_test = train_test_split(Xv,y, test_size=0.3,stratify=y)\n",
    "\n",
    "ros = RandomOverSampler()\n",
    "X_train,y_train = ros.fit_resample(X_train, y_train)\n",
    "\n",
    "#PCA and LDA for SVM\n",
    "\n",
    "scaler = MinMaxScaler()\n",
    "X_train1 = scaler.fit_transform(X_train)\n",
    "X_test1 = scaler.transform(X_test)\n",
    "\n",
    "X_train_pca = mypca.fit_transform(X_train1)\n",
    "X_test_pca = mypca.transform(X_test1)\n",
    "\n",
    "X_train_pca = lda.fit_transform(X_train_pca, y_train)\n",
    "X_test_pca  = lda.transform(X_test_pca)\n"
   ]
  },
  {
   "cell_type": "markdown",
   "metadata": {},
   "source": [
    "## Naive Bayes"
   ]
  },
  {
   "cell_type": "code",
   "execution_count": 7,
   "metadata": {},
   "outputs": [
    {
     "name": "stdout",
     "output_type": "stream",
     "text": [
      "\n",
      "Metrics\n",
      "\n",
      " Recall metric: 0.783776776802307\n",
      " F1 metric: 0.7821516571471854\n",
      " Precision metric: 0.792277417958327\n",
      " Accuracy metric: 0.7837242650824542\n",
      " Balanced Accuracy metric: 0.783776776802307 \n",
      "\n",
      "**************************************************\n",
      "\n",
      "Normalized confusion matrix\n",
      "[[0.7  0.3 ]\n",
      " [0.13 0.87]]\n"
     ]
    },
    {
     "data": {
      "image/png": "[encoded data removed]",
      "text/plain": [
       "<Figure size 432x288 with 2 Axes>"
      ]
     },
     "metadata": {
      "needs_background": "light"
     },
     "output_type": "display_data"
    }
   ],
   "source": [
    "alpha = 0.2 # This is the smoothing parameter for Laplace/Lidstone smoothing\n",
    "model = naive_bayes.MultinomialNB(alpha=alpha)\n",
    "\n",
    "model.fit(X_train,y_train)\n",
    "y_predicted = model.predict(X_test)\n",
    "\n",
    "print(\"\\nMetrics\\n\")\n",
    "recall = metrics.recall_score(y_test,y_predicted,average='macro')\n",
    "precision = metrics.precision_score(y_test,y_predicted,average='macro')\n",
    "f1 = metrics.f1_score(y_test,y_predicted,average='macro')\n",
    "Accur=metrics.accuracy_score(y_test,y_predicted)\n",
    "B_Accur=metrics.balanced_accuracy_score(y_test,y_predicted)\n",
    "\n",
    "print(' Recall metric:',recall)\n",
    "print(' F1 metric:',f1)\n",
    "print(' Precision metric:',precision)\n",
    "print(' Accuracy metric:',Accur)\n",
    "print(' Balanced Accuracy metric:',B_Accur,\"\\n\")\n",
    "print(\"**************************************************\\n\")\n",
    "\n",
    "cnf_matrix = confusion_matrix(y_test, y_predicted,labels=[0.0, 1.0])\n",
    "np.set_printoptions(precision=2)\n",
    "\n",
    "plt.figure()\n",
    "plot_confusion_matrix(cnf_matrix, classes=[0.0, 1.0],\n",
    "                      title='Confusion matrix, with normalization')\n"
   ]
  },
  {
   "cell_type": "markdown",
   "metadata": {},
   "source": [
    "## Random Forest "
   ]
  },
  {
   "cell_type": "code",
   "execution_count": 8,
   "metadata": {},
   "outputs": [
    {
     "name": "stdout",
     "output_type": "stream",
     "text": [
      "\n",
      "Metrics\n",
      "\n",
      " Recall metric: 0.8191579173695601\n",
      " F1 metric: 0.818153952948129\n",
      " Precision metric: 0.8260952142245606\n",
      " Accuracy metric: 0.8191129775683704\n",
      " Balanced Accuracy metric: 0.8191579173695601 \n",
      "\n",
      "**************************************************\n",
      "\n",
      "Normalized confusion matrix\n",
      "[[0.75 0.25]\n",
      " [0.11 0.89]]\n"
     ]
    },
    {
     "data": {
      "image/png": "[encoded data removed]",
      "text/plain": [
       "<Figure size 432x288 with 2 Axes>"
      ]
     },
     "metadata": {
      "needs_background": "light"
     },
     "output_type": "display_data"
    }
   ],
   "source": [
    "model2 = RandomForestClassifier(n_estimators=100, max_features=\"auto\", n_jobs=-1,class_weight='balanced')\n",
    "model2.fit(X_train,y_train)\n",
    "y_predicted = model2.predict(X_test)\n",
    "\n",
    "print(\"\\nMetrics\\n\")\n",
    "recall = metrics.recall_score(y_test,y_predicted,average='macro')\n",
    "precision = metrics.precision_score(y_test,y_predicted,average='macro')\n",
    "f1 = metrics.f1_score(y_test,y_predicted,average='macro')\n",
    "Accur=metrics.accuracy_score(y_test,y_predicted)\n",
    "B_Accur=metrics.balanced_accuracy_score(y_test,y_predicted)\n",
    "\n",
    "print(' Recall metric:',recall)\n",
    "print(' F1 metric:',f1)\n",
    "print(' Precision metric:',precision)\n",
    "print(' Accuracy metric:',Accur)\n",
    "print(' Balanced Accuracy metric:',B_Accur,\"\\n\")\n",
    "print(\"**************************************************\\n\")\n",
    "\n",
    "cnf_matrix = confusion_matrix(y_test, y_predicted,labels=[0.0, 1.0])\n",
    "np.set_printoptions(precision=2)\n",
    "\n",
    "plt.figure()\n",
    "plot_confusion_matrix(cnf_matrix, classes=[0.0, 1.0],\n",
    "                      title='Confusion matrix, with normalization')"
   ]
  },
  {
   "cell_type": "markdown",
   "metadata": {},
   "source": [
    "## SVM"
   ]
  },
  {
   "cell_type": "code",
   "execution_count": 9,
   "metadata": {},
   "outputs": [
    {
     "name": "stdout",
     "output_type": "stream",
     "text": [
      "{'C': 0.1, 'gamma': 0.01, 'kernel': 'rbf'}\n",
      "\n",
      "Metrics\n",
      "\n",
      " Recall metric: 0.814424531889056\n",
      " F1 metric: 0.8141429570594528\n",
      " Precision metric: 0.8162117381279441\n",
      " Accuracy metric: 0.8144013110724163\n",
      " Balanced Accuracy metric: 0.814424531889056 \n",
      "\n",
      "**************************************************\n",
      "\n",
      "Normalized confusion matrix\n",
      "[[0.78 0.22]\n",
      " [0.15 0.85]]\n"
     ]
    },
    {
     "data": {
      "image/png": "[encoded data removed]",
      "text/plain": [
       "<Figure size 432x288 with 2 Axes>"
      ]
     },
     "metadata": {
      "needs_background": "light"
     },
     "output_type": "display_data"
    }
   ],
   "source": [
    "tuned_parameters = [\n",
    "  \n",
    "  {'C': [0.005, 0.01, 0.03, 0.1, 1, 10 ], 'gamma': [5, 1, 0.1, 0.01, 0.001, 0.0001, 0.00001], 'kernel': ['rbf']}\n",
    "  \n",
    " ]\n",
    "\n",
    "grid = GridSearchCV(SVC(class_weight='balanced', decision_function_shape='ovr'), tuned_parameters, n_jobs=-1, refit = True, cv=5) \n",
    "grid.fit(X_train_pca, y_train) \n",
    "print(grid.best_params_) \n",
    "grid_predictions = grid.predict(X_test_pca) \n",
    "\n",
    "print(\"\\nMetrics\\n\")\n",
    "recall = metrics.recall_score(y_test,grid_predictions ,average='macro')\n",
    "precision = metrics.precision_score(y_test,grid_predictions ,average='macro')\n",
    "f1 = metrics.f1_score(y_test,grid_predictions ,average='macro')\n",
    "Accur=metrics.accuracy_score(y_test,grid_predictions )\n",
    "B_Accur=metrics.balanced_accuracy_score(y_test,grid_predictions )\n",
    "\n",
    "print(' Recall metric:',recall)\n",
    "print(' F1 metric:',f1)\n",
    "print(' Precision metric:',precision)\n",
    "print(' Accuracy metric:',Accur)\n",
    "print(' Balanced Accuracy metric:',B_Accur,\"\\n\")\n",
    "print(\"**************************************************\\n\")\n",
    "\n",
    "cnf_matrix = confusion_matrix(y_test, grid_predictions ,labels=[0.0, 1.0])\n",
    "np.set_printoptions(precision=2)\n",
    "\n",
    "plt.figure()\n",
    "plot_confusion_matrix(cnf_matrix, classes=[0.0, 1.0],\n",
    "                      title='Confusion matrix, with normalization')"
   ]
  },
  {
   "cell_type": "code",
   "execution_count": null,
   "metadata": {},
   "outputs": [],
   "source": []
  }
 ],
 "metadata": {
  "kernelspec": {
   "display_name": "Python 3",
   "language": "python",
   "name": "python3"
  },
  "language_info": {
   "codemirror_mode": {
    "name": "ipython",
    "version": 3
   },
   "file_extension": ".py",
   "mimetype": "text/x-python",
   "name": "python",
   "nbconvert_exporter": "python",
   "pygments_lexer": "ipython3",
   "version": "3.7.7"
  }
 },
 "nbformat": 4,
 "nbformat_minor": 4
}
