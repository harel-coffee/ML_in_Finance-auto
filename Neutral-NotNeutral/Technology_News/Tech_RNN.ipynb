{
 "cells": [
  {
   "cell_type": "markdown",
   "metadata": {
    "id": "Vm-fmSGs_pRw"
   },
   "source": [
    "## Import Libraries"
   ]
  },
  {
   "cell_type": "code",
   "execution_count": 2,
   "metadata": {
    "colab": {
     "base_uri": "https://localhost:8080/",
     "height": 70
    },
    "id": "a5HnPotefAq7",
    "outputId": "8b19ee0f-ad81-402f-845b-037d56489730"
   },
   "outputs": [
    {
     "name": "stdout",
     "output_type": "stream",
     "text": [
      "[nltk_data] Downloading package stopwords to /root/nltk_data...\n",
      "[nltk_data]   Package stopwords is already up-to-date!\n",
      "GPU Model    Tesla T4\n"
     ]
    }
   ],
   "source": [
    ">>> import nltk\n",
    ">>> nltk.download('stopwords')\n",
    "import pandas as pd\n",
    "import json\n",
    "import numpy as np\n",
    "import re\n",
    "from nltk.stem.porter import *\n",
    "from nltk.corpus import stopwords\n",
    "from sklearn.model_selection import train_test_split\n",
    "import torch\n",
    "from torchtext import data\n",
    "import random\n",
    "import torch.nn as nn\n",
    "import torch.nn.functional as F\n",
    "import torch.optim as optim\n",
    "import time\n",
    "import seaborn as sns\n",
    "from sklearn.metrics import confusion_matrix\n",
    "import matplotlib.pyplot as plt\n",
    "import spacy\n",
    "lang = spacy.load('en')\n",
    "stemmer = PorterStemmer()\n",
    "import warnings\n",
    "warnings.filterwarnings('ignore')\n",
    "device = torch.device(\"cuda:0\" if torch.cuda.is_available() else \"cpu\")\n",
    "print(\"GPU Model   \",torch.cuda.get_device_name(0))\n",
    "import six\n",
    "import sys\n",
    "sys.modules['sklearn.externals.six'] = six\n",
    "from imblearn.over_sampling import RandomOverSampler"
   ]
  },
  {
   "cell_type": "markdown",
   "metadata": {
    "id": "qEWatbXn_4tk"
   },
   "source": [
    "## Confusion Matrix Method"
   ]
  },
  {
   "cell_type": "code",
   "execution_count": 3,
   "metadata": {
    "id": "UDGI_gcARDf3"
   },
   "outputs": [],
   "source": [
    "def plot_confusion_matrix(cm, classes,\n",
    "                          normalize=True,\n",
    "                          title='Confusion matrix',\n",
    "                          cmap=plt.cm.Blues):\n",
    "    \n",
    "    import itertools\n",
    "    if normalize:\n",
    "        cm = cm.astype('float') / cm.sum(axis=1)[:, np.newaxis]\n",
    "        print(\"Normalized confusion matrix\")\n",
    "    else:\n",
    "        print('Confusion matrix, without normalization')\n",
    "\n",
    "    print(cm)\n",
    "\n",
    "    plt.imshow(cm, interpolation='nearest', cmap=cmap)\n",
    "    plt.title(title)\n",
    "    plt.colorbar()\n",
    "    tick_marks = np.arange(len(classes))\n",
    "    plt.xticks(tick_marks, classes, rotation=45)\n",
    "    plt.yticks(tick_marks, classes)\n",
    "\n",
    "    fmt = '.2f' if normalize else 'd'\n",
    "    thresh = cm.max() / 2.\n",
    "    for i, j in itertools.product(range(cm.shape[0]), range(cm.shape[1])):\n",
    "        plt.text(j, i, format(cm[i, j], fmt),\n",
    "                 horizontalalignment=\"center\",\n",
    "                 color=\"white\" if cm[i, j] > thresh else \"black\")\n",
    "\n",
    "    plt.ylabel('True label')\n",
    "    plt.xlabel('Predicted label')\n",
    "    plt.tight_layout()"
   ]
  },
  {
   "cell_type": "markdown",
   "metadata": {
    "id": "k1QJQZjMAMB9"
   },
   "source": [
    "## Cleaning Data, Preprocessing"
   ]
  },
  {
   "cell_type": "code",
   "execution_count": 4,
   "metadata": {
    "id": "VCJKt_MyfAq-"
   },
   "outputs": [],
   "source": [
    "def clean_data(X):\n",
    "    STOPWORDS = set(stopwords.words('english'))\n",
    "    X=X.str.lower()\n",
    "    X=X.str.replace(\"[/(){}\\[\\]\\|@,;]\", \" \")\n",
    "    X=X.str.replace(\"[^0-9a-z #+_]\", \" \")\n",
    "    X = X.str.replace(r'\\d+','')\n",
    "    X = X.apply(lambda x: ' '.join([w for w in str(x).split() if (len(w)>2 and w not in STOPWORDS) ] ))\n",
    "    X = X.apply(lambda x: x.split()) \n",
    "    return X\n",
    "\n",
    "def target_arrange(y):\n",
    "    \n",
    "    for i in range(len(y)):\n",
    "        if y.values[i]==\"Neutral\":\n",
    "            y.values[i]=0\n",
    "        else:\n",
    "            y.values[i]=1\n",
    "            \n",
    "    y=y.to_numpy()  \n",
    "    y=y.reshape(y.shape[0],1)\n",
    "    y= pd.DataFrame(data=y)\n",
    "    y=np.ravel(y)\n",
    "    y=y.astype('float')\n",
    "    return y\n",
    "\n"
   ]
  },
  {
   "cell_type": "markdown",
   "metadata": {
    "id": "K641ejzYAZ5n"
   },
   "source": [
    "## Load Dataset and Process"
   ]
  },
  {
   "cell_type": "code",
   "execution_count": 5,
   "metadata": {
    "colab": {
     "base_uri": "https://localhost:8080/",
     "height": 210
    },
    "id": "39r_65tmfArB",
    "outputId": "16125bd2-9128-436f-b9eb-69e5850527cc"
   },
   "outputs": [
    {
     "name": "stdout",
     "output_type": "stream",
     "text": [
      "Number of Examples :  50637 \n",
      "\n",
      "Number of Examples after removing duplicates:  40335 \n",
      "\n",
      "Number of words before cleaning :  1605866\n",
      "Number of words after cleaning :  1075700\n",
      "\n",
      "******************\n",
      "\n",
      "Neutral Examples :  20119\n",
      "Not Neutral Examples :  20216\n"
     ]
    }
   ],
   "source": [
    "with open(\"Tech_news.json\",\"r\") as fp:\n",
    "#with open(\"General_Market.json\",encoding='utf8') as fp:\n",
    "    json_d = json.load(fp)\n",
    " \n",
    "ticks_d = json_d['data']\n",
    "df = pd.DataFrame(ticks_d)\n",
    "\n",
    "X= pd.DataFrame(columns=['Date', 'Article','Target'])\n",
    "X['Date']=pd.to_datetime(df['date'])\n",
    "X['Article']=df['title']+\" \"+df['text']\n",
    "X['Target']=df['sentiment']\n",
    "\n",
    "X=X.sort_values(\"Date\")\n",
    "\n",
    "print(\"Number of Examples : \",len(X),\"\\n\")\n",
    "X.drop_duplicates(inplace=True)\n",
    "X.index = range(len(X))\n",
    "print(\"Number of Examples after removing duplicates: \",len(X),\"\\n\")\n",
    "\n",
    "print('Number of words before cleaning : ',X['Article'].apply(lambda x: len(str(x).split(' '))).sum())\n",
    "X['Article']=clean_data(X['Article'])\n",
    "print('Number of words after cleaning : ',X['Article'].apply(lambda x: len(str(x).split(' '))).sum())\n",
    "print(\"\\n******************\\n\")\n",
    "\n",
    "X['Target']=target_arrange(X['Target'])\n",
    "X=X.drop('Date',1)\n",
    "\n",
    "print(\"Neutral Examples : \",(X['Target']==0).sum())\n",
    "print(\"Not Neutral Examples : \",(X['Target']==1).sum())\n"
   ]
  },
  {
   "cell_type": "markdown",
   "metadata": {
    "id": "Rl0HAGSaAjLl"
   },
   "source": [
    "## Stemming"
   ]
  },
  {
   "cell_type": "code",
   "execution_count": 6,
   "metadata": {
    "colab": {
     "base_uri": "https://localhost:8080/",
     "height": 316
    },
    "id": "F2Lyyf7vfArF",
    "outputId": "ebe45074-cfb2-469b-a065-c51ed52134f2"
   },
   "outputs": [
    {
     "name": "stdout",
     "output_type": "stream",
     "text": [
      "0        gtt commun gtt report loss lag revenu estim gt...\n",
      "1        greenski get anoth downgrad even though damag ...\n",
      "2        system ddd earn top revenu miss fall system dd...\n",
      "3        angi homeservic stock plung toward year low ea...\n",
      "4        match group stock get downgrad massiv ralli ma...\n",
      "                               ...                        \n",
      "40330    failur star war latest trilog teach invest pas...\n",
      "40331    everyon talk disney stock busi hit hard effect...\n",
      "40332    lockhe martin stock buy stock outperform past ...\n",
      "40333    amazon drone amazon com inc nasdaq amzn use dr...\n",
      "40334    geeli maker polestar plan new plant precept mo...\n",
      "Name: Article, Length: 40335, dtype: object\n",
      "\n",
      "\n",
      "\n",
      "Neutral Examples in Training after OverSampling:  11321\n",
      "Not Neutral Examples in Training after OverSampling:  11321\n"
     ]
    }
   ],
   "source": [
    "X['Article']= X['Article'].apply(lambda x: [stemmer.stem(i) for i in x]) # stemming\n",
    "for i in range(len(X['Article'])): #φέρνω τα tokens ξανά μαζί διαχωριζόμενα με κενά\n",
    "    X['Article'][i] = ' '.join(X['Article'][i])\n",
    "print(X['Article'])\n",
    "Xv = X['Article'].to_frame()\n",
    "\n",
    "X_train,X_test,y_train,y_test = train_test_split(Xv,X['Target'], test_size=0.3,stratify=X['Target'])\n",
    "X_train,X_val,y_train,y_val = train_test_split(X_train,y_train, test_size=0.2,stratify=y_train)\n",
    "\n",
    "ros = RandomOverSampler()\n",
    "X_train,y_train = ros.fit_resample(X_train, y_train)\n",
    "\n",
    "train=pd.DataFrame(columns=['Article','Target'])\n",
    "val = pd.DataFrame(columns=['Article','Target'])\n",
    "test= pd.DataFrame(columns=['Article','Target'])\n",
    "\n",
    "\n",
    "df = pd.DataFrame(data = X_train,columns=['Article'])\n",
    "df1= pd.DataFrame(data = y_train,columns=['Target'])\n",
    "train['Article']=df['Article']\n",
    "train['Target']=df1['Target']\n",
    "df = pd.DataFrame(data = X_test,columns=['Article'])\n",
    "df1= pd.DataFrame(data = y_test,columns=['Target'])\n",
    "test['Article']=df['Article']\n",
    "test['Target']=df1['Target']\n",
    "df = pd.DataFrame(data = X_val,columns=['Article'])\n",
    "df1= pd.DataFrame(data = y_val,columns=['Target'])\n",
    "val['Article']=df['Article']\n",
    "val['Target']=df1['Target']\n",
    "\n",
    "print(\"\\n\")\n",
    "print(\"\\nNeutral Examples in Training after OverSampling: \",(train['Target']==0).sum())\n",
    "print(\"Not Neutral Examples in Training after OverSampling: \",(train['Target']==1).sum())\n",
    "\n",
    "\n",
    "train.to_csv (r'Train_Tech.csv', index = False, header=True)\n",
    "test.to_csv (r'Test_Tech.csv', index = False, header=True)\n",
    "val.to_csv (r'Val_Tech.csv', index = False, header=True)\n"
   ]
  },
  {
   "cell_type": "markdown",
   "metadata": {
    "id": "gt3ddMjnAray"
   },
   "source": [
    "## Build Vocabulary"
   ]
  },
  {
   "cell_type": "code",
   "execution_count": 7,
   "metadata": {
    "colab": {
     "base_uri": "https://localhost:8080/",
     "height": 90
    },
    "id": "HmOB68OSfArK",
    "outputId": "51a4b5e7-ada1-41b7-9106-903b35081532"
   },
   "outputs": [
    {
     "name": "stdout",
     "output_type": "stream",
     "text": [
      "Size of TEXT vocabulary: 21098\n",
      "Size of LABEL vocabulary: 2\n",
      "[('stock', 9582), ('compani', 6783), ('earn', 6588), ('inc', 6332), ('announc', 6077), ('busi', 4399), ('new', 4177), ('report', 4119), ('investor', 3894), ('today', 3661)]\n"
     ]
    }
   ],
   "source": [
    "torch.manual_seed(1234)\n",
    "torch.backends.cudnn.deterministic = True\n",
    "\n",
    "#TEXT = data.Field(tokenize='spacy',batch_first=True)\n",
    "TEXT = data.Field(batch_first=True)\n",
    "LABEL = data.LabelField(dtype = torch.float,batch_first=True)\n",
    "\n",
    "fields = [('text',TEXT),('label', LABEL)]\n",
    "X_train=data.TabularDataset(path = 'Train_Tech.csv',format = 'csv',fields = fields,skip_header = True)\n",
    "X_test=data.TabularDataset(path = 'Test_Tech.csv',format = 'csv',fields = fields,skip_header = True)\n",
    "X_val=data.TabularDataset(path = 'Val_Tech.csv',format = 'csv',fields = fields,skip_header = True)\n",
    "\n",
    "TEXT.build_vocab(X_train)  \n",
    "LABEL.build_vocab(X_train)\n",
    "\n",
    "print(\"Size of TEXT vocabulary:\",len(TEXT.vocab))\n",
    "\n",
    "#No. of unique tokens in label\n",
    "print(\"Size of LABEL vocabulary:\",len(LABEL.vocab))\n",
    "\n",
    "#Commonly used words\n",
    "print(TEXT.vocab.freqs.most_common(10))  \n",
    "\n",
    "\n"
   ]
  },
  {
   "cell_type": "markdown",
   "metadata": {
    "id": "VpPSVf8CAxig"
   },
   "source": [
    "## Accuracy, Loss and Optimizer Function"
   ]
  },
  {
   "cell_type": "code",
   "execution_count": 8,
   "metadata": {
    "id": "hIvY8I8tfArM"
   },
   "outputs": [],
   "source": [
    "def find_accuracy(preds, y):\n",
    "    real_values=torch.sigmoid(preds)\n",
    "    temp = torch.round(real_values)\n",
    "    valid = (temp == y).float() \n",
    "    accur = valid.sum() / len(valid)\n",
    "    return accur,temp,y,real_values\n",
    "\n",
    "def Loss_Optimizer (model,valueLR):\n",
    "    criterion = nn.BCEWithLogitsLoss()\n",
    "    #criterion = nn.BCELoss()\n",
    "    optimizer = torch.optim.Adam(model.parameters(), lr=valueLR)\n",
    "    return optimizer,criterion"
   ]
  },
  {
   "cell_type": "markdown",
   "metadata": {
    "id": "tev8YUxKBjZB"
   },
   "source": [
    "## Training and Testing Functions "
   ]
  },
  {
   "cell_type": "code",
   "execution_count": 9,
   "metadata": {
    "id": "lNSC2cF4fArO"
   },
   "outputs": [],
   "source": [
    "def train(model,data,lr,optimizer,criterion):\n",
    "        \n",
    "    model.train()\n",
    "    sumloss=0.0\n",
    "    sumacc=0.0\n",
    "    for i in data:\n",
    "        text = i.text   \n",
    "        optimizer.zero_grad()\n",
    "        pred = model(text).squeeze(1)    \n",
    "        loss = criterion(pred, i.label)\n",
    "        acc,_,_,_ = find_accuracy(pred, i.label)\n",
    "        loss.backward()\n",
    "        optimizer.step()\n",
    "        sumloss += loss.item()\n",
    "        sumacc += acc.item()\n",
    "          \n",
    "    return sumloss / len(data), sumacc / len(data)\n",
    "\n",
    "def test(model, data, criterion):\n",
    "    y_pred_list = []\n",
    "    y_true_list = []\n",
    "    real_v_list = []\n",
    "    sumloss = 0\n",
    "    sumacc = 0\n",
    "    \n",
    "    model.eval()\n",
    "    \n",
    "    with torch.no_grad():\n",
    "    \n",
    "        for i in data:\n",
    "            text = i.text\n",
    "            \n",
    "            pred = model(text).squeeze(1)\n",
    "           \n",
    "            loss = criterion(pred, i.label)\n",
    "            \n",
    "            acc,y_pred_tags,y_true,real_v = find_accuracy(pred, i.label)\n",
    "\n",
    "            sumloss += loss.item()\n",
    "            sumacc += acc.item()\n",
    "            y_pred_list.append(y_pred_tags.cpu().numpy())\n",
    "            y_true_list.append(y_true.cpu().numpy())\n",
    "            real_v_list+=real_v.flatten().tolist()\n",
    "        \n",
    "    return sumloss / len(data), sumacc / len(data),y_pred_list,y_true_list,real_v_list\n",
    "\n",
    "def process_test(model,numEpochs,data_tr,data_val,data_test,lr,best_model):\n",
    "\n",
    "    optimizer,criterion=Loss_Optimizer (model,lr)\n",
    "    criterion = criterion.to(device)\n",
    "    start_time = time.time()\n",
    "    \n",
    "    for i in range(numEpochs):\n",
    " \n",
    "        train_loss, train_acc = train(model, data_tr, lr,optimizer,criterion)\n",
    "        valid_loss, valid_acc,_,_ ,_= test(model, data_val, criterion)\n",
    "        \n",
    "        if i==0:\n",
    "            max=valid_acc\n",
    "            torch.save(model.state_dict(), best_model)\n",
    "        elif valid_acc > max:\n",
    "            max = valid_acc\n",
    "            torch.save(model.state_dict(), best_model)\n",
    "\n",
    "        if (i+1)%5==0:\n",
    "          print(\"Epoch : \",i+1,\" Train Loss : \",train_loss,\"  Train Acc : \",train_acc,\"  Valid Loss : \",valid_loss, \" Val Acc : \",valid_acc)\n",
    "    \n",
    "    end_time = time.time()\n",
    "    timeHelp=(end_time-start_time)/60.0\n",
    "    print(\"\\nTime needed for Training : \",timeHelp)\n",
    "\n",
    "    \n",
    "    \n",
    "   \n",
    "    model.load_state_dict(torch.load(best_model))\n",
    "    \n",
    "    test_loss, test_acc,y_pred_list,y_true_list, real_v_list= test(model, data_test, criterion)\n",
    "    print(\"\\nLoss in Testset : \",test_loss,\"  Accuracy in Testset : \",test_acc,\"\\n\")\n",
    "\n",
    "    y_pred_list = [a.squeeze().tolist() for a in y_pred_list]\n",
    "    y_true_list = [a.squeeze().tolist() for a in y_true_list]\n",
    "    \n",
    "    yp = [item for sublist in y_pred_list for item in sublist]\n",
    "    yt = [item for sublist in y_true_list for item in sublist]\n",
    "    \n",
    "    cnf_matrix = confusion_matrix(yt, yp,labels=[0, 1])\n",
    "    np.set_printoptions(precision=3)\n",
    "\n",
    "    plt.figure()\n",
    "    plot_confusion_matrix(cnf_matrix, classes=[0, 1],\n",
    "                      title='Confusion matrix, with normalization')\n",
    "     \n",
    "    return real_v_list\n",
    "\n",
    "def process_test2(model,numEpochs,data_tr,data_val,data_test,lr,best_model):\n",
    "\n",
    "    optimizer,criterion=Loss_Optimizer (model,lr)\n",
    "    criterion = criterion.to(device)\n",
    "    start_time = time.time()\n",
    "        \n",
    "    for i in range(numEpochs):\n",
    " \n",
    "        train_loss, train_acc = train(model, data_tr, lr,optimizer,criterion)\n",
    "        valid_loss, valid_acc,_,_,_ = test(model, data_val, criterion)\n",
    "        \n",
    "        if i==0:\n",
    "            minloss=valid_loss\n",
    "            torch.save(model.state_dict(), best_model)\n",
    "        elif valid_loss < minloss:\n",
    "            minloss = valid_loss\n",
    "            torch.save(model.state_dict(), best_model)\n",
    "\n",
    "        if (i+1)%5==0:\n",
    "          print(\"Epoch : \",i+1,\" Train Loss : \",train_loss,\"  Train Acc : \",train_acc,\"  Valid Loss : \",valid_loss, \" Val Acc : \",valid_acc)\n",
    "    \n",
    "    end_time = time.time()\n",
    "    timeHelp=(end_time-start_time)/60.0\n",
    "    print(\"\\nTime needed for Training : \",timeHelp)\n",
    "\n",
    "    model.load_state_dict(torch.load(best_model))\n",
    "    \n",
    "    test_loss, test_acc,y_pred_list,y_true_list, real_v_list= test(model, data_test, criterion)\n",
    "    print(\"\\nLoss in Testset : \",test_loss,\"  Accuracy in Testset : \",test_acc,\"\\n\")\n",
    "\n",
    "    y_pred_list = [a.squeeze().tolist() for a in y_pred_list]\n",
    "    y_true_list = [a.squeeze().tolist() for a in y_true_list]\n",
    "    \n",
    "    yp = [item for sublist in y_pred_list for item in sublist]\n",
    "    yt = [item for sublist in y_true_list for item in sublist]\n",
    "    \n",
    "    cnf_matrix = confusion_matrix(yt, yp,labels=[0, 1])\n",
    "    np.set_printoptions(precision=3)\n",
    "\n",
    "    plt.figure()\n",
    "    plot_confusion_matrix(cnf_matrix, classes=[0, 1],\n",
    "                      title='Confusion matrix, with normalization')\n",
    "    return real_v_list"
   ]
  },
  {
   "cell_type": "markdown",
   "metadata": {
    "id": "gJa2oc1bB7Qs"
   },
   "source": [
    "## RNN Models"
   ]
  },
  {
   "cell_type": "code",
   "execution_count": 10,
   "metadata": {
    "id": "iN7ov3gHfArY"
   },
   "outputs": [],
   "source": [
    "class myLSTM(nn.Module):\n",
    "    def __init__(self, voc, embed_d, hid_d, out_d,dropout):\n",
    "        \n",
    "        super().__init__()\n",
    "        \n",
    "        self.embedding = nn.Embedding(voc, embed_d)\n",
    "        self.rnn = nn.LSTM(embed_d,hid_d,batch_first=True,num_layers=2,bidirectional=True,dropout=dropout)\n",
    "        self.fc = nn.Linear(hid_d * 2, out_d)\n",
    "        self.dropout = nn.Dropout(dropout)\n",
    "    def forward(self, input_text):\n",
    "                \n",
    "        embedded = self.dropout(self.embedding(input_text))\n",
    "       \n",
    "        rnn_out,(rnn_hid,rnn_cell) = self.rnn(embedded)\n",
    "        hidden = self.dropout(torch.cat((rnn_hid[-2,:,:], rnn_hid[-1,:,:]), dim=1))\n",
    "        out=self.fc(hidden.squeeze(0))\n",
    "        return out\n",
    "\n",
    "class myGRU(nn.Module):\n",
    "    def __init__(self, voc, embed_d, hid_d, out_d,dropout):\n",
    "        \n",
    "        super().__init__()\n",
    "        \n",
    "        self.embedding = nn.Embedding(voc, embed_d)\n",
    "        self.rnn = nn.GRU(embed_d,hid_d,batch_first=True,num_layers=2,bidirectional=True,dropout=dropout)\n",
    "        self.fc = nn.Linear(hid_d * 2, out_d)\n",
    "        self.dropout = nn.Dropout(dropout)\n",
    "    def forward(self, input_text):\n",
    "                \n",
    "        embedded = self.dropout(self.embedding(input_text))\n",
    "        \n",
    "        rnn_out,hidden = self.rnn(embedded)\n",
    "        hidden = self.dropout(torch.cat((hidden[-2,:,:], hidden[-1,:,:]), dim=1))\n",
    "        out=self.fc(hidden.squeeze(0))\n",
    "        return out"
   ]
  },
  {
   "cell_type": "code",
   "execution_count": 11,
   "metadata": {
    "colab": {
     "base_uri": "https://localhost:8080/",
     "height": 228
    },
    "id": "tMbHHUnifArd",
    "outputId": "a29953b3-a744-4e70-9120-4bf7ff195897"
   },
   "outputs": [
    {
     "name": "stdout",
     "output_type": "stream",
     "text": [
      "myLSTM(\n",
      "  (embedding): Embedding(21098, 300)\n",
      "  (rnn): LSTM(300, 256, num_layers=2, batch_first=True, dropout=0.5, bidirectional=True)\n",
      "  (fc): Linear(in_features=512, out_features=1, bias=True)\n",
      "  (dropout): Dropout(p=0.5, inplace=False)\n",
      ")\n",
      "myGRU(\n",
      "  (embedding): Embedding(21098, 300)\n",
      "  (rnn): GRU(300, 256, num_layers=2, batch_first=True, dropout=0.5, bidirectional=True)\n",
      "  (fc): Linear(in_features=512, out_features=1, bias=True)\n",
      "  (dropout): Dropout(p=0.5, inplace=False)\n",
      ")\n"
     ]
    }
   ],
   "source": [
    "myInput = len(TEXT.vocab)\n",
    "myEmbed = 300\n",
    "myHid = 256\n",
    "myOut = 1\n",
    "batch=1024\n",
    "train_it, val_it, test_it = data.BucketIterator.splits((X_train, X_val, X_test),sort_key = lambda x: len(x.text),\n",
    "    sort_within_batch=True,batch_size = batch,device = device)  \n",
    "dropout = 0.5\n",
    "\n",
    "new_model2 = myLSTM(myInput, myEmbed, myHid, myOut,dropout)\n",
    "new_model2.to(torch.device(device))\n",
    "new_model3 = myGRU(myInput, myEmbed, myHid, myOut,dropout)\n",
    "new_model3.to(torch.device(device))\n",
    "\n",
    "print(new_model2)\n",
    "print(new_model3)\n",
    "#torch.save(new_model2.state_dict(), 'model_LSTM_1.pt')"
   ]
  },
  {
   "cell_type": "markdown",
   "metadata": {},
   "source": [
    "## Test LSTM"
   ]
  },
  {
   "cell_type": "code",
   "execution_count": 12,
   "metadata": {
    "colab": {
     "base_uri": "https://localhost:8080/",
     "height": 563
    },
    "id": "xEMSmzBOfArf",
    "outputId": "a7ce5de3-55c7-4307-994f-24428b28be41"
   },
   "outputs": [
    {
     "name": "stdout",
     "output_type": "stream",
     "text": [
      "Epoch :  5  Train Loss :  0.250383151463567   Train Acc :  0.8920261548913043   Valid Loss :  0.28066922972599667  Val Acc :  0.8798868258794149\n",
      "Epoch :  10  Train Loss :  0.16554515017196536   Train Acc :  0.9316830842391305   Valid Loss :  0.33595971763134  Val Acc :  0.8990184366703033\n",
      "Epoch :  15  Train Loss :  0.11011454187657523   Train Acc :  0.9554177989130435   Valid Loss :  0.41878683120012283  Val Acc :  0.8985672096411387\n",
      "Epoch :  20  Train Loss :  0.08225678625445731   Train Acc :  0.9678583559782609   Valid Loss :  0.46820200979709625  Val Acc :  0.9006738364696503\n",
      "Epoch :  25  Train Loss :  0.058006392537525084   Train Acc :  0.9780061141304348   Valid Loss :  0.5525800647834936  Val Acc :  0.8984415133794149\n",
      "Epoch :  30  Train Loss :  0.048228807042990054   Train Acc :  0.9821246603260869   Valid Loss :  0.6188456937670708  Val Acc :  0.8912893235683441\n",
      "\n",
      "Time needed for Training :  2.5404158274332684\n",
      "\n",
      "Loss in Testset :  0.5723147361228863   Accuracy in Testset :  0.8961579749981562 \n",
      "\n",
      "Normalized confusion matrix\n",
      "[[0.869 0.131]\n",
      " [0.079 0.921]]\n"
     ]
    },
    {
     "data": {
      "image/png": "[encoded data removed]",
      "text/plain": [
       "<Figure size 432x288 with 2 Axes>"
      ]
     },
     "metadata": {
      "needs_background": "light",
      "tags": []
     },
     "output_type": "display_data"
    }
   ],
   "source": [
    "lstm_list=process_test(new_model2,30,train_it,val_it,test_it,0.001,\"LSTM_Tech_1.pt\")"
   ]
  },
  {
   "cell_type": "markdown",
   "metadata": {},
   "source": [
    "## Test GRU"
   ]
  },
  {
   "cell_type": "code",
   "execution_count": 13,
   "metadata": {
    "colab": {
     "base_uri": "https://localhost:8080/",
     "height": 563
    },
    "id": "ufEdn9rhfAri",
    "outputId": "4cbbd318-92aa-4591-8d37-561ad3e9f370"
   },
   "outputs": [
    {
     "name": "stdout",
     "output_type": "stream",
     "text": [
      "Epoch :  5  Train Loss :  0.2650349205258586   Train Acc :  0.8859969429347826   Valid Loss :  0.294662540157636  Val Acc :  0.8825187881787618\n",
      "Epoch :  10  Train Loss :  0.18395376468391117   Train Acc :  0.9244650135869565   Valid Loss :  0.3112149511774381  Val Acc :  0.8954655031363169\n",
      "Epoch :  15  Train Loss :  0.13664612688033073   Train Acc :  0.9440811820652174   Valid Loss :  0.37826328352093697  Val Acc :  0.9024364054203033\n",
      "Epoch :  20  Train Loss :  0.10171635317332718   Train Acc :  0.9594089673913043   Valid Loss :  0.42366259048382443  Val Acc :  0.9009622931480408\n",
      "Epoch :  25  Train Loss :  0.07422598304876137   Train Acc :  0.9708729619565217   Valid Loss :  0.4948130088547866  Val Acc :  0.9022921721140543\n",
      "Epoch :  30  Train Loss :  0.058533755843229854   Train Acc :  0.978515625   Valid Loss :  0.5139056233068308  Val Acc :  0.901334136724472\n",
      "\n",
      "Time needed for Training :  2.065715491771698\n",
      "\n",
      "Loss in Testset :  0.4076216413329045   Accuracy in Testset :  0.8941866705814997 \n",
      "\n",
      "Normalized confusion matrix\n",
      "[[0.846 0.154]\n",
      " [0.061 0.939]]\n"
     ]
    },
    {
     "data": {
      "image/png": "[encoded data removed]",
      "text/plain": [
       "<Figure size 432x288 with 2 Axes>"
      ]
     },
     "metadata": {
      "needs_background": "light",
      "tags": []
     },
     "output_type": "display_data"
    }
   ],
   "source": [
    "gru_list=process_test(new_model3,30,train_it,val_it,test_it,0.001,\"GRU_Tech_1.pt\")"
   ]
  },
  {
   "cell_type": "markdown",
   "metadata": {
    "id": "R111TLuBq3FR"
   },
   "source": [
    "## Testing Function for individual text"
   ]
  },
  {
   "cell_type": "code",
   "execution_count": 14,
   "metadata": {
    "id": "6Tt_Cmt_qGpE"
   },
   "outputs": [],
   "source": [
    "def sentence(model, s):\n",
    "    model.eval()\n",
    "    \n",
    "    token = [tok.text for tok in lang.tokenizer(s)]\n",
    "    index = [TEXT.vocab.stoi[t] for t in token]\n",
    "    tensor = torch.LongTensor(index).to(device)\n",
    "    tensor = tensor.unsqueeze(0)\n",
    "    pred = torch.sigmoid(model(tensor))\n",
    "    return pred.item()\n"
   ]
  },
  {
   "cell_type": "markdown",
   "metadata": {},
   "source": [
    "## Evaluate Neutrals (maybe some of them are not)"
   ]
  },
  {
   "cell_type": "code",
   "execution_count": 15,
   "metadata": {
    "colab": {
     "base_uri": "https://localhost:8080/",
     "height": 87
    },
    "id": "RNvyu1CGKWj9",
    "outputId": "8253b7dd-9207-4cfd-f0ee-279815d0d933"
   },
   "outputs": [
    {
     "name": "stdout",
     "output_type": "stream",
     "text": [
      "Number of Neutrals than maybe are not :  1468  from GRU\n",
      "Number of Neutrals than maybe are not :  1063  from LSTM\n",
      "\n",
      "Number of Neutrals that might be not Neutrals that agree LSTM and GRU :  885\n"
     ]
    }
   ],
   "source": [
    "Neutral_pd=X[X['Target'] == 0.0]\n",
    "Neutral_pd.index = range(len(Neutral_pd))\n",
    "v_list=[]\n",
    "for index, row in Neutral_pd.iterrows():\n",
    "    v=sentence(new_model3,Neutral_pd['Article'][index])\n",
    "    v_list.append(v)\n",
    "    if v>0.7:\n",
    "      Neutral_pd['Target'][index]=1.0\n",
    "    else:\n",
    "      Neutral_pd['Target'][index]=0.0\n",
    "Neutral_pd=Neutral_pd[Neutral_pd['Target'] == 1.0] \n",
    "\n",
    "print(\"Number of Neutrals than maybe are not : \" ,len(Neutral_pd), \" from GRU\")\n",
    "\n",
    "Neutral_pd2=X[X['Target'] == 0.0]\n",
    "Neutral_pd2.index = range(len(Neutral_pd2))\n",
    "\n",
    "v_list2=[]\n",
    "for index, row in Neutral_pd2.iterrows():\n",
    "    v=sentence(new_model2,Neutral_pd2['Article'][index])\n",
    "    v_list2.append(v)\n",
    "    if v>0.7:\n",
    "      Neutral_pd2['Target'][index]=1.0\n",
    "    else:\n",
    "      Neutral_pd2['Target'][index]=0.0\n",
    "Neutral_pd2=Neutral_pd2[Neutral_pd2['Target'] == 1.0] \n",
    "\n",
    "print(\"Number of Neutrals than maybe are not : \" ,len(Neutral_pd2), \" from LSTM\")\n",
    "\n",
    "# Combine 2 results from GRU and LSTM\n",
    "\n",
    "Neutral_pd=Neutral_pd.merge(Neutral_pd2)\n",
    "\n",
    "print(\"\\nNumber of Neutrals that might be not Neutrals that agree LSTM and GRU : \",len(Neutral_pd))\n",
    "\n",
    "Neutral_pd.index = range(len(Neutral_pd))\n",
    "\n",
    "Neutral_pd.to_csv (r'new_Neutral_Tech.csv', index = False, header=True)"
   ]
  },
  {
   "cell_type": "markdown",
   "metadata": {},
   "source": [
    "## Plot the distribution of Neutrals"
   ]
  },
  {
   "cell_type": "code",
   "execution_count": 16,
   "metadata": {
    "colab": {
     "base_uri": "https://localhost:8080/",
     "height": 573
    },
    "id": "4owBXYoWjsNM",
    "outputId": "11caee10-3104-4602-ea0f-cea51804d8ef"
   },
   "outputs": [
    {
     "data": {
      "image/png": "[encoded data removed]",
      "text/plain": [
       "<Figure size 432x288 with 1 Axes>"
      ]
     },
     "metadata": {
      "needs_background": "light",
      "tags": []
     },
     "output_type": "display_data"
    },
    {
     "data": {
      "image/png": "[encoded data removed]",
      "text/plain": [
       "<Figure size 432x288 with 1 Axes>"
      ]
     },
     "metadata": {
      "needs_background": "light",
      "tags": []
     },
     "output_type": "display_data"
    }
   ],
   "source": [
    "fig,ax = plt.subplots(1,1)\n",
    "\n",
    "ax.hist(v_list, bins = [0,0.2,0.4,0.6,0.8,1])\n",
    "ax.set_title(\"histogram of Neutrals - GRU\")\n",
    "ax.set_xticks([0,0.2,0.4,0.6,0.8,1])\n",
    "ax.set_xlabel('Score')\n",
    "ax.set_ylabel('No. of examples')\n",
    "plt.show()\n",
    "\n",
    "fig,ax = plt.subplots(1,1)\n",
    "\n",
    "ax.hist(v_list2, bins = [0,0.2,0.4,0.6,0.8,1])\n",
    "ax.set_title(\"histogram of Neutrals - LSTM\")\n",
    "ax.set_xticks([0,0.2,0.4,0.6,0.8,1])\n",
    "ax.set_xlabel('Score')\n",
    "ax.set_ylabel('No. of examples')\n",
    "plt.show()"
   ]
  }
 ],
 "metadata": {
  "accelerator": "GPU",
  "colab": {
   "collapsed_sections": [],
   "name": "Tech_RNN.ipynb",
   "provenance": [],
   "toc_visible": true
  },
  "kernelspec": {
   "display_name": "Python 3",
   "language": "python",
   "name": "python3"
  },
  "language_info": {
   "codemirror_mode": {
    "name": "ipython",
    "version": 3
   },
   "file_extension": ".py",
   "mimetype": "text/x-python",
   "name": "python",
   "nbconvert_exporter": "python",
   "pygments_lexer": "ipython3",
   "version": "3.7.7"
  }
 },
 "nbformat": 4,
 "nbformat_minor": 1
}
