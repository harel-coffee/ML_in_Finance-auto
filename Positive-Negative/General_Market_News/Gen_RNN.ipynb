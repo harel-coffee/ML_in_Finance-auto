{
 "cells": [
  {
   "cell_type": "markdown",
   "metadata": {
    "id": "JXpZldYOUjGJ"
   },
   "source": [
    "## Import Libraries"
   ]
  },
  {
   "cell_type": "code",
   "execution_count": 23,
   "metadata": {
    "colab": {
     "base_uri": "https://localhost:8080/",
     "height": 70
    },
    "id": "a5HnPotefAq7",
    "outputId": "497f9dd7-5428-4432-e6d4-a36bdc72f797"
   },
   "outputs": [
    {
     "name": "stdout",
     "output_type": "stream",
     "text": [
      "[nltk_data] Downloading package stopwords to /root/nltk_data...\n",
      "[nltk_data]   Package stopwords is already up-to-date!\n",
      "GPU Model    Tesla P100-PCIE-16GB\n"
     ]
    }
   ],
   "source": [
    ">>> import nltk\n",
    ">>> nltk.download('stopwords')\n",
    "import pandas as pd\n",
    "import json\n",
    "import numpy as np\n",
    "import re\n",
    "from nltk.stem.porter import *\n",
    "from nltk.corpus import stopwords\n",
    "from sklearn.model_selection import train_test_split\n",
    "from sklearn import model_selection,metrics,preprocessing\n",
    "import torch\n",
    "from torchtext import data\n",
    "import random\n",
    "import torch.nn as nn\n",
    "import torch.nn.functional as F\n",
    "import torch.optim as optim\n",
    "import time\n",
    "import spacy\n",
    "lang = spacy.load('en')\n",
    "stemmer = PorterStemmer()\n",
    "import seaborn as sns\n",
    "from sklearn.metrics import confusion_matrix\n",
    "import matplotlib.pyplot as plt\n",
    "import six\n",
    "import sys\n",
    "sys.modules['sklearn.externals.six'] = six\n",
    "from imblearn.over_sampling import RandomOverSampler\n",
    "\n",
    "stemmer = PorterStemmer()\n",
    "import warnings\n",
    "warnings.filterwarnings('ignore')\n",
    "device = torch.device(\"cuda:0\" if torch.cuda.is_available() else \"cpu\")\n",
    "print(\"GPU Model   \",torch.cuda.get_device_name(0))"
   ]
  },
  {
   "cell_type": "markdown",
   "metadata": {
    "id": "6aUng0tUOnJU"
   },
   "source": [
    "## Confusion Matrix Method"
   ]
  },
  {
   "cell_type": "code",
   "execution_count": 24,
   "metadata": {
    "id": "UDGI_gcARDf3"
   },
   "outputs": [],
   "source": [
    "def plot_confusion_matrix(cm, classes,\n",
    "                          normalize=True,\n",
    "                          title='Confusion matrix',\n",
    "                          cmap=plt.cm.Blues):\n",
    "    \n",
    "    import itertools\n",
    "    if normalize:\n",
    "        cm = cm.astype('float') / cm.sum(axis=1)[:, np.newaxis]\n",
    "        print(\"Normalized confusion matrix\")\n",
    "    else:\n",
    "        print('Confusion matrix, without normalization')\n",
    "\n",
    "    print(cm)\n",
    "\n",
    "    plt.imshow(cm, interpolation='nearest', cmap=cmap)\n",
    "    plt.title(title)\n",
    "    plt.colorbar()\n",
    "    tick_marks = np.arange(len(classes))\n",
    "    plt.xticks(tick_marks, classes, rotation=45)\n",
    "    plt.yticks(tick_marks, classes)\n",
    "\n",
    "    fmt = '.2f' if normalize else 'd'\n",
    "    thresh = cm.max() / 2.\n",
    "    for i, j in itertools.product(range(cm.shape[0]), range(cm.shape[1])):\n",
    "        plt.text(j, i, format(cm[i, j], fmt),\n",
    "                 horizontalalignment=\"center\",\n",
    "                 color=\"white\" if cm[i, j] > thresh else \"black\")\n",
    "\n",
    "    plt.ylabel('True label')\n",
    "    plt.xlabel('Predicted label')\n",
    "    plt.tight_layout()"
   ]
  },
  {
   "cell_type": "markdown",
   "metadata": {
    "id": "Ju-OgZmqOnJY"
   },
   "source": [
    "## Cleaning Data, Preprocessing"
   ]
  },
  {
   "cell_type": "code",
   "execution_count": 25,
   "metadata": {
    "id": "VCJKt_MyfAq-"
   },
   "outputs": [],
   "source": [
    "def clean_data(X):\n",
    "    STOPWORDS = set(stopwords.words('english'))\n",
    "    X=X.str.lower()\n",
    "    X=X.str.replace(\"[/(){}\\[\\]\\|@,;]\", \" \")\n",
    "    X=X.str.replace(\"[^0-9a-z #+_]\", \" \")\n",
    "    X = X.str.replace(r'\\d+','')\n",
    "    X = X.apply(lambda x: ' '.join([w for w in str(x).split() if (len(w)>2 and w not in STOPWORDS) ] ))\n",
    "    X = X.apply(lambda x: x.split()) \n",
    "    return X\n",
    "\n",
    "def target_arrange(y):\n",
    "    \n",
    "    for i in range(len(y)):\n",
    "        if y.values[i]=='Negative':\n",
    "            y.values[i]=0.0\n",
    "        else:\n",
    "            y.values[i]=1.0\n",
    "            \n",
    "    y=y.to_numpy()  \n",
    "    y=y.reshape(y.shape[0],1)\n",
    "    y= pd.DataFrame(data=y)\n",
    "    y=np.ravel(y)\n",
    "    y=y.astype('float')\n",
    "    return y"
   ]
  },
  {
   "cell_type": "markdown",
   "metadata": {
    "id": "AExKeWCZOnJb"
   },
   "source": [
    "## Load Dataset and Process"
   ]
  },
  {
   "cell_type": "code",
   "execution_count": 26,
   "metadata": {
    "colab": {
     "base_uri": "https://localhost:8080/",
     "height": 210
    },
    "id": "39r_65tmfArB",
    "outputId": "828d09dd-eb20-4c7c-f4bf-ee3ccdc33ae6"
   },
   "outputs": [
    {
     "name": "stdout",
     "output_type": "stream",
     "text": [
      "Number of Examples :  32853 \n",
      "\n",
      "Number of Examples after removing duplicates:  32522 \n",
      "\n",
      "Number of words before cleaning :  1097156\n",
      "Number of words after cleaning :  716118\n",
      "\n",
      "******************\n",
      "\n",
      "Negative Examples :  16256\n",
      "Positive Examples :  16266\n"
     ]
    }
   ],
   "source": [
    "with open(\"All_Tickers.json\",\"r\") as fp:\n",
    "#with open(\"General_Market.json\",encoding='utf8') as fp:\n",
    "    json_d = json.load(fp)\n",
    " \n",
    "ticks_d = json_d['data']\n",
    "df = pd.DataFrame(ticks_d)\n",
    "\n",
    "X= pd.DataFrame(columns=['Date', 'Article','Target'])\n",
    "X['Date']=pd.to_datetime(df['date'])\n",
    "X['Article']=df['title']+\" \"+df['text']\n",
    "X['Target']=df['sentiment']\n",
    "\n",
    "# we will use the Neutrals in the end (All Neutrals)\n",
    "# *************************************\n",
    "Xnew_Neutrals=X[X['Target']=='Neutral']\n",
    "Xnew_Neutrals=Xnew_Neutrals.sort_values(\"Date\")\n",
    "Xnew_Neutrals.drop_duplicates(inplace=True)\n",
    "Xnew_Neutrals.index = range(len(Xnew_Neutrals))\n",
    "Xnew_Neutrals['Article']=clean_data(Xnew_Neutrals['Article'])\n",
    "Xnew_Neutrals['Target']=target_arrange(Xnew_Neutrals['Target'])\n",
    "Xnew_Neutrals=Xnew_Neutrals.drop('Date',1)\n",
    "# *******************************************\n",
    "\n",
    "indexNames = X[X['Target'] == 'Neutral'].index\n",
    " \n",
    "# Delete these row indexes from dataFrame\n",
    "X.drop(indexNames , inplace=True)\n",
    "\n",
    "\n",
    "X=X.sort_values(\"Date\")\n",
    "\n",
    "print(\"Number of Examples : \",len(X),\"\\n\")\n",
    "X.drop_duplicates(inplace=True)\n",
    "X.index = range(len(X))\n",
    "print(\"Number of Examples after removing duplicates: \",len(X),\"\\n\")\n",
    "\n",
    "print('Number of words before cleaning : ',X['Article'].apply(lambda x: len(str(x).split(' '))).sum())\n",
    "X['Article']=clean_data(X['Article'])\n",
    "print('Number of words after cleaning : ',X['Article'].apply(lambda x: len(str(x).split(' '))).sum())\n",
    "print(\"\\n******************\\n\")\n",
    "\n",
    "X['Target']=target_arrange(X['Target'])\n",
    "X=X.drop('Date',1)\n",
    "\n",
    "print(\"Negative Examples : \",(X['Target']==0).sum())\n",
    "print(\"Positive Examples : \",(X['Target']==1).sum())\n"
   ]
  },
  {
   "cell_type": "markdown",
   "metadata": {
    "id": "GPK6sNgYOnJf"
   },
   "source": [
    "## Stemming"
   ]
  },
  {
   "cell_type": "code",
   "execution_count": 27,
   "metadata": {
    "colab": {
     "base_uri": "https://localhost:8080/",
     "height": 228
    },
    "id": "F2Lyyf7vfArF",
    "outputId": "c949dbff-ee9e-4815-c63d-83613f53670a"
   },
   "outputs": [
    {
     "name": "stdout",
     "output_type": "stream",
     "text": [
      "0        actual econom impact coronaviru may wors data ...\n",
      "1        futur tumbl start second quarter coronaviru cr...\n",
      "2        compani cut job worst coronaviru shutdown hit ...\n",
      "3        china economi may grow year happen year china ...\n",
      "4        adp privat compani cut employe period march cn...\n",
      "                               ...                        \n",
      "32517    china changan ford sale grow year compani offi...\n",
      "32518    look dividend time hold slvo look dividend tim...\n",
      "32519    macroview astonish lack valu valu macroview as...\n",
      "32520    septemb selloff healthi correct start new bear...\n",
      "32521    china gac bmw expect china sale grow year chin...\n",
      "Name: Article, Length: 32522, dtype: object\n"
     ]
    }
   ],
   "source": [
    "X['Article']= X['Article'].apply(lambda x: [stemmer.stem(i) for i in x]) # stemming\n",
    "for i in range(len(X['Article'])): #φέρνω τα tokens ξανά μαζί διαχωριζόμενα με κενά\n",
    "    X['Article'][i] = ' '.join(X['Article'][i])\n",
    "print(X['Article'])\n",
    "Xv = X['Article'].to_frame()\n",
    "\n",
    "\n",
    "# Stemming for Neutrals\n",
    "#**********************************************************************************************************\n",
    "Xnew_Neutrals['Article']= Xnew_Neutrals['Article'].apply(lambda x: [stemmer.stem(i) for i in x]) # stemming\n",
    "for i in range(len(Xnew_Neutrals['Article'])): #φέρνω τα tokens ξανά μαζί διαχωριζόμενα με κενά\n",
    "    Xnew_Neutrals['Article'][i] = ' '.join(Xnew_Neutrals['Article'][i])\n",
    "Xnew_Neutrals['Article'] = Xnew_Neutrals['Article'].to_frame()\n",
    "Xnew_Neutrals.to_csv (r'All_Neutrals.csv', index = False, header=True)\n",
    "#*************************************************************************************************************"
   ]
  },
  {
   "cell_type": "markdown",
   "metadata": {
    "id": "TIcQ7Cj8OnJk"
   },
   "source": [
    "## Oversampling and Csvs"
   ]
  },
  {
   "cell_type": "code",
   "execution_count": 28,
   "metadata": {
    "colab": {
     "base_uri": "https://localhost:8080/",
     "height": 52
    },
    "id": "v_A1300jfArI",
    "outputId": "4c1dae83-9a2a-40cc-b79f-fb9716dc6553"
   },
   "outputs": [
    {
     "name": "stdout",
     "output_type": "stream",
     "text": [
      "Negative Examples in Training after OverSampling:  9109\n",
      "Positive Examples in Training after OverSampling:  9109\n"
     ]
    }
   ],
   "source": [
    "X_train,X_test,y_train,y_test = train_test_split(Xv,X['Target'], test_size=0.3,stratify=X['Target'])\n",
    "X_train,X_val,y_train,y_val = train_test_split(X_train,y_train, test_size=0.2,stratify=y_train)\n",
    "\n",
    "ros = RandomOverSampler()\n",
    "X_train,y_train = ros.fit_resample(X_train, y_train)\n",
    "\n",
    "train1=pd.DataFrame(columns=['Article','Target'])\n",
    "val = pd.DataFrame(columns=['Article','Target'])\n",
    "test= pd.DataFrame(columns=['Article','Target'])\n",
    "\n",
    "df = pd.DataFrame(data = X_train,columns=['Article'])\n",
    "df1= pd.DataFrame(data = y_train,columns=['Target'])\n",
    "train1['Article']=df['Article']\n",
    "train1['Target']=df1['Target']\n",
    "df = pd.DataFrame(data = X_test,columns=['Article'])\n",
    "df1= pd.DataFrame(data = y_test,columns=['Target'])\n",
    "test['Article']=df['Article']\n",
    "test['Target']=df1['Target']\n",
    "df = pd.DataFrame(data = X_val,columns=['Article'])\n",
    "df1= pd.DataFrame(data = y_val,columns=['Target'])\n",
    "val['Article']=df['Article']\n",
    "val['Target']=df1['Target']\n",
    "\n",
    "print(\"Negative Examples in Training after OverSampling: \",(train1['Target']==0).sum())\n",
    "print(\"Positive Examples in Training after OverSampling: \",(train1['Target']==1).sum())\n",
    "\n",
    "train1.to_csv (r'Train_General.csv', index = False, header=True)\n",
    "test.to_csv (r'Test_General.csv', index = False, header=True)\n",
    "val.to_csv (r'Val_General.csv', index = False, header=True)\n",
    "\n",
    "\n"
   ]
  },
  {
   "cell_type": "markdown",
   "metadata": {
    "id": "rN-KlTrxOnJn"
   },
   "source": [
    "## Build Vocabulary"
   ]
  },
  {
   "cell_type": "code",
   "execution_count": 29,
   "metadata": {
    "colab": {
     "base_uri": "https://localhost:8080/",
     "height": 90
    },
    "id": "HmOB68OSfArK",
    "outputId": "17ca7621-9b8f-4300-8b27-d99aca3c3548"
   },
   "outputs": [
    {
     "name": "stdout",
     "output_type": "stream",
     "text": [
      "Size of TEXT vocabulary: 15309\n",
      "Size of LABEL vocabulary: 2\n",
      "[('stock', 10034), ('earn', 6383), ('report', 4406), ('market', 3665), ('compani', 2791), ('expect', 2288), ('coronaviru', 2226), ('share', 2220), ('investor', 2149), ('trade', 2056)]\n"
     ]
    }
   ],
   "source": [
    "torch.manual_seed(1234)\n",
    "torch.backends.cudnn.deterministic = True\n",
    "\n",
    "#TEXT = data.Field(tokenize='spacy',batch_first=True,include_lengths=True)\n",
    "TEXT = data.Field(batch_first=True)\n",
    "LABEL = data.LabelField(dtype = torch.float,batch_first=True)\n",
    "\n",
    "fields = [('text',TEXT),('label', LABEL)]\n",
    "X_train=data.TabularDataset(path = 'Train_General.csv',format = 'csv',fields = fields,skip_header = True)\n",
    "X_test=data.TabularDataset(path = 'Test_General.csv',format = 'csv',fields = fields,skip_header = True)\n",
    "X_val=data.TabularDataset(path = 'Val_General.csv',format = 'csv',fields = fields,skip_header = True)\n",
    "\n",
    "TEXT.build_vocab(X_train)  \n",
    "LABEL.build_vocab(X_train)\n",
    "\n",
    "print(\"Size of TEXT vocabulary:\",len(TEXT.vocab))\n",
    "\n",
    "#No. of unique tokens in label\n",
    "print(\"Size of LABEL vocabulary:\",len(LABEL.vocab))\n",
    "\n",
    "#Commonly used words\n",
    "print(TEXT.vocab.freqs.most_common(10))  \n"
   ]
  },
  {
   "cell_type": "markdown",
   "metadata": {
    "id": "oHdw0ArTOnJr"
   },
   "source": [
    "## Accuracy, Loss and Optimizer Function"
   ]
  },
  {
   "cell_type": "code",
   "execution_count": 30,
   "metadata": {
    "id": "hIvY8I8tfArM"
   },
   "outputs": [],
   "source": [
    "def find_accuracy(preds, y):\n",
    "    real_values=torch.sigmoid(preds)\n",
    "    temp = torch.round(real_values)\n",
    "    valid = (temp == y).float() \n",
    "    accur = valid.sum() / len(valid)\n",
    "    return accur,temp,y,real_values\n",
    "\n",
    "def Loss_Optimizer (model,valueLR):\n",
    "    criterion = nn.BCEWithLogitsLoss()\n",
    "    #criterion = nn.BCELoss()\n",
    "    optimizer = torch.optim.Adam(model.parameters(), lr=valueLR)\n",
    "    return optimizer,criterion"
   ]
  },
  {
   "cell_type": "markdown",
   "metadata": {
    "id": "TcqCvumUOnJu"
   },
   "source": [
    "## Training and Testing Functions "
   ]
  },
  {
   "cell_type": "code",
   "execution_count": 31,
   "metadata": {
    "id": "lNSC2cF4fArO"
   },
   "outputs": [],
   "source": [
    "def train(model,data,lr,optimizer,criterion):\n",
    "        \n",
    "    model.train()\n",
    "    sumloss=0.0\n",
    "    sumacc=0.0\n",
    "    for i in data:\n",
    "        text = i.text   \n",
    "        optimizer.zero_grad()\n",
    "        pred = model(text).squeeze(1)    \n",
    "        loss = criterion(pred, i.label)\n",
    "        acc,_,_,_ = find_accuracy(pred, i.label)\n",
    "        loss.backward()\n",
    "        optimizer.step()\n",
    "        sumloss += loss.item()\n",
    "        sumacc += acc.item()\n",
    "          \n",
    "    return sumloss / len(data), sumacc / len(data)\n",
    "\n",
    "def test(model, data, criterion):\n",
    "    y_pred_list = []\n",
    "    y_true_list = []\n",
    "    real_v_list = []\n",
    "    sumloss = 0\n",
    "    sumacc = 0\n",
    "    \n",
    "    model.eval()\n",
    "    \n",
    "    with torch.no_grad():\n",
    "    \n",
    "        for i in data:\n",
    "            text = i.text\n",
    "            \n",
    "            pred = model(text).squeeze(1)\n",
    "           \n",
    "            loss = criterion(pred, i.label)\n",
    "            \n",
    "            acc,y_pred_tags,y_true,real_v = find_accuracy(pred, i.label)\n",
    "\n",
    "            sumloss += loss.item()\n",
    "            sumacc += acc.item()\n",
    "            y_pred_list.append(y_pred_tags.cpu().numpy())\n",
    "            y_true_list.append(y_true.cpu().numpy())\n",
    "            real_v_list+=real_v.flatten().tolist()\n",
    "        \n",
    "    return sumloss / len(data), sumacc / len(data),y_pred_list,y_true_list,real_v_list\n",
    "\n",
    "def process_test(model,numEpochs,data_tr,data_val,data_test,lr,best_model):\n",
    "\n",
    "    optimizer,criterion=Loss_Optimizer (model,lr)\n",
    "    criterion = criterion.to(device)\n",
    "    start_time = time.time()\n",
    "    \n",
    "    for i in range(numEpochs):\n",
    " \n",
    "        train_loss, train_acc = train(model, data_tr, lr,optimizer,criterion)\n",
    "        valid_loss, valid_acc,_,_ ,_= test(model, data_val, criterion)\n",
    "        \n",
    "        if i==0:\n",
    "            max=valid_acc\n",
    "            torch.save(model.state_dict(), best_model)\n",
    "        elif valid_acc > max:\n",
    "            max = valid_acc\n",
    "            torch.save(model.state_dict(), best_model)\n",
    "\n",
    "        if (i+1)%5==0:\n",
    "          print(\"Epoch : \",i+1,\" Train Loss : \",train_loss,\"  Train Acc : \",train_acc,\"  Valid Loss : \",valid_loss, \" Val Acc : \",valid_acc)\n",
    "    \n",
    "    end_time = time.time()\n",
    "    timeHelp=(end_time-start_time)/60.0\n",
    "    print(\"\\nTime needed for Training : \",timeHelp)\n",
    "\n",
    "    \n",
    "    \n",
    "   \n",
    "    model.load_state_dict(torch.load(best_model))\n",
    "    \n",
    "    test_loss, test_acc,y_pred_list,y_true_list, real_v_list= test(model, data_test, criterion)\n",
    "    print(\"\\nLoss in Testset : \",test_loss,\"  Accuracy in Testset : \",test_acc,\"\\n\")\n",
    "\n",
    "    y_pred_list = [a.squeeze().tolist() for a in y_pred_list]\n",
    "    y_true_list = [a.squeeze().tolist() for a in y_true_list]\n",
    "    \n",
    "    yp = [item for sublist in y_pred_list for item in sublist]\n",
    "    yt = [item for sublist in y_true_list for item in sublist]\n",
    "    \n",
    "    cnf_matrix = confusion_matrix(yt, yp,labels=[0, 1])\n",
    "    np.set_printoptions(precision=3)\n",
    "\n",
    "    plt.figure()\n",
    "    plot_confusion_matrix(cnf_matrix, classes=[0, 1],\n",
    "                      title='Confusion matrix, with normalization')\n",
    "     \n",
    "    return real_v_list\n",
    "\n",
    "def process_test2(model,numEpochs,data_tr,data_val,data_test,lr,best_model):\n",
    "\n",
    "    optimizer,criterion=Loss_Optimizer (model,lr)\n",
    "    criterion = criterion.to(device)\n",
    "    start_time = time.time()\n",
    "        \n",
    "    for i in range(numEpochs):\n",
    " \n",
    "        train_loss, train_acc = train(model, data_tr, lr,optimizer,criterion)\n",
    "        valid_loss, valid_acc,_,_,_ = test(model, data_val, criterion)\n",
    "        \n",
    "        if i==0:\n",
    "            minloss=valid_loss\n",
    "            torch.save(model.state_dict(), best_model)\n",
    "        elif valid_loss < minloss:\n",
    "            minloss = valid_loss\n",
    "            torch.save(model.state_dict(), best_model)\n",
    "\n",
    "        if (i+1)%5==0:\n",
    "          print(\"Epoch : \",i+1,\" Train Loss : \",train_loss,\"  Train Acc : \",train_acc,\"  Valid Loss : \",valid_loss, \" Val Acc : \",valid_acc)\n",
    "    \n",
    "    end_time = time.time()\n",
    "    timeHelp=(end_time-start_time)/60.0\n",
    "    print(\"\\nTime needed for Training : \",timeHelp)\n",
    "\n",
    "    model.load_state_dict(torch.load(best_model))\n",
    "    \n",
    "    test_loss, test_acc,y_pred_list,y_true_list, real_v_list= test(model, data_test, criterion)\n",
    "    print(\"\\nLoss in Testset : \",test_loss,\"  Accuracy in Testset : \",test_acc,\"\\n\")\n",
    "\n",
    "    y_pred_list = [a.squeeze().tolist() for a in y_pred_list]\n",
    "    y_true_list = [a.squeeze().tolist() for a in y_true_list]\n",
    "    \n",
    "    yp = [item for sublist in y_pred_list for item in sublist]\n",
    "    yt = [item for sublist in y_true_list for item in sublist]\n",
    "    \n",
    "    cnf_matrix = confusion_matrix(yt, yp,labels=[0, 1])\n",
    "    np.set_printoptions(precision=3)\n",
    "\n",
    "    plt.figure()\n",
    "    plot_confusion_matrix(cnf_matrix, classes=[0, 1],\n",
    "                      title='Confusion matrix, with normalization')\n",
    "    return real_v_list"
   ]
  },
  {
   "cell_type": "markdown",
   "metadata": {
    "id": "m-swBnngOnJ4"
   },
   "source": [
    "## RNN Models"
   ]
  },
  {
   "cell_type": "code",
   "execution_count": 32,
   "metadata": {
    "id": "iN7ov3gHfArY"
   },
   "outputs": [],
   "source": [
    "class myLSTM(nn.Module):\n",
    "    def __init__(self, voc, embed_d, hid_d, out_d,dropout):\n",
    "        \n",
    "        super().__init__()\n",
    "        \n",
    "        self.embedding = nn.Embedding(voc, embed_d)\n",
    "        self.rnn = nn.LSTM(embed_d,hid_d,batch_first=True,num_layers=2,bidirectional=True,dropout=dropout)\n",
    "        self.fc = nn.Linear(hid_d * 2, out_d)\n",
    "        self.dropout = nn.Dropout(dropout)\n",
    "    def forward(self, input_text):\n",
    "                \n",
    "        embedded = self.dropout(self.embedding(input_text))\n",
    "       \n",
    "        rnn_out,(rnn_hid,rnn_cell) = self.rnn(embedded)\n",
    "        hidden = self.dropout(torch.cat((rnn_hid[-2,:,:], rnn_hid[-1,:,:]), dim=1))\n",
    "        out=self.fc(hidden.squeeze(0))\n",
    "        return out\n",
    "\n",
    "class myGRU(nn.Module):\n",
    "    def __init__(self, voc, embed_d, hid_d, out_d,dropout):\n",
    "        \n",
    "        super().__init__()\n",
    "        \n",
    "        self.embedding = nn.Embedding(voc, embed_d)\n",
    "        self.rnn = nn.GRU(embed_d,hid_d,batch_first=True,num_layers=2,bidirectional=True,dropout=dropout)\n",
    "        self.fc = nn.Linear(hid_d * 2, out_d)\n",
    "        self.dropout = nn.Dropout(dropout)\n",
    "    def forward(self, input_text):\n",
    "                \n",
    "        embedded = self.dropout(self.embedding(input_text))\n",
    "        \n",
    "        rnn_out,hidden = self.rnn(embedded)\n",
    "        hidden = self.dropout(torch.cat((hidden[-2,:,:], hidden[-1,:,:]), dim=1))\n",
    "        out=self.fc(hidden.squeeze(0))\n",
    "        return out"
   ]
  },
  {
   "cell_type": "code",
   "execution_count": 33,
   "metadata": {
    "colab": {
     "base_uri": "https://localhost:8080/",
     "height": 228
    },
    "id": "tMbHHUnifArd",
    "outputId": "1a654218-9386-4473-ccc8-a61b4b993ffa"
   },
   "outputs": [
    {
     "name": "stdout",
     "output_type": "stream",
     "text": [
      "myLSTM(\n",
      "  (embedding): Embedding(15309, 300)\n",
      "  (rnn): LSTM(300, 256, num_layers=2, batch_first=True, dropout=0.4, bidirectional=True)\n",
      "  (fc): Linear(in_features=512, out_features=1, bias=True)\n",
      "  (dropout): Dropout(p=0.4, inplace=False)\n",
      ")\n",
      "myGRU(\n",
      "  (embedding): Embedding(15309, 300)\n",
      "  (rnn): GRU(300, 256, num_layers=2, batch_first=True, dropout=0.4, bidirectional=True)\n",
      "  (fc): Linear(in_features=512, out_features=1, bias=True)\n",
      "  (dropout): Dropout(p=0.4, inplace=False)\n",
      ")\n"
     ]
    }
   ],
   "source": [
    "myInput = len(TEXT.vocab)\n",
    "myEmbed = 300\n",
    "myHid = 256\n",
    "myOut = 1\n",
    "batch=256\n",
    "dropout = 0.4\n",
    "\n",
    "train_it, val_it, test_it = data.BucketIterator.splits((X_train, X_val, X_test),sort_key = lambda x: len(x.text),\n",
    "    sort_within_batch=True,batch_size = batch,device = device)  \n",
    "\n",
    "new_model2 = myLSTM(myInput, myEmbed, myHid, myOut,dropout)\n",
    "new_model2.to(torch.device(device))\n",
    "new_model3 = myGRU(myInput, myEmbed, myHid, myOut,dropout)\n",
    "new_model3.to(torch.device(device))\n",
    "\n",
    "print(new_model2)\n",
    "print(new_model3)\n",
    "#torch.save(new_model2.state_dict(), 'model_LSTM_1.pt')"
   ]
  },
  {
   "cell_type": "markdown",
   "metadata": {
    "id": "NEVvf-RpPUpC"
   },
   "source": [
    "## LSTM results"
   ]
  },
  {
   "cell_type": "code",
   "execution_count": 34,
   "metadata": {
    "colab": {
     "base_uri": "https://localhost:8080/",
     "height": 563
    },
    "id": "xEMSmzBOfArf",
    "outputId": "c3d25a20-cd87-4910-bafc-52e0d8412d64"
   },
   "outputs": [
    {
     "name": "stdout",
     "output_type": "stream",
     "text": [
      "Epoch :  5  Train Loss :  0.1530738473455939   Train Acc :  0.9371744791666666   Valid Loss :  0.3198396356569396  Val Acc :  0.8991047342618307\n",
      "Epoch :  10  Train Loss :  0.06410052756675416   Train Acc :  0.9762369791666666   Valid Loss :  0.42640740672747296  Val Acc :  0.9064832064840529\n",
      "Epoch :  15  Train Loss :  0.03916331573337731   Train Acc :  0.9847547743055556   Valid Loss :  0.44949306630425984  Val Acc :  0.9096401664945815\n",
      "Epoch :  20  Train Loss :  0.024216304859793227   Train Acc :  0.9907769097222222   Valid Loss :  0.5884158578183916  Val Acc :  0.9074905415376028\n",
      "Epoch :  25  Train Loss :  0.014798768729734648   Train Acc :  0.9948459201388888   Valid Loss :  0.5876810418234931  Val Acc :  0.9083974659442902\n",
      "Epoch :  30  Train Loss :  0.014811415353000889   Train Acc :  0.9942491319444444   Valid Loss :  0.6491689582665762  Val Acc :  0.908555097050137\n",
      "\n",
      "Time needed for Training :  1.1374582846959431\n",
      "\n",
      "Loss in Testset :  0.6685438110278203   Accuracy in Testset :  0.9044160307982029 \n",
      "\n",
      "Normalized confusion matrix\n",
      "[[0.912 0.088]\n",
      " [0.102 0.898]]\n"
     ]
    },
    {
     "data": {
      "image/png": "[encoded data removed]",
      "text/plain": [
       "<Figure size 432x288 with 2 Axes>"
      ]
     },
     "metadata": {
      "needs_background": "light",
      "tags": []
     },
     "output_type": "display_data"
    }
   ],
   "source": [
    "lstm_list=process_test(new_model2,30,train_it,val_it,test_it,0.001,\"LSTM_Gen_PN.pt\")"
   ]
  },
  {
   "cell_type": "markdown",
   "metadata": {
    "id": "qtwyx_WOPa1U"
   },
   "source": [
    "## GRU results"
   ]
  },
  {
   "cell_type": "code",
   "execution_count": 35,
   "metadata": {
    "colab": {
     "base_uri": "https://localhost:8080/",
     "height": 563
    },
    "id": "ufEdn9rhfAri",
    "outputId": "e7738de6-5cf1-41c9-b769-6a25aaa07e03"
   },
   "outputs": [
    {
     "name": "stdout",
     "output_type": "stream",
     "text": [
      "Epoch :  5  Train Loss :  0.17939713824954298   Train Acc :  0.9285430105196105   Valid Loss :  0.28853625141912037  Val Acc :  0.908831493722068\n",
      "Epoch :  10  Train Loss :  0.080179031783094   Train Acc :  0.9694010416666666   Valid Loss :  0.35682416955629986  Val Acc :  0.9032279981507195\n",
      "Epoch :  15  Train Loss :  0.047641375632439226   Train Acc :  0.9820421006944444   Valid Loss :  0.4550619406832589  Val Acc :  0.9078651865323385\n",
      "Epoch :  20  Train Loss :  0.03314899470165579   Train Acc :  0.9878472222222222   Valid Loss :  0.49576035141944885  Val Acc :  0.9062273270554013\n",
      "Epoch :  25  Train Loss :  0.021609087439072836   Train Acc :  0.9921875   Valid Loss :  0.5249520573351119  Val Acc :  0.9091078870826297\n",
      "Epoch :  30  Train Loss :  0.01587102685071942   Train Acc :  0.9939236111111112   Valid Loss :  0.6471933126449585  Val Acc :  0.9054575198226504\n",
      "\n",
      "Time needed for Training :  0.9748053034146626\n",
      "\n",
      "Loss in Testset :  0.5963141864691025   Accuracy in Testset :  0.9055177936187158 \n",
      "\n",
      "Normalized confusion matrix\n",
      "[[0.907 0.093]\n",
      " [0.094 0.906]]\n"
     ]
    },
    {
     "data": {
      "image/png": "[encoded data removed]",
      "text/plain": [
       "<Figure size 432x288 with 2 Axes>"
      ]
     },
     "metadata": {
      "needs_background": "light",
      "tags": []
     },
     "output_type": "display_data"
    }
   ],
   "source": [
    "gru_list=process_test(new_model3,30,train_it,val_it,test_it,0.001,\"GRU_Gen_PN.pt\")"
   ]
  },
  {
   "cell_type": "markdown",
   "metadata": {
    "id": "LL__ZjtQRcQP"
   },
   "source": [
    "## Evaluate Semantic Neutrals as Positive-Negative"
   ]
  },
  {
   "cell_type": "code",
   "execution_count": 36,
   "metadata": {
    "id": "jpGfxh5xPrUR"
   },
   "outputs": [],
   "source": [
    "def sentence(model, s):\n",
    "    model.eval()\n",
    "    \n",
    "    token = [tok.text for tok in lang.tokenizer(s)]\n",
    "    index = [TEXT.vocab.stoi[t] for t in token]\n",
    "    tensor = torch.LongTensor(index).to(device)\n",
    "    tensor = tensor.unsqueeze(0)\n",
    "    pred = torch.sigmoid(model(tensor))\n",
    "    return pred.item()"
   ]
  },
  {
   "cell_type": "code",
   "execution_count": 37,
   "metadata": {
    "colab": {
     "base_uri": "https://localhost:8080/",
     "height": 122
    },
    "id": "5SbeR97pRnEt",
    "outputId": "69058222-42cc-4c69-b498-3f7670214282"
   },
   "outputs": [
    {
     "name": "stdout",
     "output_type": "stream",
     "text": [
      "\n",
      "Number of Neutrals that might be not Neutrals by LSTM :  2127\n",
      "\n",
      "Number of Neutrals that might be not Neutrals by GRU :  2087\n",
      "\n",
      "Number of Neutrals that might be not Neutrals that agree LSTM and GRU :  1808\n"
     ]
    }
   ],
   "source": [
    "# LSTM\n",
    "Neutral_pd = pd.read_csv(\"new_Neutral_General.csv\")\n",
    "train_pd = pd.read_csv(\"Train_General.csv\")\n",
    "\n",
    "\n",
    "for index, row in Neutral_pd.iterrows():\n",
    "    st=str(Neutral_pd['Article'][index])\n",
    "    v=sentence(new_model2,st)\n",
    "    if v>0.9:\n",
    "      Neutral_pd['Target'][index]=1.0\n",
    "    elif v<0.2:\n",
    "      Neutral_pd['Target'][index]=0.0\n",
    "    else:\n",
    "      Neutral_pd['Target'][index]=2.0\n",
    "\n",
    "\n",
    "#Delete these examples that are not classified as Positive or Negative\n",
    "indexNames = Neutral_pd[Neutral_pd['Target'] == 2.0].index\n",
    " \n",
    "# Delete these row indexes from dataFrame\n",
    "Neutral_pd.drop(indexNames , inplace=True)\n",
    "\n",
    "print(\"\\nNumber of Neutrals that might be not Neutrals by LSTM : \",len(Neutral_pd))\n",
    "\n",
    "# GRU\n",
    "Neutral_pd2 = pd.read_csv(\"new_Neutral_General.csv\")\n",
    "for index, row in Neutral_pd2.iterrows():\n",
    "    v=sentence(new_model3,str(Neutral_pd2['Article'][index]))\n",
    "    if v>0.9:\n",
    "      Neutral_pd2['Target'][index]=1.0\n",
    "    elif v<0.2:\n",
    "      Neutral_pd2['Target'][index]=0.0\n",
    "    else:\n",
    "      Neutral_pd2['Target'][index]=2.0\n",
    "\n",
    "#Delete these examples that are not classified as Positive or Negative\n",
    "indexNames = Neutral_pd2[Neutral_pd2['Target'] == 2.0].index\n",
    " \n",
    "# Delete these row indexes from dataFrame\n",
    "Neutral_pd2.drop(indexNames , inplace=True)\n",
    "\n",
    "print(\"\\nNumber of Neutrals that might be not Neutrals by GRU : \",len(Neutral_pd2))\n",
    "\n",
    "Neutral_pd=Neutral_pd.merge(Neutral_pd2)\n",
    "\n",
    "print(\"\\nNumber of Neutrals that might be not Neutrals that agree LSTM and GRU : \",len(Neutral_pd))\n"
   ]
  },
  {
   "cell_type": "code",
   "execution_count": 38,
   "metadata": {
    "colab": {
     "base_uri": "https://localhost:8080/",
     "height": 52
    },
    "id": "8tqabUffJiu-",
    "outputId": "8b450efe-dc36-47d5-a087-04ed0c42f2c4"
   },
   "outputs": [
    {
     "name": "stdout",
     "output_type": "stream",
     "text": [
      "Negative Examples in Training after OverSampling:  10032\n",
      "Positive Examples in Training after OverSampling:  10032\n"
     ]
    }
   ],
   "source": [
    "count1=(Neutral_pd['Target']==0).sum()\n",
    "count2=(Neutral_pd['Target']==1).sum()\n",
    "\n",
    "if count2>count1:\n",
    "  count3=count2//count1-1\n",
    "  count4=count2%count1\n",
    "  Xnew=Neutral_pd[Neutral_pd['Target']==0]\n",
    "else:\n",
    "  count3=count1//count2-1\n",
    "  count4=count1%count2\n",
    "  Xnew=Neutral_pd[Neutral_pd['Target']==1]\n",
    "\n",
    "for i in range(count3):\n",
    "  Neutral_pd = pd.concat([Neutral_pd,Xnew], ignore_index=True)\n",
    "\n",
    "Xnew=Xnew.head(count4)\n",
    "\n",
    "Neutral_pd = pd.concat([Neutral_pd,Xnew], ignore_index=True)\n",
    "Neutral_pd = pd.concat([train_pd,Neutral_pd], ignore_index=True)\n",
    "print(\"Negative Examples in Training after OverSampling: \",(Neutral_pd ['Target']==0).sum())\n",
    "print(\"Positive Examples in Training after OverSampling: \",(Neutral_pd ['Target']==1).sum())\n",
    "Neutral_pd = Neutral_pd.sample(frac=1).reset_index(drop=True)\n",
    "\n",
    "Neutral_pd.to_csv (r'General_train_with_Neutrals.csv', index = False, header=True)"
   ]
  },
  {
   "cell_type": "markdown",
   "metadata": {},
   "source": [
    "## Retrain Models with new examples from Semantic Neutrals"
   ]
  },
  {
   "cell_type": "code",
   "execution_count": 39,
   "metadata": {
    "colab": {
     "base_uri": "https://localhost:8080/",
     "height": 122
    },
    "id": "Jq-nRORtR7Ni",
    "outputId": "e807692f-2d1d-407d-efee-69ce3903b806"
   },
   "outputs": [
    {
     "data": {
      "text/plain": [
       "myGRU(\n",
       "  (embedding): Embedding(15963, 300)\n",
       "  (rnn): GRU(300, 256, num_layers=2, batch_first=True, dropout=0.4, bidirectional=True)\n",
       "  (fc): Linear(in_features=512, out_features=1, bias=True)\n",
       "  (dropout): Dropout(p=0.4, inplace=False)\n",
       ")"
      ]
     },
     "execution_count": 39,
     "metadata": {
      "tags": []
     },
     "output_type": "execute_result"
    }
   ],
   "source": [
    "torch.manual_seed(1234)\n",
    "torch.backends.cudnn.deterministic = True\n",
    "\n",
    "#TEXT = data.Field(tokenize='spacy',batch_first=True,include_lengths=True)\n",
    "TEXT = data.Field(batch_first=True)\n",
    "LABEL = data.LabelField(dtype = torch.float,batch_first=True)\n",
    "\n",
    "fields = [('text',TEXT),('label', LABEL)]\n",
    "X_train=data.TabularDataset(path = 'General_train_with_Neutrals.csv',format = 'csv',fields = fields,skip_header = True)\n",
    "X_test=data.TabularDataset(path = 'Test_General.csv',format = 'csv',fields = fields,skip_header = True)\n",
    "X_val=data.TabularDataset(path = 'Val_General.csv',format = 'csv',fields = fields,skip_header = True)\n",
    "\n",
    "TEXT.build_vocab(X_train)  \n",
    "LABEL.build_vocab(X_train)\n",
    "\n",
    "myInput = len(TEXT.vocab)\n",
    "myEmbed = 300\n",
    "myHid = 256\n",
    "myOut = 1\n",
    "batch=256\n",
    "dropout = 0.4\n",
    "\n",
    "train_it, val_it, test_it = data.BucketIterator.splits((X_train, X_val, X_test),sort_key = lambda x: len(x.text),\n",
    "    sort_within_batch=True,batch_size = batch,device = device)\n",
    "\n",
    "\n",
    "\n",
    "new_model4 = myLSTM(myInput, myEmbed, myHid, myOut,dropout)\n",
    "new_model4.to(torch.device(device))\n",
    "new_model5 = myGRU(myInput, myEmbed, myHid, myOut,dropout)\n",
    "new_model5.to(torch.device(device))\n"
   ]
  },
  {
   "cell_type": "markdown",
   "metadata": {
    "id": "OomQAjREPg5d"
   },
   "source": [
    "## LSTM results after learning \"Neutrals\""
   ]
  },
  {
   "cell_type": "code",
   "execution_count": 40,
   "metadata": {
    "colab": {
     "base_uri": "https://localhost:8080/",
     "height": 563
    },
    "id": "5rcyKydXgCjO",
    "outputId": "9d5baaa3-664a-41a8-939b-af9e61000302"
   },
   "outputs": [
    {
     "name": "stdout",
     "output_type": "stream",
     "text": [
      "Epoch :  5  Train Loss :  0.1473660087566587   Train Acc :  0.940565664556962   Valid Loss :  0.30259333550930023  Val Acc :  0.89861132701238\n",
      "Epoch :  10  Train Loss :  0.06727205697871462   Train Acc :  0.974947257886959   Valid Loss :  0.4915990498330858  Val Acc :  0.9005255831612481\n",
      "Epoch :  15  Train Loss :  0.03473952064243487   Train Acc :  0.9875395569620253   Valid Loss :  0.5850945628351636  Val Acc :  0.9022023114893172\n",
      "Epoch :  20  Train Loss :  0.023218474604330862   Train Acc :  0.9919402689873418   Valid Loss :  0.5806334349844191  Val Acc :  0.9057339164945815\n",
      "Epoch :  25  Train Loss :  0.017915300591671957   Train Acc :  0.9939016352725935   Valid Loss :  0.6679018172952864  Val Acc :  0.902814484304852\n",
      "Epoch :  30  Train Loss :  0.016966045144473828   Train Acc :  0.9942642405063291   Valid Loss :  0.6400822103023529  Val Acc :  0.9072530137168037\n",
      "\n",
      "Time needed for Training :  1.2421727299690246\n",
      "\n",
      "Loss in Testset :  0.6897919873396555   Accuracy in Testset :  0.9066022879038101 \n",
      "\n",
      "Normalized confusion matrix\n",
      "[[0.901 0.099]\n",
      " [0.087 0.913]]\n"
     ]
    },
    {
     "data": {
      "image/png": "[encoded data removed]",
      "text/plain": [
       "<Figure size 432x288 with 2 Axes>"
      ]
     },
     "metadata": {
      "needs_background": "light",
      "tags": []
     },
     "output_type": "display_data"
    }
   ],
   "source": [
    "lstm_list2=process_test(new_model4,30,train_it,val_it,test_it,0.001,\"LSTM_Gen_PN2.pt\")"
   ]
  },
  {
   "cell_type": "markdown",
   "metadata": {
    "id": "x2WiYrUrT5zv"
   },
   "source": [
    "## GRU results after learning \"Neutrals\""
   ]
  },
  {
   "cell_type": "code",
   "execution_count": 41,
   "metadata": {
    "colab": {
     "base_uri": "https://localhost:8080/",
     "height": 563
    },
    "id": "GPRHaveSOnKL",
    "outputId": "10e30bb1-967f-4ac0-ad4f-08792169f3d9"
   },
   "outputs": [
    {
     "name": "stdout",
     "output_type": "stream",
     "text": [
      "Epoch :  5  Train Loss :  0.1642461413446861   Train Acc :  0.9367912713485428   Valid Loss :  0.28324681520462036  Val Acc :  0.9020651943153806\n",
      "Epoch :  10  Train Loss :  0.07303440936286992   Train Acc :  0.971733254722402   Valid Loss :  0.41050425585773254  Val Acc :  0.898908234304852\n",
      "Epoch :  15  Train Loss :  0.040826770913185956   Train Acc :  0.9848694620253164   Valid Loss :  0.4696064194043477  Val Acc :  0.9064054720931582\n",
      "Epoch :  20  Train Loss :  0.02665629814072406   Train Acc :  0.9900283496591109   Valid Loss :  0.5251888367864821  Val Acc :  0.9138433270984225\n",
      "Epoch :  25  Train Loss :  0.022621822964895188   Train Acc :  0.9923852848101266   Valid Loss :  0.5222438226143519  Val Acc :  0.9113579226864709\n",
      "Epoch :  30  Train Loss :  0.018650028150222157   Train Acc :  0.9932917990261996   Valid Loss :  0.5586287478605906  Val Acc :  0.9116731882095337\n",
      "\n",
      "Time needed for Training :  1.0581895550092062\n",
      "\n",
      "Loss in Testset :  0.5599816777767279   Accuracy in Testset :  0.904333139077211 \n",
      "\n",
      "Normalized confusion matrix\n",
      "[[0.91  0.09 ]\n",
      " [0.098 0.902]]\n"
     ]
    },
    {
     "data": {
      "image/png": "[encoded data removed]",
      "text/plain": [
       "<Figure size 432x288 with 2 Axes>"
      ]
     },
     "metadata": {
      "needs_background": "light",
      "tags": []
     },
     "output_type": "display_data"
    }
   ],
   "source": [
    "gru_list2=process_test(new_model5,30,train_it,val_it,test_it,0.001,\"GRU_Gen_PN2.pt\")"
   ]
  }
 ],
 "metadata": {
  "accelerator": "GPU",
  "colab": {
   "collapsed_sections": [],
   "name": "Tech_Rnn_(1).ipynb",
   "provenance": [],
   "toc_visible": true
  },
  "kernelspec": {
   "display_name": "Python 3",
   "language": "python",
   "name": "python3"
  },
  "language_info": {
   "codemirror_mode": {
    "name": "ipython",
    "version": 3
   },
   "file_extension": ".py",
   "mimetype": "text/x-python",
   "name": "python",
   "nbconvert_exporter": "python",
   "pygments_lexer": "ipython3",
   "version": "3.7.7"
  }
 },
 "nbformat": 4,
 "nbformat_minor": 1
}
