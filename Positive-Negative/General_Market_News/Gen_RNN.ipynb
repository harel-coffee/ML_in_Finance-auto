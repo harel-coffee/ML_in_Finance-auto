{
  "nbformat": 4,
  "nbformat_minor": 0,
  "metadata": {
    "accelerator": "GPU",
    "colab": {
      "name": "Gen_RNN_(1).ipynb",
      "provenance": [],
      "collapsed_sections": [],
      "toc_visible": true
    },
    "kernelspec": {
      "display_name": "Python 3",
      "language": "python",
      "name": "python3"
    },
    "language_info": {
      "codemirror_mode": {
        "name": "ipython",
        "version": 3
      },
      "file_extension": ".py",
      "mimetype": "text/x-python",
      "name": "python",
      "nbconvert_exporter": "python",
      "pygments_lexer": "ipython3",
      "version": "3.7.7"
    }
  },
  "cells": [
    {
      "cell_type": "markdown",
      "metadata": {
        "id": "JXpZldYOUjGJ"
      },
      "source": [
        "## Import Libraries"
      ]
    },
    {
      "cell_type": "code",
      "metadata": {
        "colab": {
          "base_uri": "https://localhost:8080/"
        },
        "id": "a5HnPotefAq7",
        "outputId": "3319e021-de05-40ae-f284-bf026463192c"
      },
      "source": [
        ">>> import nltk\n",
        ">>> nltk.download('stopwords')\n",
        "import pandas as pd\n",
        "import json\n",
        "import numpy as np\n",
        "import re\n",
        "from nltk.stem.porter import *\n",
        "from nltk.corpus import stopwords\n",
        "from sklearn.model_selection import train_test_split\n",
        "from sklearn import model_selection,metrics,preprocessing\n",
        "import torch\n",
        "from torchtext.legacy import data\n",
        "import random\n",
        "import torch.nn as nn\n",
        "import torch.nn.functional as F\n",
        "import torch.optim as optim\n",
        "import time\n",
        "import spacy\n",
        "lang = spacy.load('en')\n",
        "stemmer = PorterStemmer()\n",
        "import seaborn as sns\n",
        "from sklearn import metrics\n",
        "from sklearn.metrics import confusion_matrix\n",
        "import matplotlib.pyplot as plt\n",
        "import six\n",
        "import sys\n",
        "sys.modules['sklearn.externals.six'] = six\n",
        "from imblearn.over_sampling import RandomOverSampler\n",
        "\n",
        "stemmer = PorterStemmer()\n",
        "import warnings\n",
        "warnings.filterwarnings('ignore')\n",
        "device = torch.device(\"cuda:0\" if torch.cuda.is_available() else \"cpu\")\n",
        "print(\"GPU Model   \",torch.cuda.get_device_name(0))"
      ],
      "execution_count": 28,
      "outputs": [
        {
          "output_type": "stream",
          "text": [
            "[nltk_data] Downloading package stopwords to /root/nltk_data...\n",
            "[nltk_data]   Package stopwords is already up-to-date!\n",
            "GPU Model    Tesla T4\n"
          ],
          "name": "stdout"
        }
      ]
    },
    {
      "cell_type": "markdown",
      "metadata": {
        "id": "6aUng0tUOnJU"
      },
      "source": [
        "## Confusion Matrix Method"
      ]
    },
    {
      "cell_type": "code",
      "metadata": {
        "id": "UDGI_gcARDf3"
      },
      "source": [
        "def plot_confusion_matrix(cm, classes,\n",
        "                          normalize=True,\n",
        "                          title='Confusion matrix',\n",
        "                          cmap=plt.cm.Blues):\n",
        "    \n",
        "    import itertools\n",
        "    if normalize:\n",
        "        cm = cm.astype('float') / cm.sum(axis=1)[:, np.newaxis]\n",
        "        print(\"Normalized confusion matrix\")\n",
        "    else:\n",
        "        print('Confusion matrix, without normalization')\n",
        "\n",
        "    print(cm)\n",
        "\n",
        "    plt.imshow(cm, interpolation='nearest', cmap=cmap)\n",
        "    plt.title(title)\n",
        "    plt.colorbar()\n",
        "    tick_marks = np.arange(len(classes))\n",
        "    plt.xticks(tick_marks, classes, rotation=45)\n",
        "    plt.yticks(tick_marks, classes)\n",
        "\n",
        "    fmt = '.2f' if normalize else 'd'\n",
        "    thresh = cm.max() / 2.\n",
        "    for i, j in itertools.product(range(cm.shape[0]), range(cm.shape[1])):\n",
        "        plt.text(j, i, format(cm[i, j], fmt),\n",
        "                 horizontalalignment=\"center\",\n",
        "                 color=\"white\" if cm[i, j] > thresh else \"black\")\n",
        "\n",
        "    plt.ylabel('True label')\n",
        "    plt.xlabel('Predicted label')\n",
        "    plt.tight_layout()"
      ],
      "execution_count": 29,
      "outputs": []
    },
    {
      "cell_type": "markdown",
      "metadata": {
        "id": "Ju-OgZmqOnJY"
      },
      "source": [
        "## Cleaning Data, Preprocessing"
      ]
    },
    {
      "cell_type": "code",
      "metadata": {
        "id": "VCJKt_MyfAq-"
      },
      "source": [
        "def clean_data(X):\n",
        "    STOPWORDS = set(stopwords.words('english'))\n",
        "    X=X.str.lower()\n",
        "    X=X.str.replace(\"[/(){}\\[\\]\\|@,;]\", \" \")\n",
        "    X=X.str.replace(\"[^0-9a-z #+_]\", \" \")\n",
        "    X = X.str.replace(r'\\d+','')\n",
        "    X = X.apply(lambda x: ' '.join([w for w in str(x).split() if (len(w)>2 and w not in STOPWORDS) ] ))\n",
        "    X = X.apply(lambda x: x.split()) \n",
        "    return X\n",
        "\n",
        "def target_arrange(y):\n",
        "    \n",
        "    for i in range(len(y)):\n",
        "        if y.values[i]=='Negative':\n",
        "            y.values[i]=0.0\n",
        "        else:\n",
        "            y.values[i]=1.0\n",
        "            \n",
        "    y=y.to_numpy()  \n",
        "    y=y.reshape(y.shape[0],1)\n",
        "    y= pd.DataFrame(data=y)\n",
        "    y=np.ravel(y)\n",
        "    y=y.astype('float')\n",
        "    return y"
      ],
      "execution_count": 30,
      "outputs": []
    },
    {
      "cell_type": "markdown",
      "metadata": {
        "id": "AExKeWCZOnJb"
      },
      "source": [
        "## Load Dataset and Process"
      ]
    },
    {
      "cell_type": "code",
      "metadata": {
        "colab": {
          "base_uri": "https://localhost:8080/"
        },
        "id": "39r_65tmfArB",
        "outputId": "6db64d4a-fb8c-4b20-c678-d6e064572588"
      },
      "source": [
        "with open(\"All_Tickers_PN.json\",\"r\") as fp:\n",
        "#with open(\"General_Market.json\",encoding='utf8') as fp:\n",
        "    json_d = json.load(fp)\n",
        " \n",
        "ticks_d = json_d['data']\n",
        "df = pd.DataFrame(ticks_d)\n",
        "\n",
        "X= pd.DataFrame(columns=['Date', 'Article','Target'])\n",
        "X['Date']=pd.to_datetime(df['date'])\n",
        "X['Article']=df['title']+\" \"+df['text']\n",
        "X['Target']=df['sentiment']\n",
        "\n",
        "# we will use the Neutrals in the end (All Neutrals)\n",
        "# *************************************\n",
        "Xnew_Neutrals=X[X['Target']=='Neutral']\n",
        "Xnew_Neutrals=Xnew_Neutrals.sort_values(\"Date\")\n",
        "Xnew_Neutrals.drop_duplicates(inplace=True)\n",
        "Xnew_Neutrals.index = range(len(Xnew_Neutrals))\n",
        "Xnew_Neutrals['Article']=clean_data(Xnew_Neutrals['Article'])\n",
        "Xnew_Neutrals['Target']=target_arrange(Xnew_Neutrals['Target'])\n",
        "Xnew_Neutrals=Xnew_Neutrals.drop('Date',1)\n",
        "# *******************************************\n",
        "\n",
        "indexNames = X[X['Target'] == 'Neutral'].index\n",
        " \n",
        "# Delete these row indexes from dataFrame\n",
        "X.drop(indexNames , inplace=True)\n",
        "\n",
        "\n",
        "X=X.sort_values(\"Date\")\n",
        "\n",
        "print(\"Number of Examples : \",len(X),\"\\n\")\n",
        "X.drop_duplicates(inplace=True)\n",
        "X.index = range(len(X))\n",
        "print(\"Number of Examples after removing duplicates: \",len(X),\"\\n\")\n",
        "\n",
        "print('Number of words before cleaning : ',X['Article'].apply(lambda x: len(str(x).split(' '))).sum())\n",
        "X['Article']=clean_data(X['Article'])\n",
        "print('Number of words after cleaning : ',X['Article'].apply(lambda x: len(str(x).split(' '))).sum())\n",
        "print(\"\\n******************\\n\")\n",
        "\n",
        "X['Target']=target_arrange(X['Target'])\n",
        "X=X.drop('Date',1)\n",
        "\n",
        "print(\"Negative Examples : \",(X['Target']==0).sum())\n",
        "print(\"Positive Examples : \",(X['Target']==1).sum())\n"
      ],
      "execution_count": 31,
      "outputs": [
        {
          "output_type": "stream",
          "text": [
            "Number of Examples :  133743 \n",
            "\n",
            "Number of Examples after removing duplicates:  74595 \n",
            "\n",
            "Number of words before cleaning :  2635769\n",
            "Number of words after cleaning :  1717037\n",
            "\n",
            "******************\n",
            "\n",
            "Negative Examples :  37278\n",
            "Positive Examples :  37317\n"
          ],
          "name": "stdout"
        }
      ]
    },
    {
      "cell_type": "markdown",
      "metadata": {
        "id": "GPK6sNgYOnJf"
      },
      "source": [
        "## Stemming"
      ]
    },
    {
      "cell_type": "code",
      "metadata": {
        "colab": {
          "base_uri": "https://localhost:8080/"
        },
        "id": "F2Lyyf7vfArF",
        "outputId": "e9faa59a-81c0-45ea-b83d-09dbec41d393"
      },
      "source": [
        "X['Article']= X['Article'].apply(lambda x: [stemmer.stem(i) for i in x]) # stemming\n",
        "for i in range(len(X['Article'])): #φέρνω τα tokens ξανά μαζί διαχωριζόμενα με κενά\n",
        "    X['Article'][i] = ' '.join(X['Article'][i])\n",
        "print(X['Article'])\n",
        "Xv = X['Article'].to_frame()\n",
        "\n",
        "\n",
        "# Stemming for Neutrals\n",
        "#**********************************************************************************************************\n",
        "Xnew_Neutrals['Article']= Xnew_Neutrals['Article'].apply(lambda x: [stemmer.stem(i) for i in x]) # stemming\n",
        "for i in range(len(Xnew_Neutrals['Article'])): #φέρνω τα tokens ξανά μαζί διαχωριζόμενα με κενά\n",
        "    Xnew_Neutrals['Article'][i] = ' '.join(Xnew_Neutrals['Article'][i])\n",
        "Xnew_Neutrals['Article'] = Xnew_Neutrals['Article'].to_frame()\n",
        "Xnew_Neutrals.to_csv (r'All_Neutrals.csv', index = False, header=True)\n",
        "#*************************************************************************************************************"
      ],
      "execution_count": 32,
      "outputs": [
        {
          "output_type": "stream",
          "text": [
            "0        com stock problem beyond china trade war com s...\n",
            "1        adob share fall disappoint guidanc share adob ...\n",
            "2        first solar stock drop solar power grow solar ...\n",
            "3        mobil sprint merger oppos attorney gener penns...\n",
            "4        pennsylvania join state oppos merger mobil spr...\n",
            "                               ...                        \n",
            "74590    emerg biosolut slip friday profit came estim c...\n",
            "74591    aftermath elect market labor market nov sharmi...\n",
            "74592    weekli high frequenc indic slow improv continu...\n",
            "74593    alibaba user growth core commerc earn concern ...\n",
            "74594    nouriel roubini discuss economi stimulu elect ...\n",
            "Name: Article, Length: 74595, dtype: object\n"
          ],
          "name": "stdout"
        }
      ]
    },
    {
      "cell_type": "markdown",
      "metadata": {
        "id": "TIcQ7Cj8OnJk"
      },
      "source": [
        "## Oversampling and Csvs"
      ]
    },
    {
      "cell_type": "code",
      "metadata": {
        "colab": {
          "base_uri": "https://localhost:8080/"
        },
        "id": "v_A1300jfArI",
        "outputId": "ce683cbb-494f-4349-aec6-1ed0295a5fe2"
      },
      "source": [
        "X_train,X_test,y_train,y_test = train_test_split(Xv,X['Target'], test_size=0.2,stratify=X['Target'])\n",
        "X_train,X_val,y_train,y_val = train_test_split(X_train,y_train, test_size=0.1,stratify=y_train)\n",
        "\n",
        "ros = RandomOverSampler()\n",
        "X_train,y_train = ros.fit_resample(X_train, y_train)\n",
        "\n",
        "train1=pd.DataFrame(columns=['Article','Target'])\n",
        "val = pd.DataFrame(columns=['Article','Target'])\n",
        "test= pd.DataFrame(columns=['Article','Target'])\n",
        "\n",
        "df = pd.DataFrame(data = X_train,columns=['Article'])\n",
        "df1= pd.DataFrame(data = y_train,columns=['Target'])\n",
        "train1['Article']=df['Article']\n",
        "train1['Target']=df1['Target']\n",
        "df = pd.DataFrame(data = X_test,columns=['Article'])\n",
        "df1= pd.DataFrame(data = y_test,columns=['Target'])\n",
        "test['Article']=df['Article']\n",
        "test['Target']=df1['Target']\n",
        "df = pd.DataFrame(data = X_val,columns=['Article'])\n",
        "df1= pd.DataFrame(data = y_val,columns=['Target'])\n",
        "val['Article']=df['Article']\n",
        "val['Target']=df1['Target']\n",
        "\n",
        "print(\"Negative Examples in Training after OverSampling: \",(train1['Target']==0).sum())\n",
        "print(\"Positive Examples in Training after OverSampling: \",(train1['Target']==1).sum())\n",
        "\n",
        "train1.to_csv (r'Train_General.csv', index = False, header=True)\n",
        "test.to_csv (r'Test_General.csv', index = False, header=True)\n",
        "val.to_csv (r'Val_General.csv', index = False, header=True)\n",
        "\n",
        "\n"
      ],
      "execution_count": 33,
      "outputs": [
        {
          "output_type": "stream",
          "text": [
            "Negative Examples in Training after OverSampling:  26868\n",
            "Positive Examples in Training after OverSampling:  26868\n"
          ],
          "name": "stdout"
        }
      ]
    },
    {
      "cell_type": "markdown",
      "metadata": {
        "id": "rN-KlTrxOnJn"
      },
      "source": [
        "## Build Vocabulary"
      ]
    },
    {
      "cell_type": "code",
      "metadata": {
        "colab": {
          "base_uri": "https://localhost:8080/"
        },
        "id": "HmOB68OSfArK",
        "outputId": "b15134b5-ae1f-47a4-b988-be8ceee4ca43"
      },
      "source": [
        "\n",
        "torch.manual_seed(1234)\n",
        "torch.backends.cudnn.deterministic = True\n",
        "\n",
        "#TEXT = data.Field(tokenize='spacy',batch_first=True,include_lengths=True)\n",
        "TEXT = data.Field(batch_first=True)\n",
        "LABEL = data.LabelField(dtype = torch.float,batch_first=True)\n",
        "\n",
        "fields = [('text',TEXT),('label', LABEL)]\n",
        "X_train=data.TabularDataset(path = 'Train_General.csv',format = 'csv',fields = fields,skip_header = True)\n",
        "X_test=data.TabularDataset(path = 'Test_General.csv',format = 'csv',fields = fields,skip_header = True)\n",
        "X_val=data.TabularDataset(path = 'Val_General.csv',format = 'csv',fields = fields,skip_header = True)\n",
        "\n",
        "TEXT.build_vocab(X_train)  \n",
        "LABEL.build_vocab(X_train)\n",
        "\n",
        "print(\"Size of TEXT vocabulary:\",len(TEXT.vocab))\n",
        "\n",
        "#No. of unique tokens in label\n",
        "print(\"Size of LABEL vocabulary:\",len(LABEL.vocab))\n",
        "\n",
        "#Commonly used words\n",
        "print(TEXT.vocab.freqs.most_common(10))  \n"
      ],
      "execution_count": 34,
      "outputs": [
        {
          "output_type": "stream",
          "text": [
            "Size of TEXT vocabulary: 23344\n",
            "Size of LABEL vocabulary: 2\n",
            "[('stock', 29960), ('earn', 18201), ('market', 14207), ('report', 11954), ('compani', 8292), ('coronaviru', 8289), ('expect', 7476), ('trade', 7302), ('investor', 7023), ('share', 6663)]\n"
          ],
          "name": "stdout"
        }
      ]
    },
    {
      "cell_type": "markdown",
      "metadata": {
        "id": "oHdw0ArTOnJr"
      },
      "source": [
        "## Accuracy, Loss and Optimizer Function"
      ]
    },
    {
      "cell_type": "code",
      "metadata": {
        "id": "hIvY8I8tfArM"
      },
      "source": [
        "def find_accuracy(preds, y):\n",
        "    real_values=torch.sigmoid(preds)\n",
        "    temp = torch.round(real_values)\n",
        "    valid = (temp == y).float() \n",
        "    accur = valid.sum() / len(valid)\n",
        "    return accur,temp,y,real_values\n",
        "\n",
        "def Loss_Optimizer (model,valueLR):\n",
        "    criterion = nn.BCEWithLogitsLoss()\n",
        "    #criterion = nn.BCELoss()\n",
        "    optimizer = torch.optim.Adam(model.parameters(), lr=valueLR)\n",
        "    return optimizer,criterion"
      ],
      "execution_count": 35,
      "outputs": []
    },
    {
      "cell_type": "markdown",
      "metadata": {
        "id": "TcqCvumUOnJu"
      },
      "source": [
        "## Training and Testing Functions "
      ]
    },
    {
      "cell_type": "code",
      "metadata": {
        "id": "lNSC2cF4fArO"
      },
      "source": [
        "def train(model,data,lr,optimizer,criterion):\n",
        "        \n",
        "    model.train()\n",
        "    sumloss=0.0\n",
        "    sumacc=0.0\n",
        "    for i in data:\n",
        "        text = i.text   \n",
        "        optimizer.zero_grad()\n",
        "        pred = model(text).squeeze(1)    \n",
        "        loss = criterion(pred, i.label)\n",
        "        acc,_,_,_ = find_accuracy(pred, i.label)\n",
        "        loss.backward()\n",
        "        optimizer.step()\n",
        "        sumloss += loss.item()\n",
        "        sumacc += acc.item()\n",
        "          \n",
        "    return sumloss / len(data), sumacc / len(data)\n",
        "\n",
        "def test(model, data, criterion):\n",
        "    y_pred_list = []\n",
        "    y_true_list = []\n",
        "    real_v_list = []\n",
        "    sumloss = 0\n",
        "    sumacc = 0\n",
        "    \n",
        "    model.eval()\n",
        "    \n",
        "    with torch.no_grad():\n",
        "    \n",
        "        for i in data:\n",
        "            text = i.text\n",
        "            \n",
        "            pred = model(text).squeeze(1)\n",
        "           \n",
        "            loss = criterion(pred, i.label)\n",
        "            \n",
        "            acc,y_pred_tags,y_true,real_v = find_accuracy(pred, i.label)\n",
        "\n",
        "            sumloss += loss.item()\n",
        "            sumacc += acc.item()\n",
        "            y_pred_list.append(y_pred_tags.cpu().numpy())\n",
        "            y_true_list.append(y_true.cpu().numpy())\n",
        "            real_v_list+=real_v.flatten().tolist()\n",
        "        \n",
        "    return sumloss / len(data), sumacc / len(data),y_pred_list,y_true_list,real_v_list\n",
        "\n",
        "def process_test(model,numEpochs,data_tr,data_val,data_test,lr,best_model):\n",
        "\n",
        "    optimizer,criterion=Loss_Optimizer (model,lr)\n",
        "    criterion = criterion.to(device)\n",
        "    start_time = time.time()\n",
        "    \n",
        "    for i in range(numEpochs):\n",
        " \n",
        "        train_loss, train_acc = train(model, data_tr, lr,optimizer,criterion)\n",
        "        valid_loss, valid_acc,_,_ ,_= test(model, data_val, criterion)\n",
        "        \n",
        "        if i==0:\n",
        "            max=valid_acc\n",
        "            torch.save(model.state_dict(), best_model)\n",
        "        elif valid_acc > max:\n",
        "            max = valid_acc\n",
        "            torch.save(model.state_dict(), best_model)\n",
        "\n",
        "        if (i+1)%5==0:\n",
        "          print(\"Epoch : \",i+1,\" Train Loss : \",train_loss,\"  Train Acc : \",train_acc,\"  Valid Loss : \",valid_loss, \" Val Acc : \",valid_acc)\n",
        "    \n",
        "    end_time = time.time()\n",
        "    timeHelp=(end_time-start_time)/60.0\n",
        "    print(\"\\nTime needed for Training : \",timeHelp)\n",
        "\n",
        "    \n",
        "    \n",
        "   \n",
        "    model.load_state_dict(torch.load(best_model))\n",
        "    \n",
        "    test_loss, test_acc,y_pred_list,y_true_list, real_v_list= test(model, data_test, criterion)\n",
        "    print(\"\\nLoss in Testset : \",test_loss,\"  Accuracy in Testset : \",test_acc,\"\\n\")\n",
        "\n",
        "    y_pred_list = [a.squeeze().tolist() for a in y_pred_list]\n",
        "    y_true_list = [a.squeeze().tolist() for a in y_true_list]\n",
        "    \n",
        "    yp = [item for sublist in y_pred_list for item in sublist]\n",
        "    yt = [item for sublist in y_true_list for item in sublist]\n",
        "    \n",
        "    cnf_matrix = confusion_matrix(yt, yp,labels=[0, 1])\n",
        "    np.set_printoptions(precision=3)\n",
        "\n",
        "    plt.figure()\n",
        "    plot_confusion_matrix(cnf_matrix, classes=[0, 1],\n",
        "                      title='Confusion matrix, with normalization')\n",
        "    print(\"\\n\")\n",
        "    print(metrics.classification_report(yt, yp, digits=3))\n",
        "     \n",
        "    return real_v_list\n",
        "\n",
        "def process_test2(model,numEpochs,data_tr,data_val,data_test,lr,best_model):\n",
        "\n",
        "    optimizer,criterion=Loss_Optimizer (model,lr)\n",
        "    criterion = criterion.to(device)\n",
        "    start_time = time.time()\n",
        "        \n",
        "    for i in range(numEpochs):\n",
        " \n",
        "        train_loss, train_acc = train(model, data_tr, lr,optimizer,criterion)\n",
        "        valid_loss, valid_acc,_,_,_ = test(model, data_val, criterion)\n",
        "        \n",
        "        if i==0:\n",
        "            minloss=valid_loss\n",
        "            torch.save(model.state_dict(), best_model)\n",
        "        elif valid_loss < minloss:\n",
        "            minloss = valid_loss\n",
        "            torch.save(model.state_dict(), best_model)\n",
        "\n",
        "        if (i+1)%5==0:\n",
        "          print(\"Epoch : \",i+1,\" Train Loss : \",train_loss,\"  Train Acc : \",train_acc,\"  Valid Loss : \",valid_loss, \" Val Acc : \",valid_acc)\n",
        "    \n",
        "    end_time = time.time()\n",
        "    timeHelp=(end_time-start_time)/60.0\n",
        "    print(\"\\nTime needed for Training : \",timeHelp)\n",
        "\n",
        "    model.load_state_dict(torch.load(best_model))\n",
        "    \n",
        "    test_loss, test_acc,y_pred_list,y_true_list, real_v_list= test(model, data_test, criterion)\n",
        "    print(\"\\nLoss in Testset : \",test_loss,\"  Accuracy in Testset : \",test_acc,\"\\n\")\n",
        "\n",
        "    y_pred_list = [a.squeeze().tolist() for a in y_pred_list]\n",
        "    y_true_list = [a.squeeze().tolist() for a in y_true_list]\n",
        "    \n",
        "    yp = [item for sublist in y_pred_list for item in sublist]\n",
        "    yt = [item for sublist in y_true_list for item in sublist]\n",
        "    \n",
        "    cnf_matrix = confusion_matrix(yt, yp,labels=[0, 1])\n",
        "    np.set_printoptions(precision=3)\n",
        "\n",
        "    plt.figure()\n",
        "    plot_confusion_matrix(cnf_matrix, classes=[0, 1],\n",
        "                      title='Confusion matrix, with normalization')\n",
        "    return real_v_list"
      ],
      "execution_count": 36,
      "outputs": []
    },
    {
      "cell_type": "markdown",
      "metadata": {
        "id": "m-swBnngOnJ4"
      },
      "source": [
        "## RNN Models"
      ]
    },
    {
      "cell_type": "code",
      "metadata": {
        "id": "iN7ov3gHfArY"
      },
      "source": [
        "class myLSTM(nn.Module):\n",
        "    def __init__(self, voc, embed_d, hid_d, out_d,dropout):\n",
        "        \n",
        "        super().__init__()\n",
        "        \n",
        "        self.embedding = nn.Embedding(voc, embed_d)\n",
        "        self.rnn = nn.LSTM(embed_d,hid_d,batch_first=True,num_layers=2,bidirectional=True,dropout=dropout)\n",
        "        self.fc = nn.Linear(hid_d * 2, out_d)\n",
        "        self.dropout = nn.Dropout(dropout)\n",
        "    def forward(self, input_text):\n",
        "                \n",
        "        embedded = self.dropout(self.embedding(input_text))\n",
        "       \n",
        "        rnn_out,(rnn_hid,rnn_cell) = self.rnn(embedded)\n",
        "        hidden = self.dropout(torch.cat((rnn_hid[-2,:,:], rnn_hid[-1,:,:]), dim=1))\n",
        "        out=self.fc(hidden.squeeze(0))\n",
        "        return out\n",
        "\n",
        "class myGRU(nn.Module):\n",
        "    def __init__(self, voc, embed_d, hid_d, out_d,dropout):\n",
        "        \n",
        "        super().__init__()\n",
        "        \n",
        "        self.embedding = nn.Embedding(voc, embed_d)\n",
        "        self.rnn = nn.GRU(embed_d,hid_d,batch_first=True,num_layers=2,bidirectional=True,dropout=dropout)\n",
        "        self.fc = nn.Linear(hid_d * 2, out_d)\n",
        "        self.dropout = nn.Dropout(dropout)\n",
        "    def forward(self, input_text):\n",
        "                \n",
        "        embedded = self.dropout(self.embedding(input_text))\n",
        "        \n",
        "        rnn_out,hidden = self.rnn(embedded)\n",
        "        hidden = self.dropout(torch.cat((hidden[-2,:,:], hidden[-1,:,:]), dim=1))\n",
        "        out=self.fc(hidden.squeeze(0))\n",
        "        return out"
      ],
      "execution_count": 37,
      "outputs": []
    },
    {
      "cell_type": "code",
      "metadata": {
        "colab": {
          "base_uri": "https://localhost:8080/"
        },
        "id": "tMbHHUnifArd",
        "outputId": "747e90a1-b776-4b70-d611-0d486bcbffe5"
      },
      "source": [
        "myInput = len(TEXT.vocab)\n",
        "myEmbed = 300\n",
        "myHid = 256\n",
        "myOut = 1\n",
        "batch=12\n",
        "dropout = 0.5\n",
        "\n",
        "train_it, val_it, test_it = data.BucketIterator.splits((X_train, X_val, X_test),sort_key = lambda x: len(x.text),\n",
        "    sort_within_batch=True,batch_size = batch,device = device)  \n",
        "\n",
        "new_model2 = myLSTM(myInput, myEmbed, myHid, myOut,dropout)\n",
        "new_model2.to(torch.device(device))\n",
        "new_model3 = myGRU(myInput, myEmbed, myHid, myOut,dropout)\n",
        "new_model3.to(torch.device(device))\n",
        "\n",
        "print(new_model2)\n",
        "print(new_model3)\n",
        "#torch.save(new_model2.state_dict(), 'model_LSTM_1.pt')"
      ],
      "execution_count": 38,
      "outputs": [
        {
          "output_type": "stream",
          "text": [
            "myLSTM(\n",
            "  (embedding): Embedding(23344, 300)\n",
            "  (rnn): LSTM(300, 256, num_layers=2, batch_first=True, dropout=0.5, bidirectional=True)\n",
            "  (fc): Linear(in_features=512, out_features=1, bias=True)\n",
            "  (dropout): Dropout(p=0.5, inplace=False)\n",
            ")\n",
            "myGRU(\n",
            "  (embedding): Embedding(23344, 300)\n",
            "  (rnn): GRU(300, 256, num_layers=2, batch_first=True, dropout=0.5, bidirectional=True)\n",
            "  (fc): Linear(in_features=512, out_features=1, bias=True)\n",
            "  (dropout): Dropout(p=0.5, inplace=False)\n",
            ")\n"
          ],
          "name": "stdout"
        }
      ]
    },
    {
      "cell_type": "markdown",
      "metadata": {
        "id": "NEVvf-RpPUpC"
      },
      "source": [
        "## LSTM results"
      ]
    },
    {
      "cell_type": "code",
      "metadata": {
        "colab": {
          "base_uri": "https://localhost:8080/",
          "height": 757
        },
        "id": "xEMSmzBOfArf",
        "outputId": "899d2cc2-f5bd-444e-986d-f46b84ac01b5"
      },
      "source": [
        "lstm_list=process_test(new_model2,30,train_it,val_it,test_it,0.001,\"LSTM_Gen_PN.pt\")"
      ],
      "execution_count": 39,
      "outputs": [
        {
          "output_type": "stream",
          "text": [
            "Epoch :  5  Train Loss :  0.19422965941038906   Train Acc :  0.9210771328107008   Valid Loss :  0.2711955632544104  Val Acc :  0.9067938589906118\n",
            "Epoch :  10  Train Loss :  0.15490433373698023   Train Acc :  0.9380489926803532   Valid Loss :  0.32387577780290044  Val Acc :  0.898761731793124\n",
            "Epoch :  15  Train Loss :  0.13555869175837254   Train Acc :  0.9463302180829886   Valid Loss :  0.3563076773643551  Val Acc :  0.9006024275917605\n",
            "Epoch :  20  Train Loss :  0.1252970571667191   Train Acc :  0.9499776793836003   Valid Loss :  0.3601576761982168  Val Acc :  0.8965863632150444\n",
            "Epoch :  25  Train Loss :  0.11820380000213815   Train Acc :  0.952006114319852   Valid Loss :  0.3959732295968196  Val Acc :  0.8940763246103463\n",
            "Epoch :  30  Train Loss :  0.11148690455650362   Train Acc :  0.9545556150040705   Valid Loss :  0.3866133086894004  Val Acc :  0.8975903785611731\n",
            "\n",
            "Time needed for Training :  22.253385162353517\n",
            "\n",
            "Loss in Testset :  0.26840712923425175   Accuracy in Testset :  0.9046088051757628 \n",
            "\n",
            "Normalized confusion matrix\n",
            "[[0.91  0.09 ]\n",
            " [0.101 0.899]]\n",
            "\n",
            "\n",
            "              precision    recall  f1-score   support\n",
            "\n",
            "         0.0      0.900     0.910     0.905      7456\n",
            "         1.0      0.909     0.899     0.904      7463\n",
            "\n",
            "    accuracy                          0.905     14919\n",
            "   macro avg      0.905     0.905     0.905     14919\n",
            "weighted avg      0.905     0.905     0.905     14919\n",
            "\n"
          ],
          "name": "stdout"
        },
        {
          "output_type": "display_data",
          "data": {
            "image/png": "[encoded data removed]",
            "text/plain": [
              "<Figure size 432x288 with 2 Axes>"
            ]
          },
          "metadata": {
            "tags": [],
            "needs_background": "light"
          }
        }
      ]
    },
    {
      "cell_type": "markdown",
      "metadata": {
        "id": "qtwyx_WOPa1U"
      },
      "source": [
        "## GRU results"
      ]
    },
    {
      "cell_type": "code",
      "metadata": {
        "colab": {
          "base_uri": "https://localhost:8080/",
          "height": 757
        },
        "id": "ufEdn9rhfAri",
        "outputId": "4a9675c6-ff9c-4855-d726-3413497e6c46"
      },
      "source": [
        "gru_list=process_test(new_model3,30,train_it,val_it,test_it,0.001,\"GRU_Gen_PN.pt\")"
      ],
      "execution_count": 40,
      "outputs": [
        {
          "output_type": "stream",
          "text": [
            "Epoch :  5  Train Loss :  0.2230992252031044   Train Acc :  0.911158271563165   Valid Loss :  0.2460447903385902  Val Acc :  0.9032798027657122\n",
            "Epoch :  10  Train Loss :  0.2037587437855455   Train Acc :  0.9197558583878895   Valid Loss :  0.26984376746723543  Val Acc :  0.8995984109290632\n",
            "Epoch :  15  Train Loss :  0.20846011721888452   Train Acc :  0.9194581066193779   Valid Loss :  0.2709149790172237  Val Acc :  0.9036144744679631\n",
            "Epoch :  20  Train Loss :  0.2172420462071413   Train Acc :  0.9147499035436588   Valid Loss :  0.2756375305543478  Val Acc :  0.9017737784299505\n",
            "Epoch :  25  Train Loss :  0.22620780392378975   Train Acc :  0.9111768804314202   Valid Loss :  0.27681371660147563  Val Acc :  0.8977577148910507\n",
            "Epoch :  30  Train Loss :  0.23212624969029097   Train Acc :  0.908441284595722   Valid Loss :  0.2825298732722619  Val Acc :  0.8942436596236555\n",
            "\n",
            "Time needed for Training :  20.75649758974711\n",
            "\n",
            "Loss in Testset :  0.2591740906334383   Accuracy in Testset :  0.8999866192555505 \n",
            "\n",
            "Normalized confusion matrix\n",
            "[[0.902 0.098]\n",
            " [0.102 0.898]]\n",
            "\n",
            "\n",
            "              precision    recall  f1-score   support\n",
            "\n",
            "         0.0      0.898     0.902     0.900      7456\n",
            "         1.0      0.902     0.898     0.900      7463\n",
            "\n",
            "    accuracy                          0.900     14919\n",
            "   macro avg      0.900     0.900     0.900     14919\n",
            "weighted avg      0.900     0.900     0.900     14919\n",
            "\n"
          ],
          "name": "stdout"
        },
        {
          "output_type": "display_data",
          "data": {
            "image/png": "[encoded data removed]",
            "text/plain": [
              "<Figure size 432x288 with 2 Axes>"
            ]
          },
          "metadata": {
            "tags": [],
            "needs_background": "light"
          }
        }
      ]
    },
    {
      "cell_type": "markdown",
      "metadata": {
        "id": "LL__ZjtQRcQP"
      },
      "source": [
        "## Evaluate Semantic Neutrals as Positive-Negative"
      ]
    },
    {
      "cell_type": "code",
      "metadata": {
        "id": "jpGfxh5xPrUR"
      },
      "source": [
        "def sentence(model, s):\n",
        "    model.eval()\n",
        "    \n",
        "    token = [tok.text for tok in lang.tokenizer(s)]\n",
        "    index = [TEXT.vocab.stoi[t] for t in token]\n",
        "    tensor = torch.LongTensor(index).to(device)\n",
        "    tensor = tensor.unsqueeze(0)\n",
        "    pred = torch.sigmoid(model(tensor))\n",
        "    return pred.item()"
      ],
      "execution_count": 41,
      "outputs": []
    },
    {
      "cell_type": "code",
      "metadata": {
        "colab": {
          "base_uri": "https://localhost:8080/"
        },
        "id": "5SbeR97pRnEt",
        "outputId": "20eda94d-5ee0-4007-9990-280ed8c27d55"
      },
      "source": [
        "# LSTM\n",
        "Neutral_pd = pd.read_csv(\"All_Neutrals.csv\")\n",
        "train_pd = pd.read_csv(\"Train_General.csv\")\n",
        "\n",
        "\n",
        "for index, row in Neutral_pd.iterrows():\n",
        "    st=str(Neutral_pd['Article'][index])\n",
        "    v=sentence(new_model2,st)\n",
        "    if v>0.9:\n",
        "      Neutral_pd['Target'][index]=1.0\n",
        "    elif v<0.2:\n",
        "      Neutral_pd['Target'][index]=0.0\n",
        "    else:\n",
        "      Neutral_pd['Target'][index]=2.0\n",
        "\n",
        "\n",
        "#Delete these examples that are not classified as Positive or Negative\n",
        "indexNames = Neutral_pd[Neutral_pd['Target'] == 2.0].index\n",
        " \n",
        "# Delete these row indexes from dataFrame\n",
        "Neutral_pd.drop(indexNames , inplace=True)\n",
        "\n",
        "print(\"\\nNumber of Neutrals that might be not Neutrals by LSTM : \",len(Neutral_pd))\n",
        "\n",
        "# GRU\n",
        "Neutral_pd2 = pd.read_csv(\"All_Neutrals.csv\")\n",
        "for index, row in Neutral_pd2.iterrows():\n",
        "    v=sentence(new_model3,str(Neutral_pd2['Article'][index]))\n",
        "    if v>0.9:\n",
        "      Neutral_pd2['Target'][index]=1.0\n",
        "    elif v<0.2:\n",
        "      Neutral_pd2['Target'][index]=0.0\n",
        "    else:\n",
        "      Neutral_pd2['Target'][index]=2.0\n",
        "\n",
        "#Delete these examples that are not classified as Positive or Negative\n",
        "indexNames = Neutral_pd2[Neutral_pd2['Target'] == 2.0].index\n",
        " \n",
        "# Delete these row indexes from dataFrame\n",
        "Neutral_pd2.drop(indexNames , inplace=True)\n",
        "\n",
        "print(\"\\nNumber of Neutrals that might be not Neutrals by GRU : \",len(Neutral_pd2))\n",
        "\n",
        "Neutral_pd=Neutral_pd.merge(Neutral_pd2)\n",
        "\n",
        "print(\"\\nNumber of Neutrals that might be not Neutrals that agree LSTM and GRU : \",len(Neutral_pd))\n"
      ],
      "execution_count": 42,
      "outputs": [
        {
          "output_type": "stream",
          "text": [
            "\n",
            "Number of Neutrals that might be not Neutrals by LSTM :  30166\n",
            "\n",
            "Number of Neutrals that might be not Neutrals by GRU :  25913\n",
            "\n",
            "Number of Neutrals that might be not Neutrals that agree LSTM and GRU :  23259\n"
          ],
          "name": "stdout"
        }
      ]
    },
    {
      "cell_type": "code",
      "metadata": {
        "colab": {
          "base_uri": "https://localhost:8080/"
        },
        "id": "8tqabUffJiu-",
        "outputId": "da57e22d-6b8f-4d79-c7cb-30973a21924f"
      },
      "source": [
        "count1=(Neutral_pd['Target']==0).sum()\n",
        "count2=(Neutral_pd['Target']==1).sum()\n",
        "\n",
        "if count2>count1:\n",
        "  count3=count2//count1-1\n",
        "  count4=count2%count1\n",
        "  Xnew=Neutral_pd[Neutral_pd['Target']==0]\n",
        "else:\n",
        "  count3=count1//count2-1\n",
        "  count4=count1%count2\n",
        "  Xnew=Neutral_pd[Neutral_pd['Target']==1]\n",
        "\n",
        "for i in range(count3):\n",
        "  Neutral_pd = pd.concat([Neutral_pd,Xnew], ignore_index=True)\n",
        "\n",
        "Xnew=Xnew.head(count4)\n",
        "\n",
        "Neutral_pd = pd.concat([Neutral_pd,Xnew], ignore_index=True)\n",
        "Neutral_pd = pd.concat([train_pd,Neutral_pd], ignore_index=True)\n",
        "print(\"Negative Examples in Training after OverSampling: \",(Neutral_pd ['Target']==0).sum())\n",
        "print(\"Positive Examples in Training after OverSampling: \",(Neutral_pd ['Target']==1).sum())\n",
        "Neutral_pd = Neutral_pd.sample(frac=1).reset_index(drop=True)\n",
        "\n",
        "Neutral_pd.to_csv (r'General_train_with_Neutrals.csv', index = False, header=True)"
      ],
      "execution_count": 43,
      "outputs": [
        {
          "output_type": "stream",
          "text": [
            "Negative Examples in Training after OverSampling:  41529\n",
            "Positive Examples in Training after OverSampling:  41529\n"
          ],
          "name": "stdout"
        }
      ]
    },
    {
      "cell_type": "markdown",
      "metadata": {
        "id": "9iJQgzvUBrhY"
      },
      "source": [
        "## Retrain Models with new examples from Semantic Neutrals"
      ]
    },
    {
      "cell_type": "code",
      "metadata": {
        "colab": {
          "base_uri": "https://localhost:8080/"
        },
        "id": "Jq-nRORtR7Ni",
        "outputId": "4849d9fc-1adc-4929-a2e1-b92dafe870d2"
      },
      "source": [
        "torch.manual_seed(1234)\n",
        "torch.backends.cudnn.deterministic = True\n",
        "\n",
        "#TEXT = data.Field(tokenize='spacy',batch_first=True,include_lengths=True)\n",
        "TEXT = data.Field(batch_first=True)\n",
        "LABEL = data.LabelField(dtype = torch.float,batch_first=True)\n",
        "\n",
        "fields = [('text',TEXT),('label', LABEL)]\n",
        "X_train=data.TabularDataset(path = 'General_train_with_Neutrals.csv',format = 'csv',fields = fields,skip_header = True)\n",
        "X_test=data.TabularDataset(path = 'Test_General.csv',format = 'csv',fields = fields,skip_header = True)\n",
        "X_val=data.TabularDataset(path = 'Val_General.csv',format = 'csv',fields = fields,skip_header = True)\n",
        "\n",
        "TEXT.build_vocab(X_train)  \n",
        "LABEL.build_vocab(X_train)\n",
        "\n",
        "myInput = len(TEXT.vocab)\n",
        "myEmbed = 300\n",
        "myHid = 256\n",
        "myOut = 1\n",
        "batch=12\n",
        "dropout = 0.5\n",
        "\n",
        "train_it, val_it, test_it = data.BucketIterator.splits((X_train, X_val, X_test),sort_key = lambda x: len(x.text),\n",
        "    sort_within_batch=True,batch_size = batch,device = device)\n",
        "\n",
        "\n",
        "\n",
        "new_model4 = myLSTM(myInput, myEmbed, myHid, myOut,dropout)\n",
        "new_model4.to(torch.device(device))\n",
        "new_model5 = myGRU(myInput, myEmbed, myHid, myOut,dropout)\n",
        "new_model5.to(torch.device(device))\n"
      ],
      "execution_count": 44,
      "outputs": [
        {
          "output_type": "execute_result",
          "data": {
            "text/plain": [
              "myGRU(\n",
              "  (embedding): Embedding(33782, 300)\n",
              "  (rnn): GRU(300, 256, num_layers=2, batch_first=True, dropout=0.5, bidirectional=True)\n",
              "  (fc): Linear(in_features=512, out_features=1, bias=True)\n",
              "  (dropout): Dropout(p=0.5, inplace=False)\n",
              ")"
            ]
          },
          "metadata": {
            "tags": []
          },
          "execution_count": 44
        }
      ]
    },
    {
      "cell_type": "markdown",
      "metadata": {
        "id": "OomQAjREPg5d"
      },
      "source": [
        "## LSTM results after learning \"Neutrals\""
      ]
    },
    {
      "cell_type": "code",
      "metadata": {
        "colab": {
          "base_uri": "https://localhost:8080/",
          "height": 722
        },
        "id": "5rcyKydXgCjO",
        "outputId": "700400cf-fe83-4609-c72b-651494d78c2b"
      },
      "source": [
        "lstm_list2=process_test(new_model4,20,train_it,val_it,test_it,0.001,\"LSTM_Gen_PN2.pt\")"
      ],
      "execution_count": 45,
      "outputs": [
        {
          "output_type": "stream",
          "text": [
            "Epoch :  5  Train Loss :  0.14370552527996872   Train Acc :  0.9464027849589769   Valid Loss :  0.292378738461283  Val Acc :  0.9051204998809171\n",
            "Epoch :  10  Train Loss :  0.11634789354956768   Train Acc :  0.9555041990298062   Valid Loss :  0.34718403538542214  Val Acc :  0.903447139574342\n",
            "Epoch :  15  Train Loss :  0.10698280252231274   Train Acc :  0.9595492721482255   Valid Loss :  0.3653005227856172  Val Acc :  0.9041164826197796\n",
            "Epoch :  20  Train Loss :  0.10113612402791074   Train Acc :  0.9615116139792597   Valid Loss :  0.37421618618471286  Val Acc :  0.9027777958107761\n",
            "\n",
            "Time needed for Training :  27.63429508606593\n",
            "\n",
            "Loss in Testset :  0.3151026076330823   Accuracy in Testset :  0.9055466397973886 \n",
            "\n",
            "Normalized confusion matrix\n",
            "[[0.899 0.101]\n",
            " [0.088 0.912]]\n",
            "\n",
            "\n",
            "              precision    recall  f1-score   support\n",
            "\n",
            "         0.0      0.911     0.899     0.905      7456\n",
            "         1.0      0.901     0.912     0.906      7463\n",
            "\n",
            "    accuracy                          0.905     14919\n",
            "   macro avg      0.906     0.905     0.905     14919\n",
            "weighted avg      0.906     0.905     0.905     14919\n",
            "\n"
          ],
          "name": "stdout"
        },
        {
          "output_type": "display_data",
          "data": {
            "image/png": "[encoded data removed]",
            "text/plain": [
              "<Figure size 432x288 with 2 Axes>"
            ]
          },
          "metadata": {
            "tags": [],
            "needs_background": "light"
          }
        }
      ]
    },
    {
      "cell_type": "markdown",
      "metadata": {
        "id": "x2WiYrUrT5zv"
      },
      "source": [
        "## GRU results after learning \"Neutrals\""
      ]
    },
    {
      "cell_type": "code",
      "metadata": {
        "colab": {
          "base_uri": "https://localhost:8080/",
          "height": 722
        },
        "id": "GPRHaveSOnKL",
        "outputId": "b8918a11-1d3c-4168-88a5-4e429b1213f2"
      },
      "source": [
        "gru_list2=process_test(new_model5,20,train_it,val_it,test_it,0.001,\"GRU_Gen_PN2.pt\")"
      ],
      "execution_count": 46,
      "outputs": [
        {
          "output_type": "stream",
          "text": [
            "Epoch :  5  Train Loss :  0.16960027043050954   Train Acc :  0.9367957364372765   Valid Loss :  0.26399979791435674  Val Acc :  0.9009370996530754\n",
            "Epoch :  10  Train Loss :  0.16796585276026435   Train Acc :  0.9381802108152792   Valid Loss :  0.2993457717002822  Val Acc :  0.8944109966716614\n",
            "Epoch :  15  Train Loss :  0.17015188161787065   Train Acc :  0.9372050593747324   Valid Loss :  0.29474561807258154  Val Acc :  0.8947456674164079\n",
            "Epoch :  20  Train Loss :  0.17247050702351888   Train Acc :  0.935278833945753   Valid Loss :  0.30950984302683765  Val Acc :  0.89725570638017\n",
            "\n",
            "Time needed for Training :  25.733226450284324\n",
            "\n",
            "Loss in Testset :  0.2734116907340064   Accuracy in Testset :  0.9002545720319656 \n",
            "\n",
            "Normalized confusion matrix\n",
            "[[0.903 0.097]\n",
            " [0.102 0.898]]\n",
            "\n",
            "\n",
            "              precision    recall  f1-score   support\n",
            "\n",
            "         0.0      0.898     0.903     0.901      7456\n",
            "         1.0      0.902     0.898     0.900      7463\n",
            "\n",
            "    accuracy                          0.900     14919\n",
            "   macro avg      0.900     0.900     0.900     14919\n",
            "weighted avg      0.900     0.900     0.900     14919\n",
            "\n"
          ],
          "name": "stdout"
        },
        {
          "output_type": "display_data",
          "data": {
            "image/png": "[encoded data removed]",
            "text/plain": [
              "<Figure size 432x288 with 2 Axes>"
            ]
          },
          "metadata": {
            "tags": [],
            "needs_background": "light"
          }
        }
      ]
    }
  ]
}