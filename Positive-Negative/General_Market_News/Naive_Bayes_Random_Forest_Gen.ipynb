{
 "cells": [
  {
   "cell_type": "code",
   "execution_count": 2,
   "metadata": {},
   "outputs": [],
   "source": [
    "import pandas as pd\n",
    "import json\n",
    "import numpy as np\n",
    "import re\n",
    "from nltk.stem.porter import *\n",
    "from nltk.corpus import stopwords\n",
    "from sklearn.model_selection import train_test_split\n",
    "from sklearn import model_selection,metrics,naive_bayes,preprocessing\n",
    "from sklearn.ensemble import RandomForestClassifier\n",
    "from sklearn.feature_extraction.text import TfidfVectorizer\n",
    "from sklearn.model_selection import GridSearchCV\n",
    "from sklearn.metrics import confusion_matrix\n",
    "import matplotlib.pyplot as plt\n",
    "import six\n",
    "import sys\n",
    "sys.modules['sklearn.externals.six'] = six\n",
    "from imblearn.over_sampling import RandomOverSampler\n",
    "stemmer = PorterStemmer()\n",
    "import warnings\n",
    "warnings.filterwarnings('ignore')"
   ]
  },
  {
   "cell_type": "code",
   "execution_count": 3,
   "metadata": {},
   "outputs": [],
   "source": [
    "def plot_confusion_matrix(cm, classes,\n",
    "                          normalize=True,\n",
    "                          title='Confusion matrix',\n",
    "                          cmap=plt.cm.Blues):\n",
    "    \n",
    "    import itertools\n",
    "    if normalize:\n",
    "        cm = cm.astype('float') / cm.sum(axis=1)[:, np.newaxis]\n",
    "        print(\"Normalized confusion matrix\")\n",
    "    else:\n",
    "        print('Confusion matrix, without normalization')\n",
    "\n",
    "    print(cm)\n",
    "\n",
    "    plt.imshow(cm, interpolation='nearest', cmap=cmap)\n",
    "    plt.title(title)\n",
    "    plt.colorbar()\n",
    "    tick_marks = np.arange(len(classes))\n",
    "    plt.xticks(tick_marks, classes, rotation=45)\n",
    "    plt.yticks(tick_marks, classes)\n",
    "\n",
    "    fmt = '.2f' if normalize else 'd'\n",
    "    thresh = cm.max() / 2.\n",
    "    for i, j in itertools.product(range(cm.shape[0]), range(cm.shape[1])):\n",
    "        plt.text(j, i, format(cm[i, j], fmt),\n",
    "                 horizontalalignment=\"center\",\n",
    "                 color=\"white\" if cm[i, j] > thresh else \"black\")\n",
    "\n",
    "    plt.ylabel('True label')\n",
    "    plt.xlabel('Predicted label')\n",
    "    plt.tight_layout()"
   ]
  },
  {
   "cell_type": "code",
   "execution_count": 4,
   "metadata": {},
   "outputs": [],
   "source": [
    "tfidf_vectorizer = TfidfVectorizer(max_df=0.9,min_df=5)\n",
    "#tfidf_vectorizer = TfidfVectorizer(decode_error='replace', encoding='utf-8')\n",
    "\n",
    "X_train = pd.read_csv(\"Train_General.csv\")\n",
    "\n",
    "X_train_2 =X_train.sample(n = 2000)\n",
    "\n",
    "\n",
    "x_train = X_train['Article']\n",
    "y_train = X_train['Target']\n",
    "x_train2 = X_train_2['Article']\n",
    "y_train2 = X_train_2['Target']\n",
    "#***************************************************************************\n",
    "X_test  = pd.read_csv(\"Test_General.csv\")\n",
    "x_test  = X_test['Article']\n",
    "y_test  = X_test['Target']\n",
    "#**********************************************************************************\n",
    "\n",
    "x_train  = tfidf_vectorizer.fit_transform(x_train.values.astype('U'))\n",
    "x_test   = tfidf_vectorizer.transform(x_test.values.astype('U'))\n",
    "\n",
    "x_train2  = tfidf_vectorizer.transform(x_train2.values.astype('U'))\n",
    "\n",
    "x_train = pd.DataFrame(x_train.todense())\n",
    "x_test  = pd.DataFrame(x_test.todense())\n",
    "x_train2 = pd.DataFrame(x_train2.todense())\n",
    "\n",
    "\n"
   ]
  },
  {
   "cell_type": "markdown",
   "metadata": {},
   "source": [
    "## Naive Bayes "
   ]
  },
  {
   "cell_type": "code",
   "execution_count": 5,
   "metadata": {},
   "outputs": [
    {
     "name": "stdout",
     "output_type": "stream",
     "text": [
      "\n",
      "Metrics\n",
      "\n",
      " Recall metric: 0.8202231599352227\n",
      " F1 metric: 0.8201972472347965\n",
      " Precision metric: 0.8204431920198425\n",
      " Accuracy metric: 0.8202292378845767\n",
      " Balanced Accuracy metric: 0.8202231599352227 \n",
      "\n",
      "**************************************************\n",
      "\n",
      "Normalized confusion matrix\n",
      "[[0.807 0.193]\n",
      " [0.167 0.833]]\n"
     ]
    },
    {
     "data": {
      "image/png": "[encoded data removed]",
      "text/plain": [
       "<Figure size 432x288 with 2 Axes>"
      ]
     },
     "metadata": {
      "needs_background": "light"
     },
     "output_type": "display_data"
    }
   ],
   "source": [
    "alpha = 0.2 # This is the smoothing parameter for Laplace/Lidstone smoothing\n",
    "model = naive_bayes.MultinomialNB(alpha=alpha)\n",
    "\n",
    "model.fit(x_train,y_train)\n",
    "y_predicted = model.predict(x_test)\n",
    "\n",
    "print(\"\\nMetrics\\n\")\n",
    "recall = metrics.recall_score(y_test,y_predicted,average='macro')\n",
    "precision = metrics.precision_score(y_test,y_predicted,average='macro')\n",
    "f1 = metrics.f1_score(y_test,y_predicted,average='macro')\n",
    "Accur=metrics.accuracy_score(y_test,y_predicted)\n",
    "B_Accur=metrics.balanced_accuracy_score(y_test,y_predicted)\n",
    "\n",
    "print(' Recall metric:',recall)\n",
    "print(' F1 metric:',f1)\n",
    "print(' Precision metric:',precision)\n",
    "print(' Accuracy metric:',Accur)\n",
    "print(' Balanced Accuracy metric:',B_Accur,\"\\n\")\n",
    "print(\"**************************************************\\n\")\n",
    "\n",
    "cnf_matrix = confusion_matrix(y_test, y_predicted,labels=[0, 1])\n",
    "np.set_printoptions(precision=3)\n",
    "\n",
    "plt.figure()\n",
    "plot_confusion_matrix(cnf_matrix, classes=[0, 1],\n",
    "                  title='Confusion matrix, with normalization')\n"
   ]
  },
  {
   "cell_type": "markdown",
   "metadata": {},
   "source": [
    "## Random Forest"
   ]
  },
  {
   "cell_type": "code",
   "execution_count": 7,
   "metadata": {},
   "outputs": [
    {
     "name": "stdout",
     "output_type": "stream",
     "text": [
      "{'n_estimators': [200, 288, 377, 466, 555, 644, 733, 822, 911, 1000], 'max_depth': [10, 20, 30, 40, 50, 60, 70, 80, 90, 100, 110, None], 'min_samples_split': [2, 5, 10], 'min_samples_leaf': [1, 2, 4], 'bootstrap': [True, False]}\n",
      "Fitting 2 folds for each of 100 candidates, totalling 200 fits\n"
     ]
    },
    {
     "name": "stderr",
     "output_type": "stream",
     "text": [
      "[Parallel(n_jobs=-1)]: Using backend LokyBackend with 12 concurrent workers.\n",
      "[Parallel(n_jobs=-1)]: Done  17 tasks      | elapsed:  2.1min\n",
      "[Parallel(n_jobs=-1)]: Done 138 tasks      | elapsed: 11.5min\n",
      "[Parallel(n_jobs=-1)]: Done 200 out of 200 | elapsed: 15.6min finished\n"
     ]
    },
    {
     "data": {
      "text/plain": [
       "RandomizedSearchCV(cv=2, estimator=RandomForestClassifier(), n_iter=100,\n",
       "                   n_jobs=-1,\n",
       "                   param_distributions={'bootstrap': [True, False],\n",
       "                                        'max_depth': [10, 20, 30, 40, 50, 60,\n",
       "                                                      70, 80, 90, 100, 110,\n",
       "                                                      None],\n",
       "                                        'min_samples_leaf': [1, 2, 4],\n",
       "                                        'min_samples_split': [2, 5, 10],\n",
       "                                        'n_estimators': [200, 288, 377, 466,\n",
       "                                                         555, 644, 733, 822,\n",
       "                                                         911, 1000]},\n",
       "                   random_state=42, verbose=2)"
      ]
     },
     "execution_count": 7,
     "metadata": {},
     "output_type": "execute_result"
    }
   ],
   "source": [
    "from sklearn.model_selection import RandomizedSearchCV\n",
    "# Number of trees in random forest\n",
    "n_estimators = [int(x) for x in np.linspace(start = 200, stop = 1000, num = 10)]\n",
    "# Maximum number of levels in tree\n",
    "max_depth = [int(x) for x in np.linspace(10, 110, num = 11)]\n",
    "max_depth.append(None)\n",
    "# Minimum number of samples required to split a node\n",
    "min_samples_split = [2, 5, 10]\n",
    "# Minimum number of samples required at each leaf node\n",
    "min_samples_leaf = [1, 2, 4]\n",
    "# Method of selecting samples for training each tree\n",
    "bootstrap = [True, False]\n",
    "# Create the random grid\n",
    "random_grid = {'n_estimators': n_estimators,\n",
    "               'max_depth': max_depth,\n",
    "               'min_samples_split': min_samples_split,\n",
    "               'min_samples_leaf': min_samples_leaf,\n",
    "               'bootstrap': bootstrap}\n",
    "print(random_grid)\n",
    "\n",
    "model2 = RandomForestClassifier(max_features=\"auto\")\n",
    "\n",
    "rf_random = RandomizedSearchCV(estimator = model2, param_distributions = random_grid, n_iter = 100, cv = 2, verbose=2, random_state=42,n_jobs = -1)\n",
    "# Fit the random search model\n",
    "rf_random.fit(x_train2, y_train2)"
   ]
  },
  {
   "cell_type": "code",
   "execution_count": 8,
   "metadata": {},
   "outputs": [
    {
     "name": "stdout",
     "output_type": "stream",
     "text": [
      "{'n_estimators': 644, 'min_samples_split': 5, 'min_samples_leaf': 2, 'max_depth': 90, 'bootstrap': False}\n"
     ]
    }
   ],
   "source": [
    "print(rf_random.best_params_)"
   ]
  },
  {
   "cell_type": "code",
   "execution_count": 10,
   "metadata": {},
   "outputs": [
    {
     "name": "stdout",
     "output_type": "stream",
     "text": [
      "Fitting 2 folds for each of 81 candidates, totalling 162 fits\n"
     ]
    },
    {
     "name": "stderr",
     "output_type": "stream",
     "text": [
      "[Parallel(n_jobs=-1)]: Using backend LokyBackend with 12 concurrent workers.\n",
      "[Parallel(n_jobs=-1)]: Done  17 tasks      | elapsed:  3.3min\n",
      "[Parallel(n_jobs=-1)]: Done 138 tasks      | elapsed: 20.3min\n",
      "[Parallel(n_jobs=-1)]: Done 162 out of 162 | elapsed: 22.9min finished\n"
     ]
    },
    {
     "name": "stdout",
     "output_type": "stream",
     "text": [
      "{'bootstrap': False, 'max_depth': 90, 'min_samples_leaf': 2, 'min_samples_split': 6, 'n_estimators': 600}\n"
     ]
    }
   ],
   "source": [
    "from sklearn.model_selection import GridSearchCV\n",
    "# Create the parameter grid based on the results of random search \n",
    "param_grid = {\n",
    "    'bootstrap': [False],\n",
    "    'max_depth': [80, 90, 100],\n",
    "    'min_samples_leaf': [1, 2, 3],\n",
    "    'min_samples_split': [4,5,6],\n",
    "    'n_estimators': [600, 650, 700]\n",
    "}\n",
    "# Create a based model\n",
    "model2 = RandomForestClassifier(max_features=\"auto\")\n",
    "# Instantiate the grid search model\n",
    "grid_search = GridSearchCV(estimator = model2, param_grid = param_grid, \n",
    "                          cv = 2, n_jobs = -1, verbose = 2)\n",
    "\n",
    "grid_search.fit(x_train2, y_train2)\n",
    "print(grid_search.best_params_)"
   ]
  },
  {
   "cell_type": "code",
   "execution_count": 12,
   "metadata": {},
   "outputs": [
    {
     "name": "stdout",
     "output_type": "stream",
     "text": [
      "\n",
      "Metrics with OverSampling\n",
      "\n",
      " Recall metric: 0.8652604907385735\n",
      " F1 metric: 0.8651817538239728\n",
      " Precision metric: 0.8662283834526177\n",
      " Accuracy metric: 0.8652724713452644\n",
      " Balanced Accuracy metric: 0.8652604907385735 \n",
      "\n",
      "**************************************************\n",
      "\n",
      "Normalized confusion matrix\n",
      "[[0.84  0.16 ]\n",
      " [0.109 0.891]]\n"
     ]
    },
    {
     "data": {
      "image/png": "[encoded data removed]",
      "text/plain": [
       "<Figure size 432x288 with 2 Axes>"
      ]
     },
     "metadata": {
      "needs_background": "light"
     },
     "output_type": "display_data"
    }
   ],
   "source": [
    "model2 = RandomForestClassifier(n_estimators=600, max_features=\"auto\", bootstrap=False, \n",
    "                                max_depth =90, min_samples_leaf=2,min_samples_split = 6, n_jobs=-1)\n",
    "\n",
    "\n",
    "model2.fit(x_train,y_train)\n",
    "y_predicted = model2.predict(x_test)\n",
    "\n",
    "\n",
    "print(\"\\nMetrics with OverSampling\\n\")\n",
    "recall = metrics.recall_score(y_test,y_predicted,average='macro')\n",
    "precision = metrics.precision_score(y_test,y_predicted,average='macro')\n",
    "f1 = metrics.f1_score(y_test,y_predicted,average='macro')\n",
    "Accur=metrics.accuracy_score(y_test,y_predicted)\n",
    "B_Accur=metrics.balanced_accuracy_score(y_test,y_predicted)\n",
    "\n",
    "print(' Recall metric:',recall)\n",
    "print(' F1 metric:',f1)\n",
    "print(' Precision metric:',precision)\n",
    "print(' Accuracy metric:',Accur)\n",
    "print(' Balanced Accuracy metric:',B_Accur,\"\\n\")\n",
    "print(\"**************************************************\\n\")\n",
    "\n",
    "cnf_matrix = confusion_matrix(y_test, y_predicted,labels=[0, 1])\n",
    "np.set_printoptions(precision=3)\n",
    "\n",
    "plt.figure()\n",
    "plot_confusion_matrix(cnf_matrix, classes=[0, 1],\n",
    "                  title='Confusion matrix, with normalization')"
   ]
  },
  {
   "cell_type": "code",
   "execution_count": null,
   "metadata": {},
   "outputs": [],
   "source": []
  }
 ],
 "metadata": {
  "kernelspec": {
   "display_name": "Python 3",
   "language": "python",
   "name": "python3"
  },
  "language_info": {
   "codemirror_mode": {
    "name": "ipython",
    "version": 3
   },
   "file_extension": ".py",
   "mimetype": "text/x-python",
   "name": "python",
   "nbconvert_exporter": "python",
   "pygments_lexer": "ipython3",
   "version": "3.7.7"
  }
 },
 "nbformat": 4,
 "nbformat_minor": 4
}
