{
 "cells": [
  {
   "cell_type": "markdown",
   "metadata": {
    "id": "JXpZldYOUjGJ"
   },
   "source": [
    "## Import Libraries"
   ]
  },
  {
   "cell_type": "code",
   "execution_count": 6,
   "metadata": {
    "colab": {
     "base_uri": "https://localhost:8080/",
     "height": 70
    },
    "id": "a5HnPotefAq7",
    "outputId": "b650f77e-5422-4917-eed3-bb2943c097bc"
   },
   "outputs": [
    {
     "name": "stdout",
     "output_type": "stream",
     "text": [
      "[nltk_data] Downloading package stopwords to /root/nltk_data...\n",
      "[nltk_data]   Package stopwords is already up-to-date!\n",
      "GPU Model    Tesla T4\n"
     ]
    }
   ],
   "source": [
    ">>> import nltk\n",
    ">>> nltk.download('stopwords')\n",
    "import pandas as pd\n",
    "import json\n",
    "import numpy as np\n",
    "import re\n",
    "from nltk.stem.porter import *\n",
    "from nltk.corpus import stopwords\n",
    "from sklearn.model_selection import train_test_split\n",
    "from sklearn import model_selection,metrics,preprocessing\n",
    "import torch\n",
    "from torchtext import data\n",
    "import random\n",
    "import torch.nn as nn\n",
    "import torch.nn.functional as F\n",
    "import torch.optim as optim\n",
    "import time\n",
    "import spacy\n",
    "lang = spacy.load('en')\n",
    "stemmer = PorterStemmer()\n",
    "import seaborn as sns\n",
    "from sklearn.metrics import confusion_matrix\n",
    "import matplotlib.pyplot as plt\n",
    "import six\n",
    "import sys\n",
    "sys.modules['sklearn.externals.six'] = six\n",
    "from imblearn.over_sampling import RandomOverSampler\n",
    "\n",
    "stemmer = PorterStemmer()\n",
    "import warnings\n",
    "warnings.filterwarnings('ignore')\n",
    "device = torch.device(\"cuda:0\" if torch.cuda.is_available() else \"cpu\")\n",
    "print(\"GPU Model   \",torch.cuda.get_device_name(0))"
   ]
  },
  {
   "cell_type": "markdown",
   "metadata": {
    "id": "6aUng0tUOnJU"
   },
   "source": [
    "## Confusion Matrix Method"
   ]
  },
  {
   "cell_type": "code",
   "execution_count": 7,
   "metadata": {
    "id": "UDGI_gcARDf3"
   },
   "outputs": [],
   "source": [
    "def plot_confusion_matrix(cm, classes,\n",
    "                          normalize=True,\n",
    "                          title='Confusion matrix',\n",
    "                          cmap=plt.cm.Blues):\n",
    "    \n",
    "    import itertools\n",
    "    if normalize:\n",
    "        cm = cm.astype('float') / cm.sum(axis=1)[:, np.newaxis]\n",
    "        print(\"Normalized confusion matrix\")\n",
    "    else:\n",
    "        print('Confusion matrix, without normalization')\n",
    "\n",
    "    print(cm)\n",
    "\n",
    "    plt.imshow(cm, interpolation='nearest', cmap=cmap)\n",
    "    plt.title(title)\n",
    "    plt.colorbar()\n",
    "    tick_marks = np.arange(len(classes))\n",
    "    plt.xticks(tick_marks, classes, rotation=45)\n",
    "    plt.yticks(tick_marks, classes)\n",
    "\n",
    "    fmt = '.2f' if normalize else 'd'\n",
    "    thresh = cm.max() / 2.\n",
    "    for i, j in itertools.product(range(cm.shape[0]), range(cm.shape[1])):\n",
    "        plt.text(j, i, format(cm[i, j], fmt),\n",
    "                 horizontalalignment=\"center\",\n",
    "                 color=\"white\" if cm[i, j] > thresh else \"black\")\n",
    "\n",
    "    plt.ylabel('True label')\n",
    "    plt.xlabel('Predicted label')\n",
    "    plt.tight_layout()"
   ]
  },
  {
   "cell_type": "markdown",
   "metadata": {
    "id": "Ju-OgZmqOnJY"
   },
   "source": [
    "## Cleaning Data, Preprocessing"
   ]
  },
  {
   "cell_type": "code",
   "execution_count": 8,
   "metadata": {
    "id": "VCJKt_MyfAq-"
   },
   "outputs": [],
   "source": [
    "def clean_data(X):\n",
    "    STOPWORDS = set(stopwords.words('english'))\n",
    "    X=X.str.lower()\n",
    "    X=X.str.replace(\"[/(){}\\[\\]\\|@,;]\", \" \")\n",
    "    X=X.str.replace(\"[^0-9a-z #+_]\", \" \")\n",
    "    X = X.str.replace(r'\\d+','')\n",
    "    X = X.apply(lambda x: ' '.join([w for w in str(x).split() if (len(w)>2 and w not in STOPWORDS) ] ))\n",
    "    X = X.apply(lambda x: x.split()) \n",
    "    return X\n",
    "\n",
    "def target_arrange(y):\n",
    "    \n",
    "    for i in range(len(y)):\n",
    "        if y.values[i]=='Negative':\n",
    "            y.values[i]=0.0\n",
    "        else:\n",
    "            y.values[i]=1.0\n",
    "            \n",
    "    y=y.to_numpy()  \n",
    "    y=y.reshape(y.shape[0],1)\n",
    "    y= pd.DataFrame(data=y)\n",
    "    y=np.ravel(y)\n",
    "    y=y.astype('float')\n",
    "    return y"
   ]
  },
  {
   "cell_type": "markdown",
   "metadata": {
    "id": "AExKeWCZOnJb"
   },
   "source": [
    "## Load Dataset and Process"
   ]
  },
  {
   "cell_type": "code",
   "execution_count": 9,
   "metadata": {
    "colab": {
     "base_uri": "https://localhost:8080/",
     "height": 210
    },
    "id": "39r_65tmfArB",
    "outputId": "fa7c3697-2f83-41ac-d806-a5188fa80914"
   },
   "outputs": [
    {
     "name": "stdout",
     "output_type": "stream",
     "text": [
      "Number of Examples :  23189 \n",
      "\n",
      "Number of Examples after removing duplicates:  20216 \n",
      "\n",
      "Number of words before cleaning :  658159\n",
      "Number of words after cleaning :  430120\n",
      "\n",
      "******************\n",
      "\n",
      "Negative Examples :  10047\n",
      "Positive Examples :  10169\n"
     ]
    }
   ],
   "source": [
    "with open(\"Tech_news.json\",\"r\") as fp:\n",
    "#with open(\"General_Market.json\",encoding='utf8') as fp:\n",
    "    json_d = json.load(fp)\n",
    " \n",
    "ticks_d = json_d['data']\n",
    "df = pd.DataFrame(ticks_d)\n",
    "\n",
    "X= pd.DataFrame(columns=['Date', 'Article','Target'])\n",
    "X['Date']=pd.to_datetime(df['date'])\n",
    "X['Article']=df['title']+\" \"+df['text']\n",
    "X['Target']=df['sentiment']\n",
    "\n",
    "# we will use the Neutrals in the end,All Neutrals\n",
    "# *************************************\n",
    "Xnew_Neutrals=X[X['Target']=='Neutral']\n",
    "Xnew_Neutrals=Xnew_Neutrals.sort_values(\"Date\")\n",
    "Xnew_Neutrals.drop_duplicates(inplace=True)\n",
    "Xnew_Neutrals.index = range(len(Xnew_Neutrals))\n",
    "Xnew_Neutrals['Article']=clean_data(Xnew_Neutrals['Article'])\n",
    "Xnew_Neutrals['Target']=target_arrange(Xnew_Neutrals['Target'])\n",
    "Xnew_Neutrals=Xnew_Neutrals.drop('Date',1)\n",
    "# *******************************************\n",
    "\n",
    "indexNames = X[X['Target'] == 'Neutral'].index\n",
    " \n",
    "# Delete these row indexes from dataFrame\n",
    "X.drop(indexNames , inplace=True)\n",
    "\n",
    "\n",
    "X=X.sort_values(\"Date\")\n",
    "\n",
    "print(\"Number of Examples : \",len(X),\"\\n\")\n",
    "X.drop_duplicates(inplace=True)\n",
    "X.index = range(len(X))\n",
    "print(\"Number of Examples after removing duplicates: \",len(X),\"\\n\")\n",
    "\n",
    "print('Number of words before cleaning : ',X['Article'].apply(lambda x: len(str(x).split(' '))).sum())\n",
    "X['Article']=clean_data(X['Article'])\n",
    "print('Number of words after cleaning : ',X['Article'].apply(lambda x: len(str(x).split(' '))).sum())\n",
    "print(\"\\n******************\\n\")\n",
    "\n",
    "X['Target']=target_arrange(X['Target'])\n",
    "X=X.drop('Date',1)\n",
    "\n",
    "print(\"Negative Examples : \",(X['Target']==0).sum())\n",
    "print(\"Positive Examples : \",(X['Target']==1).sum())\n"
   ]
  },
  {
   "cell_type": "markdown",
   "metadata": {
    "id": "GPK6sNgYOnJf"
   },
   "source": [
    "## Stemming"
   ]
  },
  {
   "cell_type": "code",
   "execution_count": 10,
   "metadata": {
    "colab": {
     "base_uri": "https://localhost:8080/",
     "height": 228
    },
    "id": "F2Lyyf7vfArF",
    "outputId": "0a3bf401-c58d-451e-d833-605c47698061"
   },
   "outputs": [
    {
     "name": "stdout",
     "output_type": "stream",
     "text": [
      "0        gtt commun gtt report loss lag revenu estim gt...\n",
      "1        greenski get anoth downgrad even though damag ...\n",
      "2        system ddd earn top revenu miss fall system dd...\n",
      "3        angi homeservic stock plung toward year low ea...\n",
      "4        match group stock get downgrad massiv ralli ma...\n",
      "                               ...                        \n",
      "20211    telephon data system td gain lag market know t...\n",
      "20212    synapt syna stock sink market gain know latest...\n",
      "20213    acceler shift commerc sep robert alvarez chief...\n",
      "20214    buffett munger stock high dividend yield stock...\n",
      "20215    googl alphabet settl sharehold payoff exec acc...\n",
      "Name: Article, Length: 20216, dtype: object\n"
     ]
    }
   ],
   "source": [
    "X['Article']= X['Article'].apply(lambda x: [stemmer.stem(i) for i in x]) # stemming\n",
    "for i in range(len(X['Article'])): #φέρνω τα tokens ξανά μαζί διαχωριζόμενα με κενά\n",
    "    X['Article'][i] = ' '.join(X['Article'][i])\n",
    "print(X['Article'])\n",
    "Xv = X['Article'].to_frame()\n",
    "\n",
    "\n",
    "# Stemming for Neutrals\n",
    "#**********************************************************************************************************\n",
    "Xnew_Neutrals['Article']= Xnew_Neutrals['Article'].apply(lambda x: [stemmer.stem(i) for i in x]) # stemming\n",
    "for i in range(len(Xnew_Neutrals['Article'])): #φέρνω τα tokens ξανά μαζί διαχωριζόμενα με κενά\n",
    "    Xnew_Neutrals['Article'][i] = ' '.join(Xnew_Neutrals['Article'][i])\n",
    "Xnew_Neutrals['Article'] = Xnew_Neutrals['Article'].to_frame()\n",
    "Xnew_Neutrals.to_csv (r'Neutrals.csv', index = False, header=True)\n",
    "#*************************************************************************************************************"
   ]
  },
  {
   "cell_type": "markdown",
   "metadata": {
    "id": "TIcQ7Cj8OnJk"
   },
   "source": [
    "## Oversampling and Csvs"
   ]
  },
  {
   "cell_type": "code",
   "execution_count": 11,
   "metadata": {
    "colab": {
     "base_uri": "https://localhost:8080/",
     "height": 52
    },
    "id": "v_A1300jfArI",
    "outputId": "305bfc4f-45af-4d1f-94b5-3f74b2361ddb"
   },
   "outputs": [
    {
     "name": "stdout",
     "output_type": "stream",
     "text": [
      "Negative Examples in Training after OverSampling:  5694\n",
      "Positive Examples in Training after OverSampling:  5694\n"
     ]
    }
   ],
   "source": [
    "X_train,X_test,y_train,y_test = train_test_split(Xv,X['Target'], test_size=0.3,stratify=X['Target'])\n",
    "X_train,X_val,y_train,y_val = train_test_split(X_train,y_train, test_size=0.2,stratify=y_train)\n",
    "\n",
    "ros = RandomOverSampler()\n",
    "X_train,y_train = ros.fit_resample(X_train, y_train)\n",
    "\n",
    "train1=pd.DataFrame(columns=['Article','Target'])\n",
    "val = pd.DataFrame(columns=['Article','Target'])\n",
    "test= pd.DataFrame(columns=['Article','Target'])\n",
    "\n",
    "df = pd.DataFrame(data = X_train,columns=['Article'])\n",
    "df1= pd.DataFrame(data = y_train,columns=['Target'])\n",
    "train1['Article']=df['Article']\n",
    "train1['Target']=df1['Target']\n",
    "df = pd.DataFrame(data = X_test,columns=['Article'])\n",
    "df1= pd.DataFrame(data = y_test,columns=['Target'])\n",
    "test['Article']=df['Article']\n",
    "test['Target']=df1['Target']\n",
    "df = pd.DataFrame(data = X_val,columns=['Article'])\n",
    "df1= pd.DataFrame(data = y_val,columns=['Target'])\n",
    "val['Article']=df['Article']\n",
    "val['Target']=df1['Target']\n",
    "\n",
    "print(\"Negative Examples in Training after OverSampling: \",(train1['Target']==0).sum())\n",
    "print(\"Positive Examples in Training after OverSampling: \",(train1['Target']==1).sum())\n",
    "\n",
    "train1.to_csv (r'Train_Tech.csv', index = False, header=True)\n",
    "test.to_csv (r'Test_Tech.csv', index = False, header=True)\n",
    "val.to_csv (r'Val_Tech.csv', index = False, header=True)\n",
    "\n",
    "\n"
   ]
  },
  {
   "cell_type": "markdown",
   "metadata": {
    "id": "rN-KlTrxOnJn"
   },
   "source": [
    "## Build Vocabulary"
   ]
  },
  {
   "cell_type": "code",
   "execution_count": 12,
   "metadata": {
    "colab": {
     "base_uri": "https://localhost:8080/",
     "height": 90
    },
    "id": "HmOB68OSfArK",
    "outputId": "6ea75774-32ea-48a3-8d82-d0c353688453"
   },
   "outputs": [
    {
     "name": "stdout",
     "output_type": "stream",
     "text": [
      "Size of TEXT vocabulary: 9318\n",
      "Size of LABEL vocabulary: 2\n",
      "[('stock', 7468), ('earn', 4690), ('report', 2696), ('compani', 2551), ('share', 2016), ('revenu', 1630), ('market', 1606), ('facebook', 1523), ('buy', 1520), ('quarter', 1518)]\n"
     ]
    }
   ],
   "source": [
    "torch.manual_seed(1234)\n",
    "torch.backends.cudnn.deterministic = True\n",
    "\n",
    "#TEXT = data.Field(tokenize='spacy',batch_first=True,include_lengths=True)\n",
    "TEXT = data.Field(batch_first=True)\n",
    "LABEL = data.LabelField(dtype = torch.float,batch_first=True)\n",
    "\n",
    "fields = [('text',TEXT),('label', LABEL)]\n",
    "X_train=data.TabularDataset(path = 'Train_Tech.csv',format = 'csv',fields = fields,skip_header = True)\n",
    "X_test=data.TabularDataset(path = 'Test_Tech.csv',format = 'csv',fields = fields,skip_header = True)\n",
    "X_val=data.TabularDataset(path = 'Val_Tech.csv',format = 'csv',fields = fields,skip_header = True)\n",
    "\n",
    "TEXT.build_vocab(X_train)  \n",
    "LABEL.build_vocab(X_train)\n",
    "\n",
    "print(\"Size of TEXT vocabulary:\",len(TEXT.vocab))\n",
    "\n",
    "#No. of unique tokens in label\n",
    "print(\"Size of LABEL vocabulary:\",len(LABEL.vocab))\n",
    "\n",
    "#Commonly used words\n",
    "print(TEXT.vocab.freqs.most_common(10))  \n"
   ]
  },
  {
   "cell_type": "markdown",
   "metadata": {
    "id": "oHdw0ArTOnJr"
   },
   "source": [
    "## Accuracy, Loss and Optimizer Function"
   ]
  },
  {
   "cell_type": "code",
   "execution_count": 13,
   "metadata": {
    "id": "hIvY8I8tfArM"
   },
   "outputs": [],
   "source": [
    "def find_accuracy(preds, y):\n",
    "    real_values=torch.sigmoid(preds)\n",
    "    temp = torch.round(real_values)\n",
    "    valid = (temp == y).float() \n",
    "    accur = valid.sum() / len(valid)\n",
    "    return accur,temp,y,real_values\n",
    "\n",
    "def Loss_Optimizer (model,valueLR):\n",
    "    criterion = nn.BCEWithLogitsLoss()\n",
    "    #criterion = nn.BCELoss()\n",
    "    optimizer = torch.optim.Adam(model.parameters(), lr=valueLR)\n",
    "    return optimizer,criterion"
   ]
  },
  {
   "cell_type": "markdown",
   "metadata": {
    "id": "TcqCvumUOnJu"
   },
   "source": [
    "## Training and Testing Functions "
   ]
  },
  {
   "cell_type": "code",
   "execution_count": 14,
   "metadata": {
    "id": "lNSC2cF4fArO"
   },
   "outputs": [],
   "source": [
    "def train(model,data,lr,optimizer,criterion):\n",
    "        \n",
    "    model.train()\n",
    "    sumloss=0.0\n",
    "    sumacc=0.0\n",
    "    for i in data:\n",
    "        text = i.text   \n",
    "        optimizer.zero_grad()\n",
    "        pred = model(text).squeeze(1)    \n",
    "        loss = criterion(pred, i.label)\n",
    "        acc,_,_,_ = find_accuracy(pred, i.label)\n",
    "        loss.backward()\n",
    "        optimizer.step()\n",
    "        sumloss += loss.item()\n",
    "        sumacc += acc.item()\n",
    "          \n",
    "    return sumloss / len(data), sumacc / len(data)\n",
    "\n",
    "def test(model, data, criterion):\n",
    "    y_pred_list = []\n",
    "    y_true_list = []\n",
    "    real_v_list = []\n",
    "    sumloss = 0\n",
    "    sumacc = 0\n",
    "    \n",
    "    model.eval()\n",
    "    \n",
    "    with torch.no_grad():\n",
    "    \n",
    "        for i in data:\n",
    "            text = i.text\n",
    "            \n",
    "            pred = model(text).squeeze(1)\n",
    "           \n",
    "            loss = criterion(pred, i.label)\n",
    "            \n",
    "            acc,y_pred_tags,y_true,real_v = find_accuracy(pred, i.label)\n",
    "\n",
    "            sumloss += loss.item()\n",
    "            sumacc += acc.item()\n",
    "            y_pred_list.append(y_pred_tags.cpu().numpy())\n",
    "            y_true_list.append(y_true.cpu().numpy())\n",
    "            real_v_list+=real_v.flatten().tolist()\n",
    "        \n",
    "    return sumloss / len(data), sumacc / len(data),y_pred_list,y_true_list,real_v_list\n",
    "\n",
    "def process_test(model,numEpochs,data_tr,data_val,data_test,lr,best_model):\n",
    "\n",
    "    optimizer,criterion=Loss_Optimizer (model,lr)\n",
    "    criterion = criterion.to(device)\n",
    "    start_time = time.time()\n",
    "    \n",
    "    for i in range(numEpochs):\n",
    " \n",
    "        train_loss, train_acc = train(model, data_tr, lr,optimizer,criterion)\n",
    "        valid_loss, valid_acc,_,_ ,_= test(model, data_val, criterion)\n",
    "        \n",
    "        if i==0:\n",
    "            max=valid_acc\n",
    "            torch.save(model.state_dict(), best_model)\n",
    "        elif valid_acc > max:\n",
    "            max = valid_acc\n",
    "            torch.save(model.state_dict(), best_model)\n",
    "\n",
    "        if (i+1)%5==0:\n",
    "          print(\"Epoch : \",i+1,\" Train Loss : \",train_loss,\"  Train Acc : \",train_acc,\"  Valid Loss : \",valid_loss, \" Val Acc : \",valid_acc)\n",
    "    \n",
    "    end_time = time.time()\n",
    "    timeHelp=(end_time-start_time)/60.0\n",
    "    print(\"\\nTime needed for Training : \",timeHelp)\n",
    "\n",
    "    \n",
    "    \n",
    "   \n",
    "    model.load_state_dict(torch.load(best_model))\n",
    "    \n",
    "    test_loss, test_acc,y_pred_list,y_true_list, real_v_list= test(model, data_test, criterion)\n",
    "    print(\"\\nLoss in Testset : \",test_loss,\"  Accuracy in Testset : \",test_acc,\"\\n\")\n",
    "\n",
    "    y_pred_list = [a.squeeze().tolist() for a in y_pred_list]\n",
    "    y_true_list = [a.squeeze().tolist() for a in y_true_list]\n",
    "    \n",
    "    yp = [item for sublist in y_pred_list for item in sublist]\n",
    "    yt = [item for sublist in y_true_list for item in sublist]\n",
    "    \n",
    "    cnf_matrix = confusion_matrix(yt, yp,labels=[0, 1])\n",
    "    np.set_printoptions(precision=3)\n",
    "\n",
    "    plt.figure()\n",
    "    plot_confusion_matrix(cnf_matrix, classes=[0, 1],\n",
    "                      title='Confusion matrix, with normalization')\n",
    "     \n",
    "    return real_v_list\n",
    "\n",
    "def process_test2(model,numEpochs,data_tr,data_val,data_test,lr,best_model):\n",
    "\n",
    "    optimizer,criterion=Loss_Optimizer (model,lr)\n",
    "    criterion = criterion.to(device)\n",
    "    start_time = time.time()\n",
    "        \n",
    "    for i in range(numEpochs):\n",
    " \n",
    "        train_loss, train_acc = train(model, data_tr, lr,optimizer,criterion)\n",
    "        valid_loss, valid_acc,_,_,_ = test(model, data_val, criterion)\n",
    "        \n",
    "        if i==0:\n",
    "            minloss=valid_loss\n",
    "            torch.save(model.state_dict(), best_model)\n",
    "        elif valid_loss < minloss:\n",
    "            minloss = valid_loss\n",
    "            torch.save(model.state_dict(), best_model)\n",
    "\n",
    "        if (i+1)%5==0:\n",
    "          print(\"Epoch : \",i+1,\" Train Loss : \",train_loss,\"  Train Acc : \",train_acc,\"  Valid Loss : \",valid_loss, \" Val Acc : \",valid_acc)\n",
    "    \n",
    "    end_time = time.time()\n",
    "    timeHelp=(end_time-start_time)/60.0\n",
    "    print(\"\\nTime needed for Training : \",timeHelp)\n",
    "\n",
    "    model.load_state_dict(torch.load(best_model))\n",
    "    \n",
    "    test_loss, test_acc,y_pred_list,y_true_list, real_v_list= test(model, data_test, criterion)\n",
    "    print(\"\\nLoss in Testset : \",test_loss,\"  Accuracy in Testset : \",test_acc,\"\\n\")\n",
    "\n",
    "    y_pred_list = [a.squeeze().tolist() for a in y_pred_list]\n",
    "    y_true_list = [a.squeeze().tolist() for a in y_true_list]\n",
    "    \n",
    "    yp = [item for sublist in y_pred_list for item in sublist]\n",
    "    yt = [item for sublist in y_true_list for item in sublist]\n",
    "    \n",
    "    cnf_matrix = confusion_matrix(yt, yp,labels=[0, 1])\n",
    "    np.set_printoptions(precision=3)\n",
    "\n",
    "    plt.figure()\n",
    "    plot_confusion_matrix(cnf_matrix, classes=[0, 1],\n",
    "                      title='Confusion matrix, with normalization')\n",
    "    return real_v_list"
   ]
  },
  {
   "cell_type": "markdown",
   "metadata": {
    "id": "m-swBnngOnJ4"
   },
   "source": [
    "## RNN Models"
   ]
  },
  {
   "cell_type": "code",
   "execution_count": 15,
   "metadata": {
    "id": "iN7ov3gHfArY"
   },
   "outputs": [],
   "source": [
    "class myLSTM(nn.Module):\n",
    "    def __init__(self, voc, embed_d, hid_d, out_d,dropout):\n",
    "        \n",
    "        super().__init__()\n",
    "        \n",
    "        self.embedding = nn.Embedding(voc, embed_d)\n",
    "        self.rnn = nn.LSTM(embed_d,hid_d,batch_first=True,num_layers=2,bidirectional=True,dropout=dropout)\n",
    "        self.fc = nn.Linear(hid_d * 2, out_d)\n",
    "        self.dropout = nn.Dropout(dropout)\n",
    "    def forward(self, input_text):\n",
    "                \n",
    "        embedded = self.dropout(self.embedding(input_text))\n",
    "       \n",
    "        rnn_out,(rnn_hid,rnn_cell) = self.rnn(embedded)\n",
    "        hidden = self.dropout(torch.cat((rnn_hid[-2,:,:], rnn_hid[-1,:,:]), dim=1))\n",
    "        out=self.fc(hidden.squeeze(0))\n",
    "        return out\n",
    "\n",
    "class myGRU(nn.Module):\n",
    "    def __init__(self, voc, embed_d, hid_d, out_d,dropout):\n",
    "        \n",
    "        super().__init__()\n",
    "        \n",
    "        self.embedding = nn.Embedding(voc, embed_d)\n",
    "        self.rnn = nn.GRU(embed_d,hid_d,batch_first=True,num_layers=2,bidirectional=True,dropout=dropout)\n",
    "        self.fc = nn.Linear(hid_d * 2, out_d)\n",
    "        self.dropout = nn.Dropout(dropout)\n",
    "    def forward(self, input_text):\n",
    "                \n",
    "        embedded = self.dropout(self.embedding(input_text))\n",
    "        \n",
    "        rnn_out,hidden = self.rnn(embedded)\n",
    "        hidden = self.dropout(torch.cat((hidden[-2,:,:], hidden[-1,:,:]), dim=1))\n",
    "        out=self.fc(hidden.squeeze(0))\n",
    "        return out"
   ]
  },
  {
   "cell_type": "code",
   "execution_count": 16,
   "metadata": {
    "colab": {
     "base_uri": "https://localhost:8080/",
     "height": 228
    },
    "id": "tMbHHUnifArd",
    "outputId": "06203136-81b6-4ca3-cc8b-6ad1b900cbc3"
   },
   "outputs": [
    {
     "name": "stdout",
     "output_type": "stream",
     "text": [
      "myLSTM(\n",
      "  (embedding): Embedding(9318, 300)\n",
      "  (rnn): LSTM(300, 256, num_layers=2, batch_first=True, dropout=0.5, bidirectional=True)\n",
      "  (fc): Linear(in_features=512, out_features=1, bias=True)\n",
      "  (dropout): Dropout(p=0.5, inplace=False)\n",
      ")\n",
      "myGRU(\n",
      "  (embedding): Embedding(9318, 300)\n",
      "  (rnn): GRU(300, 256, num_layers=2, batch_first=True, dropout=0.5, bidirectional=True)\n",
      "  (fc): Linear(in_features=512, out_features=1, bias=True)\n",
      "  (dropout): Dropout(p=0.5, inplace=False)\n",
      ")\n"
     ]
    }
   ],
   "source": [
    "myInput = len(TEXT.vocab)\n",
    "myEmbed = 300\n",
    "myHid = 256\n",
    "myOut = 1\n",
    "batch=1024\n",
    "train_it, val_it, test_it = data.BucketIterator.splits((X_train, X_val, X_test),sort_key = lambda x: len(x.text),\n",
    "    sort_within_batch=True,batch_size = batch,device = device)  \n",
    "dropout = 0.5\n",
    "\n",
    "new_model2 = myLSTM(myInput, myEmbed, myHid, myOut,dropout)\n",
    "new_model2.to(torch.device(device))\n",
    "new_model3 = myGRU(myInput, myEmbed, myHid, myOut,dropout)\n",
    "new_model3.to(torch.device(device))\n",
    "\n",
    "print(new_model2)\n",
    "print(new_model3)\n",
    "#torch.save(new_model2.state_dict(), 'model_LSTM_1.pt')"
   ]
  },
  {
   "cell_type": "markdown",
   "metadata": {
    "id": "NEVvf-RpPUpC"
   },
   "source": [
    "## LSTM results"
   ]
  },
  {
   "cell_type": "code",
   "execution_count": 17,
   "metadata": {
    "colab": {
     "base_uri": "https://localhost:8080/",
     "height": 563
    },
    "id": "xEMSmzBOfArf",
    "outputId": "e526ec83-c730-425d-834c-438a2b598d99"
   },
   "outputs": [
    {
     "name": "stdout",
     "output_type": "stream",
     "text": [
      "Epoch :  5  Train Loss :  0.3241991363465786   Train Acc :  0.8640084167321523   Valid Loss :  0.3163607716560364  Val Acc :  0.8826345602671305\n",
      "Epoch :  10  Train Loss :  0.1724186980475982   Train Acc :  0.9334099839131037   Valid Loss :  0.3211113711198171  Val Acc :  0.8955053091049194\n",
      "Epoch :  15  Train Loss :  0.11077593779191375   Train Acc :  0.9596354166666666   Valid Loss :  0.37684619426727295  Val Acc :  0.9028422037760416\n",
      "Epoch :  20  Train Loss :  0.07816548796836287   Train Acc :  0.9705403645833334   Valid Loss :  0.4587092995643616  Val Acc :  0.9085514942804972\n",
      "Epoch :  25  Train Loss :  0.061208911472931504   Train Acc :  0.9767856349547704   Valid Loss :  0.43876461187998456  Val Acc :  0.9023915529251099\n",
      "Epoch :  30  Train Loss :  0.047487649290512   Train Acc :  0.983154296875   Valid Loss :  0.5199548204739889  Val Acc :  0.9068237145741781\n",
      "\n",
      "Time needed for Training :  0.8124194463094075\n",
      "\n",
      "Loss in Testset :  0.3889603118101756   Accuracy in Testset :  0.906816303730011 \n",
      "\n",
      "Normalized confusion matrix\n",
      "[[0.869 0.131]\n",
      " [0.056 0.944]]\n"
     ]
    },
    {
     "data": {
      "image/png": "[encoded data removed]",
      "text/plain": [
       "<Figure size 432x288 with 2 Axes>"
      ]
     },
     "metadata": {
      "needs_background": "light",
      "tags": []
     },
     "output_type": "display_data"
    }
   ],
   "source": [
    "lstm_list=process_test(new_model2,30,train_it,val_it,test_it,0.001,\"LSTM_tech_PN.pt\")"
   ]
  },
  {
   "cell_type": "markdown",
   "metadata": {
    "id": "qtwyx_WOPa1U"
   },
   "source": [
    "## GRU results"
   ]
  },
  {
   "cell_type": "code",
   "execution_count": 18,
   "metadata": {
    "colab": {
     "base_uri": "https://localhost:8080/",
     "height": 563
    },
    "id": "ufEdn9rhfAri",
    "outputId": "1c0a107c-fe7a-4ea5-ae67-55c46472de31"
   },
   "outputs": [
    {
     "name": "stdout",
     "output_type": "stream",
     "text": [
      "Epoch :  5  Train Loss :  0.3612479666868846   Train Acc :  0.8448184430599213   Valid Loss :  0.30402658383051556  Val Acc :  0.8747717539469401\n",
      "Epoch :  10  Train Loss :  0.20083428577830395   Train Acc :  0.9223422755797704   Valid Loss :  0.31991733113924664  Val Acc :  0.8964569369951884\n",
      "Epoch :  15  Train Loss :  0.13947765373935303   Train Acc :  0.9462076822916666   Valid Loss :  0.31819961468378705  Val Acc :  0.9096033175786337\n",
      "Epoch :  20  Train Loss :  0.10552223174211879   Train Acc :  0.9610188802083334   Valid Loss :  0.4436759253342946  Val Acc :  0.9025166829427084\n",
      "Epoch :  25  Train Loss :  0.07946469021650653   Train Acc :  0.9695638020833334   Valid Loss :  0.3928137719631195  Val Acc :  0.9143356283505758\n",
      "Epoch :  30  Train Loss :  0.05831694114021957   Train Acc :  0.9781087239583334   Valid Loss :  0.45192208886146545  Val Acc :  0.9079004526138306\n",
      "\n",
      "Time needed for Training :  0.6839539607365926\n",
      "\n",
      "Loss in Testset :  0.431907519698143   Accuracy in Testset :  0.9049170911312103 \n",
      "\n",
      "Normalized confusion matrix\n",
      "[[0.892 0.108]\n",
      " [0.082 0.918]]\n"
     ]
    },
    {
     "data": {
      "image/png": "[encoded data removed]",
      "text/plain": [
       "<Figure size 432x288 with 2 Axes>"
      ]
     },
     "metadata": {
      "needs_background": "light",
      "tags": []
     },
     "output_type": "display_data"
    }
   ],
   "source": [
    "gru_list=process_test(new_model3,30,train_it,val_it,test_it,0.001,\"GRU_tech_PN.pt\")"
   ]
  },
  {
   "cell_type": "markdown",
   "metadata": {
    "id": "LL__ZjtQRcQP"
   },
   "source": [
    "## Evaluate Semantic Neutrals as Positive-Negative"
   ]
  },
  {
   "cell_type": "code",
   "execution_count": 19,
   "metadata": {
    "id": "jpGfxh5xPrUR"
   },
   "outputs": [],
   "source": [
    "def sentence(model, s):\n",
    "    model.eval()\n",
    "    \n",
    "    token = [tok.text for tok in lang.tokenizer(s)]\n",
    "    index = [TEXT.vocab.stoi[t] for t in token]\n",
    "    tensor = torch.LongTensor(index).to(device)\n",
    "    tensor = tensor.unsqueeze(0)\n",
    "    pred = torch.sigmoid(model(tensor))\n",
    "    return pred.item()"
   ]
  },
  {
   "cell_type": "code",
   "execution_count": 20,
   "metadata": {
    "colab": {
     "base_uri": "https://localhost:8080/",
     "height": 122
    },
    "id": "5SbeR97pRnEt",
    "outputId": "ae927a09-6414-4927-ebf8-9d97d9a337b1"
   },
   "outputs": [
    {
     "name": "stdout",
     "output_type": "stream",
     "text": [
      "\n",
      "Number of Neutrals that might be not Neutrals by LSTM :  736\n",
      "\n",
      "Number of Neutrals that might be not Neutrals by GRU :  773\n",
      "\n",
      "Number of Neutrals that might be not Neutrals that agree LSTM and GRU :  624\n"
     ]
    }
   ],
   "source": [
    "# LSTM\n",
    "Neutral_pd = pd.read_csv(\"new_Neutral_Tech.csv\")\n",
    "train_pd = pd.read_csv(\"Train_Tech.csv\")\n",
    "\n",
    "\n",
    "for index, row in Neutral_pd.iterrows():\n",
    "    st=str(Neutral_pd['Article'][index])\n",
    "    v=sentence(new_model2,st)\n",
    "    if v>0.9:\n",
    "      Neutral_pd['Target'][index]=1.0\n",
    "    elif v<0.1:\n",
    "      Neutral_pd['Target'][index]=0.0\n",
    "    else:\n",
    "      Neutral_pd['Target'][index]=2.0\n",
    "\n",
    "\n",
    "indexNames = Neutral_pd[Neutral_pd['Target'] == 2.0].index\n",
    " \n",
    "# Delete these row indexes from dataFrame that were not classified as Positive or Negative\n",
    "Neutral_pd.drop(indexNames , inplace=True)\n",
    "\n",
    "print(\"\\nNumber of Neutrals that might be not Neutrals by LSTM : \",len(Neutral_pd))\n",
    "\n",
    "# GRU\n",
    "Neutral_pd2 = pd.read_csv(\"new_Neutral_Tech.csv\")\n",
    "for index, row in Neutral_pd2.iterrows():\n",
    "    v=sentence(new_model3,str(Neutral_pd2['Article'][index]))\n",
    "    if v>0.9:\n",
    "      Neutral_pd2['Target'][index]=1.0\n",
    "    elif v<0.1:\n",
    "      Neutral_pd2['Target'][index]=0.0\n",
    "    else:\n",
    "      Neutral_pd2['Target'][index]=2.0\n",
    "\n",
    "\n",
    "indexNames = Neutral_pd2[Neutral_pd2['Target'] == 2.0].index\n",
    " \n",
    "# Delete these row indexes from dataFrame\n",
    "Neutral_pd2.drop(indexNames , inplace=True)\n",
    "\n",
    "print(\"\\nNumber of Neutrals that might be not Neutrals by GRU : \",len(Neutral_pd2))\n",
    "\n",
    "Neutral_pd=Neutral_pd.merge(Neutral_pd2)\n",
    "\n",
    "print(\"\\nNumber of Neutrals that might be not Neutrals that agree LSTM and GRU : \",len(Neutral_pd))\n"
   ]
  },
  {
   "cell_type": "code",
   "execution_count": 21,
   "metadata": {
    "colab": {
     "base_uri": "https://localhost:8080/",
     "height": 52
    },
    "id": "8tqabUffJiu-",
    "outputId": "1c43e5f7-1075-41ee-cd1b-dd3b4448657b"
   },
   "outputs": [
    {
     "name": "stdout",
     "output_type": "stream",
     "text": [
      "Negative Examples in Training after OverSampling:  6080\n",
      "Positive Examples in Training after OverSampling:  6080\n"
     ]
    }
   ],
   "source": [
    "count1=(Neutral_pd['Target']==0).sum()\n",
    "count2=(Neutral_pd['Target']==1).sum()\n",
    "\n",
    "if count2>count1:\n",
    "  count3=count2//count1-1\n",
    "  count4=count2%count1\n",
    "  Xnew=Neutral_pd[Neutral_pd['Target']==0]\n",
    "else:\n",
    "  count3=count1//count2-1\n",
    "  count4=count1%count2\n",
    "  Xnew=Neutral_pd[Neutral_pd['Target']==1]\n",
    "\n",
    "for i in range(count3):\n",
    "  Neutral_pd = pd.concat([Neutral_pd,Xnew], ignore_index=True)\n",
    "\n",
    "Xnew=Xnew.head(count4)\n",
    "\n",
    "Neutral_pd = pd.concat([Neutral_pd,Xnew], ignore_index=True)\n",
    "Neutral_pd = pd.concat([train_pd,Neutral_pd], ignore_index=True)\n",
    "print(\"Negative Examples in Training after OverSampling: \",(Neutral_pd ['Target']==0).sum())\n",
    "print(\"Positive Examples in Training after OverSampling: \",(Neutral_pd ['Target']==1).sum())\n",
    "Neutral_pd = Neutral_pd.sample(frac=1).reset_index(drop=True)\n",
    "\n",
    "Neutral_pd.to_csv (r'new_Tech_train.csv', index = False, header=True)"
   ]
  },
  {
   "cell_type": "markdown",
   "metadata": {},
   "source": [
    "## Retrain Models with new examples from Semantic Neutrals"
   ]
  },
  {
   "cell_type": "code",
   "execution_count": 22,
   "metadata": {
    "colab": {
     "base_uri": "https://localhost:8080/",
     "height": 122
    },
    "id": "Jq-nRORtR7Ni",
    "outputId": "21a6ff12-0cac-43d1-a3a1-cdb7c3dfebc7"
   },
   "outputs": [
    {
     "data": {
      "text/plain": [
       "myGRU(\n",
       "  (embedding): Embedding(9626, 300)\n",
       "  (rnn): GRU(300, 256, num_layers=2, batch_first=True, dropout=0.5, bidirectional=True)\n",
       "  (fc): Linear(in_features=512, out_features=1, bias=True)\n",
       "  (dropout): Dropout(p=0.5, inplace=False)\n",
       ")"
      ]
     },
     "execution_count": 22,
     "metadata": {
      "tags": []
     },
     "output_type": "execute_result"
    }
   ],
   "source": [
    "torch.manual_seed(1234)\n",
    "torch.backends.cudnn.deterministic = True\n",
    "\n",
    "#TEXT = data.Field(tokenize='spacy',batch_first=True,include_lengths=True)\n",
    "TEXT = data.Field(batch_first=True)\n",
    "LABEL = data.LabelField(dtype = torch.float,batch_first=True)\n",
    "\n",
    "fields = [('text',TEXT),('label', LABEL)]\n",
    "X_train=data.TabularDataset(path = 'new_Tech_train.csv',format = 'csv',fields = fields,skip_header = True)\n",
    "X_test=data.TabularDataset(path = 'Test_Tech.csv',format = 'csv',fields = fields,skip_header = True)\n",
    "X_val=data.TabularDataset(path = 'Val_Tech.csv',format = 'csv',fields = fields,skip_header = True)\n",
    "\n",
    "TEXT.build_vocab(X_train)  \n",
    "LABEL.build_vocab(X_train)\n",
    "train_it, val_it, test_it = data.BucketIterator.splits((X_train, X_val, X_test),sort_key = lambda x: len(x.text),\n",
    "    sort_within_batch=True,batch_size = batch,device = device)\n",
    "\n",
    "myInput = len(TEXT.vocab)\n",
    "myEmbed = 300\n",
    "myHid = 256\n",
    "myOut = 1\n",
    "batch=1024\n",
    "train_it, val_it, test_it = data.BucketIterator.splits((X_train, X_val, X_test),sort_key = lambda x: len(x.text),\n",
    "    sort_within_batch=True,batch_size = batch,device = device)  \n",
    "dropout = 0.5\n",
    "\n",
    "new_model4 = myLSTM(myInput, myEmbed, myHid, myOut,dropout)\n",
    "new_model4.to(torch.device(device))\n",
    "new_model5 = myGRU(myInput, myEmbed, myHid, myOut,dropout)\n",
    "new_model5.to(torch.device(device))\n"
   ]
  },
  {
   "cell_type": "markdown",
   "metadata": {
    "id": "OomQAjREPg5d"
   },
   "source": [
    "## LSTM results after learning \"Neutrals\""
   ]
  },
  {
   "cell_type": "code",
   "execution_count": 23,
   "metadata": {
    "colab": {
     "base_uri": "https://localhost:8080/",
     "height": 563
    },
    "id": "5rcyKydXgCjO",
    "outputId": "d4145342-a764-488b-c70c-2e786fc94d5e"
   },
   "outputs": [
    {
     "name": "stdout",
     "output_type": "stream",
     "text": [
      "Epoch :  5  Train Loss :  0.3221810658772786   Train Acc :  0.863362635175387   Valid Loss :  0.30266260107358295  Val Acc :  0.8837113181749979\n",
      "Epoch :  10  Train Loss :  0.19676923379302025   Train Acc :  0.921398346622785   Valid Loss :  0.3348693648974101  Val Acc :  0.8845377961794535\n",
      "Epoch :  15  Train Loss :  0.10886185678342979   Train Acc :  0.958996002872785   Valid Loss :  0.3679345150788625  Val Acc :  0.9048705895741781\n",
      "Epoch :  20  Train Loss :  0.0730445251489679   Train Acc :  0.9730166494846344   Valid Loss :  0.44034279386202496  Val Acc :  0.9003382325172424\n",
      "Epoch :  25  Train Loss :  0.0534867603952686   Train Acc :  0.9815848271052042   Valid Loss :  0.5027694503466288  Val Acc :  0.9054463704427084\n",
      "Epoch :  30  Train Loss :  0.042640778546532   Train Acc :  0.9848516583442688   Valid Loss :  0.5173023839791616  Val Acc :  0.9093276858329773\n",
      "\n",
      "Time needed for Training :  0.9733501593271892\n",
      "\n",
      "Loss in Testset :  0.4525048981110255   Accuracy in Testset :  0.9009967148303986 \n",
      "\n",
      "Normalized confusion matrix\n",
      "[[0.889 0.111]\n",
      " [0.087 0.913]]\n"
     ]
    },
    {
     "data": {
      "image/png": "[encoded data removed]",
      "text/plain": [
       "<Figure size 432x288 with 2 Axes>"
      ]
     },
     "metadata": {
      "needs_background": "light",
      "tags": []
     },
     "output_type": "display_data"
    }
   ],
   "source": [
    "lstm_list2=process_test(new_model4,30,train_it,val_it,test_it,0.001,\"LSTM_tech_PN2.pt\")"
   ]
  },
  {
   "cell_type": "markdown",
   "metadata": {
    "id": "x2WiYrUrT5zv"
   },
   "source": [
    "## GRU results after learning \"Neutrals\""
   ]
  },
  {
   "cell_type": "code",
   "execution_count": 24,
   "metadata": {
    "colab": {
     "base_uri": "https://localhost:8080/",
     "height": 563
    },
    "id": "GPRHaveSOnKL",
    "outputId": "b411bcb2-53c6-4e09-e01a-b4f9e700826d"
   },
   "outputs": [
    {
     "name": "stdout",
     "output_type": "stream",
     "text": [
      "Epoch :  5  Train Loss :  0.33165586988131207   Train Acc :  0.8576660205920538   Valid Loss :  0.31000280380249023  Val Acc :  0.8797547618548075\n",
      "Epoch :  10  Train Loss :  0.20063257838288942   Train Acc :  0.9228166888157526   Valid Loss :  0.31047584613164264  Val Acc :  0.8977087140083313\n",
      "Epoch :  15  Train Loss :  0.13153176630536714   Train Acc :  0.9494163890679678   Valid Loss :  0.3489229381084442  Val Acc :  0.9020660320917765\n",
      "Epoch :  20  Train Loss :  0.09491626483698686   Train Acc :  0.9639369448026022   Valid Loss :  0.3772415618101756  Val Acc :  0.9088017741839091\n",
      "Epoch :  25  Train Loss :  0.08212724576393764   Train Acc :  0.967366541425387   Valid Loss :  0.3916792968908946  Val Acc :  0.910880446434021\n",
      "Epoch :  30  Train Loss :  0.05854616003731886   Train Acc :  0.978108728925387   Valid Loss :  0.49941309293111164  Val Acc :  0.9036686817804972\n",
      "\n",
      "Time needed for Training :  0.7678510030110677\n",
      "\n",
      "Loss in Testset :  0.4265818198521932   Accuracy in Testset :  0.907887597878774 \n",
      "\n",
      "Normalized confusion matrix\n",
      "[[0.88  0.12 ]\n",
      " [0.065 0.935]]\n"
     ]
    },
    {
     "data": {
      "image/png": "[encoded data removed]",
      "text/plain": [
       "<Figure size 432x288 with 2 Axes>"
      ]
     },
     "metadata": {
      "needs_background": "light",
      "tags": []
     },
     "output_type": "display_data"
    }
   ],
   "source": [
    "gru_list2=process_test(new_model5,30,train_it,val_it,test_it,0.001,\"GRU_tech_PN2.pt\")"
   ]
  }
 ],
 "metadata": {
  "accelerator": "GPU",
  "colab": {
   "collapsed_sections": [],
   "name": "Tech_Rnn_(1).ipynb",
   "provenance": [],
   "toc_visible": true
  },
  "kernelspec": {
   "display_name": "Python 3",
   "language": "python",
   "name": "python3"
  },
  "language_info": {
   "codemirror_mode": {
    "name": "ipython",
    "version": 3
   },
   "file_extension": ".py",
   "mimetype": "text/x-python",
   "name": "python",
   "nbconvert_exporter": "python",
   "pygments_lexer": "ipython3",
   "version": "3.7.7"
  }
 },
 "nbformat": 4,
 "nbformat_minor": 1
}
