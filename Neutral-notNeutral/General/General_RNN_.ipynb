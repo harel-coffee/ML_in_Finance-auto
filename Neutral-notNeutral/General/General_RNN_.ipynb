{
 "cells": [
  {
   "cell_type": "code",
   "execution_count": 2,
   "metadata": {
    "colab": {
     "base_uri": "https://localhost:8080/",
     "height": 70
    },
    "colab_type": "code",
    "id": "l9o-8aJZgk9I",
    "outputId": "9f3a73be-8fa5-4338-c4dc-258f7f7e92e0"
   },
   "outputs": [
    {
     "name": "stdout",
     "output_type": "stream",
     "text": [
      "[nltk_data] Downloading package stopwords to /root/nltk_data...\n",
      "[nltk_data]   Unzipping corpora/stopwords.zip.\n"
     ]
    },
    {
     "data": {
      "text/plain": [
       "True"
      ]
     },
     "execution_count": 2,
     "metadata": {
      "tags": []
     },
     "output_type": "execute_result"
    }
   ],
   "source": [
    ">>> import nltk\n",
    ">>> nltk.download('stopwords')"
   ]
  },
  {
   "cell_type": "code",
   "execution_count": 3,
   "metadata": {
    "colab": {
     "base_uri": "https://localhost:8080/",
     "height": 34
    },
    "colab_type": "code",
    "id": "a5HnPotefAq7",
    "outputId": "7f0bcf12-d1db-4093-cabe-0bd390c63def"
   },
   "outputs": [
    {
     "name": "stdout",
     "output_type": "stream",
     "text": [
      "GPU Model    Tesla P100-PCIE-16GB\n"
     ]
    }
   ],
   "source": [
    "import pandas as pd\n",
    "import json\n",
    "import numpy as np\n",
    "import re\n",
    "from nltk.stem.porter import *\n",
    "from nltk.corpus import stopwords\n",
    "from sklearn.model_selection import train_test_split\n",
    "from sklearn import model_selection,metrics,preprocessing\n",
    "import torch\n",
    "from torchtext import data\n",
    "import random\n",
    "import torch.nn as nn\n",
    "import torch.nn.functional as F\n",
    "import torch.optim as optim\n",
    "import time\n",
    "import spacy\n",
    "import seaborn as sns\n",
    "from sklearn.metrics import confusion_matrix\n",
    "import matplotlib.pyplot as plt\n",
    "import six\n",
    "import sys\n",
    "sys.modules['sklearn.externals.six'] = six\n",
    "from imblearn.over_sampling import RandomOverSampler\n",
    "\n",
    "stemmer = PorterStemmer()\n",
    "import warnings\n",
    "warnings.filterwarnings('ignore')\n",
    "device = torch.device(\"cuda:0\" if torch.cuda.is_available() else \"cpu\")\n",
    "print(\"GPU Model   \",torch.cuda.get_device_name(0))"
   ]
  },
  {
   "cell_type": "code",
   "execution_count": 4,
   "metadata": {
    "colab": {},
    "colab_type": "code",
    "id": "UDGI_gcARDf3"
   },
   "outputs": [],
   "source": [
    "def plot_confusion_matrix(cm, classes,\n",
    "                          normalize=True,\n",
    "                          title='Confusion matrix',\n",
    "                          cmap=plt.cm.Blues):\n",
    "    \n",
    "    import itertools\n",
    "    if normalize:\n",
    "        cm = cm.astype('float') / cm.sum(axis=1)[:, np.newaxis]\n",
    "        print(\"Normalized confusion matrix\")\n",
    "    else:\n",
    "        print('Confusion matrix, without normalization')\n",
    "\n",
    "    print(cm)\n",
    "\n",
    "    plt.imshow(cm, interpolation='nearest', cmap=cmap)\n",
    "    plt.title(title)\n",
    "    plt.colorbar()\n",
    "    tick_marks = np.arange(len(classes))\n",
    "    plt.xticks(tick_marks, classes, rotation=45)\n",
    "    plt.yticks(tick_marks, classes)\n",
    "\n",
    "    fmt = '.2f' if normalize else 'd'\n",
    "    thresh = cm.max() / 2.\n",
    "    for i, j in itertools.product(range(cm.shape[0]), range(cm.shape[1])):\n",
    "        plt.text(j, i, format(cm[i, j], fmt),\n",
    "                 horizontalalignment=\"center\",\n",
    "                 color=\"white\" if cm[i, j] > thresh else \"black\")\n",
    "\n",
    "    plt.ylabel('True label')\n",
    "    plt.xlabel('Predicted label')\n",
    "    plt.tight_layout()"
   ]
  },
  {
   "cell_type": "code",
   "execution_count": 5,
   "metadata": {
    "colab": {},
    "colab_type": "code",
    "id": "VCJKt_MyfAq-"
   },
   "outputs": [],
   "source": [
    "def clean_data(X):\n",
    "    STOPWORDS = set(stopwords.words('english'))\n",
    "    X=X.str.lower()\n",
    "    X=X.str.replace(\"[/(){}\\[\\]\\|@,;]\", \" \")\n",
    "    X=X.str.replace(\"[^0-9a-z #+_]\", \" \")\n",
    "    X = X.str.replace(r'\\d+','')\n",
    "    X = X.apply(lambda x: ' '.join([w for w in str(x).split() if (len(w)>2 and w not in STOPWORDS) ] ))\n",
    "    X = X.apply(lambda x: x.split()) \n",
    "    return X\n",
    "\n",
    "def target_arrange(y):\n",
    "    \n",
    "    for i in range(len(y)):\n",
    "        if y.values[i]==\"Neutral\":\n",
    "            y.values[i]=0\n",
    "        else:\n",
    "            y.values[i]=1\n",
    "            \n",
    "    y=y.to_numpy()  \n",
    "    y=y.reshape(y.shape[0],1)\n",
    "    y= pd.DataFrame(data=y)\n",
    "    y=np.ravel(y)\n",
    "    y=y.astype('float')\n",
    "    return y"
   ]
  },
  {
   "cell_type": "code",
   "execution_count": 6,
   "metadata": {
    "colab": {
     "base_uri": "https://localhost:8080/",
     "height": 210
    },
    "colab_type": "code",
    "id": "39r_65tmfArB",
    "outputId": "07770b5f-9f66-4a38-c59e-59fc9e49bea8"
   },
   "outputs": [
    {
     "name": "stdout",
     "output_type": "stream",
     "text": [
      "Number of Examples :  34125 \n",
      "\n",
      "Number of Examples after removing duplicates:  33921 \n",
      "\n",
      "Number of words before cleaning :  1305539\n",
      "Number of words after cleaning :  878498\n",
      "\n",
      "******************\n",
      "\n",
      "Neutral Examples :  18194\n",
      "Not Neutral Examples :  15727\n"
     ]
    }
   ],
   "source": [
    "with open(\"All_Tickers.json\",\"r\") as fp:\n",
    "#with open(\"General_Market.json\",encoding='utf8') as fp:\n",
    "    json_d = json.load(fp)\n",
    " \n",
    "ticks_d = json_d['data']\n",
    "df = pd.DataFrame(ticks_d)\n",
    "\n",
    "X= pd.DataFrame(columns=['Date', 'Article','Target'])\n",
    "X['Date']=pd.to_datetime(df['date'])\n",
    "X['Article']=df['title']+\" \"+df['text']\n",
    "X['Target']=df['sentiment']\n",
    "\n",
    "X=X.sort_values(\"Date\")\n",
    "\n",
    "print(\"Number of Examples : \",len(X),\"\\n\")\n",
    "X.drop_duplicates(inplace=True)\n",
    "X.index = range(len(X))\n",
    "print(\"Number of Examples after removing duplicates: \",len(X),\"\\n\")\n",
    "\n",
    "print('Number of words before cleaning : ',X['Article'].apply(lambda x: len(str(x).split(' '))).sum())\n",
    "X['Article']=clean_data(X['Article'])\n",
    "print('Number of words after cleaning : ',X['Article'].apply(lambda x: len(str(x).split(' '))).sum())\n",
    "print(\"\\n******************\\n\")\n",
    "\n",
    "X['Target']=target_arrange(X['Target'])\n",
    "X=X.drop('Date',1)\n",
    "\n",
    "print(\"Neutral Examples : \",(X['Target']==0).sum())\n",
    "print(\"Not Neutral Examples : \",(X['Target']==1).sum())\n"
   ]
  },
  {
   "cell_type": "code",
   "execution_count": 7,
   "metadata": {
    "colab": {
     "base_uri": "https://localhost:8080/",
     "height": 228
    },
    "colab_type": "code",
    "id": "F2Lyyf7vfArF",
    "outputId": "c3589c52-149a-45e0-d88e-4ed57663f179"
   },
   "outputs": [
    {
     "name": "stdout",
     "output_type": "stream",
     "text": [
      "0        krato present canaccord virtual growth confer ...\n",
      "1        pyxi tanker announc date releas second quarter...\n",
      "2        intellig system announc new board member norcr...\n",
      "3        vianet group inc announc unaudit second quarte...\n",
      "4        rewalk robot report second quarter financi res...\n",
      "                               ...                        \n",
      "33916    borg warner investig initi former louisiana at...\n",
      "33917    bayer hour deadlin alert former louisiana atto...\n",
      "33918    cantor fitzgerald bgc partner chariti day virt...\n",
      "33919    chariti day virtual unstopp bgc partner cantor...\n",
      "33920    halo lab provid oregon busi updat toronto busi...\n",
      "Name: Article, Length: 33921, dtype: object\n"
     ]
    }
   ],
   "source": [
    "X['Article']= X['Article'].apply(lambda x: [stemmer.stem(i) for i in x]) # stemming\n",
    "for i in range(len(X['Article'])): #φέρνω τα tokens ξανά μαζί διαχωριζόμενα με κενά\n",
    "    X['Article'][i] = ' '.join(X['Article'][i])\n",
    "print(X['Article'])\n",
    "\n",
    "Xv = X['Article'].to_frame()\n"
   ]
  },
  {
   "cell_type": "code",
   "execution_count": 8,
   "metadata": {
    "colab": {
     "base_uri": "https://localhost:8080/",
     "height": 52
    },
    "colab_type": "code",
    "id": "4M3zENgFxaLN",
    "outputId": "3fe29a59-a762-4858-eca9-6f5588874044"
   },
   "outputs": [
    {
     "name": "stdout",
     "output_type": "stream",
     "text": [
      "Neutral Examples in Training after OverSampling:  10916\n",
      "Not Neutral Examples in Training after OverSampling:  9824\n"
     ]
    }
   ],
   "source": [
    "X_train,X_test,y_train,y_test = train_test_split(Xv,X['Target'], test_size=0.25,stratify=X['Target'])\n",
    "X_train,X_val,y_train,y_val = train_test_split(X_train,y_train, test_size=0.2,stratify=y_train)\n",
    "\n",
    "ros = RandomOverSampler(sampling_strategy=0.9)\n",
    "X_train,y_train = ros.fit_resample(X_train, y_train)\n",
    "\n",
    "train=pd.DataFrame(columns=['Article','Target'])\n",
    "val = pd.DataFrame(columns=['Article','Target'])\n",
    "test= pd.DataFrame(columns=['Article','Target'])\n",
    "\n",
    "\n",
    "df = pd.DataFrame(data = X_train,columns=['Article'])\n",
    "df1= pd.DataFrame(data = y_train,columns=['Target'])\n",
    "train['Article']=df['Article']\n",
    "train['Target']=df1['Target']\n",
    "df = pd.DataFrame(data = X_test,columns=['Article'])\n",
    "df1= pd.DataFrame(data = y_test,columns=['Target'])\n",
    "test['Article']=df['Article']\n",
    "test['Target']=df1['Target']\n",
    "df = pd.DataFrame(data = X_val,columns=['Article'])\n",
    "df1= pd.DataFrame(data = y_val,columns=['Target'])\n",
    "val['Article']=df['Article']\n",
    "val['Target']=df1['Target']\n",
    "\n",
    "print(\"Neutral Examples in Training after OverSampling: \",(train['Target']==0).sum())\n",
    "print(\"Not Neutral Examples in Training after OverSampling: \",(train['Target']==1).sum())\n",
    "\n",
    "train.to_csv (r'General1.csv', index = False, header=True)\n",
    "test.to_csv (r'General2.csv', index = False, header=True)\n",
    "val.to_csv (r'General3.csv', index = False, header=True)\n"
   ]
  },
  {
   "cell_type": "code",
   "execution_count": 9,
   "metadata": {
    "colab": {
     "base_uri": "https://localhost:8080/",
     "height": 90
    },
    "colab_type": "code",
    "id": "HmOB68OSfArK",
    "outputId": "879e04db-5c5f-42d3-b7d7-266cd6d84758"
   },
   "outputs": [
    {
     "name": "stdout",
     "output_type": "stream",
     "text": [
      "Size of TEXT vocabulary: 21628\n",
      "Size of LABEL vocabulary: 2\n",
      "[('stock', 8317), ('earn', 6546), ('inc', 6135), ('compani', 5936), ('announc', 5633), ('result', 4458), ('report', 3748), ('busi', 3609), ('new', 3547), ('investor', 3365)]\n"
     ]
    }
   ],
   "source": [
    "torch.manual_seed(1234)\n",
    "torch.backends.cudnn.deterministic = True\n",
    "\n",
    "#TEXT = data.Field(tokenize='spacy',batch_first=True,include_lengths=True)\n",
    "TEXT = data.Field(batch_first=True,include_lengths=True)\n",
    "LABEL = data.LabelField(dtype = torch.float,batch_first=True)\n",
    "\n",
    "fields = [('text',TEXT),('label', LABEL)]\n",
    "X_train=data.TabularDataset(path = 'General1.csv',format = 'csv',fields = fields,skip_header = True)\n",
    "X_test=data.TabularDataset(path = 'General2.csv',format = 'csv',fields = fields,skip_header = True)\n",
    "X_val=data.TabularDataset(path = 'General3.csv',format = 'csv',fields = fields,skip_header = True)\n",
    "\n",
    "\n",
    "TEXT.build_vocab(X_train)  \n",
    "LABEL.build_vocab(X_train)\n",
    "\n",
    "print(\"Size of TEXT vocabulary:\",len(TEXT.vocab))\n",
    "\n",
    "#No. of unique tokens in label\n",
    "print(\"Size of LABEL vocabulary:\",len(LABEL.vocab))\n",
    "\n",
    "#Commonly used words\n",
    "print(TEXT.vocab.freqs.most_common(10))  \n",
    "\n",
    "\n"
   ]
  },
  {
   "cell_type": "code",
   "execution_count": 10,
   "metadata": {
    "colab": {},
    "colab_type": "code",
    "id": "hIvY8I8tfArM"
   },
   "outputs": [],
   "source": [
    "def find_accuracy(preds, y):\n",
    "   \n",
    "    temp = torch.round(preds)\n",
    "    valid = (temp == y).float() \n",
    "    accur = valid.sum() / len(valid)\n",
    "    return accur,temp,y\n",
    "\n",
    "def Loss_Optimizer (model,valueLR):\n",
    "    #criterion = nn.CrossEntropyLoss()\n",
    "    criterion = nn.BCELoss()\n",
    "    optimizer = torch.optim.Adam(model.parameters(), lr=valueLR)\n",
    "    return optimizer,criterion"
   ]
  },
  {
   "cell_type": "code",
   "execution_count": 11,
   "metadata": {
    "colab": {},
    "colab_type": "code",
    "id": "lNSC2cF4fArO"
   },
   "outputs": [],
   "source": [
    "def train(model,data,lr,optimizer,criterion):\n",
    "        \n",
    "    model.train()\n",
    "    sumloss=0.0\n",
    "    sumacc=0.0\n",
    "    for i in data:\n",
    "        text, text_lengths = i.text   \n",
    "        optimizer.zero_grad()\n",
    "        pred = model(text, text_lengths).squeeze(1)       \n",
    "        loss = criterion(pred, i.label)\n",
    "        acc,dummy,dummy2 = find_accuracy(pred, i.label)\n",
    "        loss.backward()\n",
    "        optimizer.step()\n",
    "        sumloss += loss.item()\n",
    "        sumacc += acc.item()\n",
    "          \n",
    "    return sumloss / len(data), sumacc / len(data)"
   ]
  },
  {
   "cell_type": "code",
   "execution_count": 12,
   "metadata": {
    "colab": {},
    "colab_type": "code",
    "id": "bqLTVN39fArR"
   },
   "outputs": [],
   "source": [
    "def test(model, data, criterion):\n",
    "    y_pred_list = []\n",
    "    y_true_list = []\n",
    "    sumloss = 0\n",
    "    sumacc = 0\n",
    "    \n",
    "    model.eval()\n",
    "    \n",
    "    with torch.no_grad():\n",
    "    \n",
    "        for i in data:\n",
    "            text, text_lengths = i.text\n",
    "            \n",
    "            pred = model(text, text_lengths).squeeze(1)\n",
    "           \n",
    "            loss = criterion(pred, i.label)\n",
    "            \n",
    "            acc,y_pred_tags,y_true = find_accuracy(pred, i.label)\n",
    "\n",
    "            sumloss += loss.item()\n",
    "            sumacc += acc.item()\n",
    "            y_pred_list.append(y_pred_tags.cpu().numpy())\n",
    "            y_true_list.append(y_true.cpu().numpy())\n",
    "        \n",
    "    return sumloss / len(data), sumacc / len(data),y_pred_list,y_true_list"
   ]
  },
  {
   "cell_type": "code",
   "execution_count": 13,
   "metadata": {
    "colab": {},
    "colab_type": "code",
    "id": "GnTkljWVfArT"
   },
   "outputs": [],
   "source": [
    "def process_test(model,numEpochs,data_tr,data_val,data_test,lr,loss_file,acc_file,best_model):\n",
    "\n",
    "    optimizer,criterion=Loss_Optimizer (model,lr)\n",
    "    criterion = criterion.to(device)\n",
    "    start_time = time.time()\n",
    "    fileout=open(loss_file,\"w\")\n",
    "    fileout2=open(acc_file,\"w\")\n",
    "    \n",
    "    for i in range(numEpochs):\n",
    " \n",
    "        train_loss, train_acc = train(model, data_tr, lr,optimizer,criterion)\n",
    "        valid_loss, valid_acc,dummy,dummy2 = test(model, data_val, criterion)\n",
    "        fileout.write(str(valid_loss)+\"\\n\")\n",
    "        fileout2.write(str(valid_acc)+\"\\n\")\n",
    "        if i==0:\n",
    "            max=valid_acc\n",
    "            torch.save(model.state_dict(), best_model)\n",
    "        elif valid_acc > max:\n",
    "            max = valid_acc\n",
    "            torch.save(model.state_dict(), best_model)\n",
    "\n",
    "        if (i+1)%5==0:\n",
    "          print(\"Epoch : \",i+1,\" Train Loss : \",train_loss,\"  Train Acc : \",train_acc,\"  Valid Loss : \",valid_loss, \" Val Acc : \",valid_acc)\n",
    "    \n",
    "    end_time = time.time()\n",
    "    timeHelp=(end_time-start_time)/60.0\n",
    "    print(\"\\nTime needed for Training : \",timeHelp)\n",
    "\n",
    "    fileout.close()\n",
    "    fileout2.close()  \n",
    "    \n",
    "   \n",
    "    model.load_state_dict(torch.load(best_model))\n",
    "    \n",
    "    test_loss, test_acc,y_pred_list,y_true_list = test(model, data_test, criterion)\n",
    "    print(\"\\nLoss in Testset : \",test_loss,\"  Accuracy in Testset : \",test_acc,\"\\n\")\n",
    "\n",
    "    y_pred_list = [a.squeeze().tolist() for a in y_pred_list]\n",
    "    y_true_list = [a.squeeze().tolist() for a in y_true_list]\n",
    "    \n",
    "    yp = [item for sublist in y_pred_list for item in sublist]\n",
    "    yt = [item for sublist in y_true_list for item in sublist]\n",
    "    \n",
    "    cnf_matrix = confusion_matrix(yt, yp,labels=[0, 1])\n",
    "    np.set_printoptions(precision=2)\n",
    "\n",
    "    plt.figure()\n",
    "    plot_confusion_matrix(cnf_matrix, classes=[0, 1],\n",
    "                      title='Confusion matrix, with normalization')\n",
    "    "
   ]
  },
  {
   "cell_type": "code",
   "execution_count": 14,
   "metadata": {
    "colab": {},
    "colab_type": "code",
    "id": "hLSNEK-dfArU"
   },
   "outputs": [],
   "source": [
    "def process_test2(model,numEpochs,data_tr,data_val,data_test,lr,loss_file,acc_file,best_model):\n",
    "\n",
    "    optimizer,criterion=Loss_Optimizer (model,lr)\n",
    "    criterion = criterion.to(device)\n",
    "    start_time = time.time()\n",
    "    fileout=open(loss_file,\"w\")\n",
    "    fileout2=open(acc_file,\"w\")\n",
    "    \n",
    "    for i in range(numEpochs):\n",
    " \n",
    "        train_loss, train_acc = train(model, data_tr, lr,optimizer,criterion)\n",
    "        valid_loss, valid_acc,dummy,dummy2 = test(model, data_val, criterion)\n",
    "        fileout.write(str(valid_loss)+\"\\n\")\n",
    "        fileout2.write(str(valid_acc)+\"\\n\")\n",
    "        if i==0:\n",
    "            minloss=valid_loss\n",
    "            torch.save(model.state_dict(), best_model)\n",
    "        elif valid_loss < minloss:\n",
    "            minloss = valid_loss\n",
    "            torch.save(model.state_dict(), best_model)\n",
    "\n",
    "        if (i+1)%5==0:\n",
    "          print(\"Epoch : \",i+1,\" Train Loss : \",train_loss,\"  Train Acc : \",train_acc,\"  Valid Loss : \",valid_loss, \" Val Acc : \",valid_acc)\n",
    "    \n",
    "    end_time = time.time()\n",
    "    timeHelp=(end_time-start_time)/60.0\n",
    "    print(\"\\nTime needed for Training : \",timeHelp)\n",
    "\n",
    "    fileout.close()\n",
    "    fileout2.close()  \n",
    "    \n",
    "   \n",
    "    model.load_state_dict(torch.load(best_model))\n",
    "    \n",
    "    test_loss, test_acc,y_pred_list,y_true_list = test(model, data_test, criterion)\n",
    "    print(\"\\nLoss in Testset : \",test_loss,\"  Accuracy in Testset : \",test_acc,\"\\n\")\n",
    "\n",
    "    y_pred_list = [a.squeeze().tolist() for a in y_pred_list]\n",
    "    y_true_list = [a.squeeze().tolist() for a in y_true_list]\n",
    "    \n",
    "    yp = [item for sublist in y_pred_list for item in sublist]\n",
    "    yt = [item for sublist in y_true_list for item in sublist]\n",
    "    \n",
    "    cnf_matrix = confusion_matrix(yt, yp,labels=[0, 1])\n",
    "    np.set_printoptions(precision=2)\n",
    "\n",
    "    plt.figure()\n",
    "    plot_confusion_matrix(cnf_matrix, classes=[0, 1],\n",
    "                      title='Confusion matrix, with normalization')"
   ]
  },
  {
   "cell_type": "code",
   "execution_count": 15,
   "metadata": {
    "colab": {
     "base_uri": "https://localhost:8080/",
     "height": 34
    },
    "colab_type": "code",
    "id": "OTVfTSDHfArW",
    "outputId": "7f5b6e30-1f07-4e1b-f7a5-b48fb2f5d732"
   },
   "outputs": [
    {
     "name": "stdout",
     "output_type": "stream",
     "text": [
      "GPU Model    Tesla P100-PCIE-16GB\n"
     ]
    }
   ],
   "source": [
    "print(\"GPU Model   \",torch.cuda.get_device_name(0))"
   ]
  },
  {
   "cell_type": "code",
   "execution_count": 16,
   "metadata": {
    "colab": {},
    "colab_type": "code",
    "id": "iN7ov3gHfArY"
   },
   "outputs": [],
   "source": [
    "class myLSTM(nn.Module):\n",
    "    def __init__(self, voc, embed_d, hid_d, out_d,dropout):\n",
    "        \n",
    "        super().__init__()\n",
    "        \n",
    "        self.embedding = nn.Embedding(voc, embed_d)\n",
    "        self.rnn = nn.LSTM(embed_d,hid_d,batch_first=True,num_layers=2,bidirectional=True,dropout=dropout)\n",
    "        self.fc = nn.Linear(hid_d * 2, out_d)\n",
    "        self.dropout = nn.Dropout(dropout)\n",
    "    def forward(self, input_text, text_lengths):\n",
    "                \n",
    "        embedded = self.dropout(self.embedding(input_text))\n",
    "        packed_embedded = nn.utils.rnn.pack_padded_sequence(embedded, text_lengths,batch_first=True)\n",
    "        rnn_out,(rnn_hid,rnn_cell) = self.rnn(packed_embedded)\n",
    "        hidden = self.dropout(torch.cat((rnn_hid[-2,:,:], rnn_hid[-1,:,:]), dim=1))\n",
    "        out=self.fc(hidden.squeeze(0))\n",
    "        return F.sigmoid(out)"
   ]
  },
  {
   "cell_type": "code",
   "execution_count": 17,
   "metadata": {
    "colab": {},
    "colab_type": "code",
    "id": "4OCyMqTxfArb"
   },
   "outputs": [],
   "source": [
    "class myGRU(nn.Module):\n",
    "    def __init__(self, voc, embed_d, hid_d, out_d,dropout):\n",
    "        \n",
    "        super().__init__()\n",
    "        \n",
    "        self.embedding = nn.Embedding(voc, embed_d)\n",
    "        self.rnn = nn.GRU(embed_d,hid_d,num_layers=2,bidirectional=True,dropout=dropout)\n",
    "        self.fc = nn.Linear(hid_d * 2, out_d)\n",
    "        self.dropout = nn.Dropout(dropout)\n",
    "    def forward(self, input_text,text_lengths):\n",
    "                \n",
    "        embedded = self.dropout(self.embedding(input_text))\n",
    "        packed_embedded = nn.utils.rnn.pack_padded_sequence(embedded, text_lengths,batch_first=True)\n",
    "        rnn_out,hidden = self.rnn(packed_embedded)\n",
    "        hidden = self.dropout(torch.cat((hidden[-2,:,:], hidden[-1,:,:]), dim=1))\n",
    "        out=self.fc(hidden.squeeze(0))\n",
    "        return F.sigmoid(out)"
   ]
  },
  {
   "cell_type": "code",
   "execution_count": 18,
   "metadata": {
    "colab": {
     "base_uri": "https://localhost:8080/",
     "height": 228
    },
    "colab_type": "code",
    "id": "tMbHHUnifArd",
    "outputId": "9e73cb07-628e-4fe0-f693-3d6e410b1130"
   },
   "outputs": [
    {
     "name": "stdout",
     "output_type": "stream",
     "text": [
      "myLSTM(\n",
      "  (embedding): Embedding(21628, 300)\n",
      "  (rnn): LSTM(300, 256, num_layers=2, batch_first=True, dropout=0.3, bidirectional=True)\n",
      "  (fc): Linear(in_features=512, out_features=1, bias=True)\n",
      "  (dropout): Dropout(p=0.3, inplace=False)\n",
      ")\n",
      "myGRU(\n",
      "  (embedding): Embedding(21628, 300)\n",
      "  (rnn): GRU(300, 256, num_layers=2, dropout=0.3, bidirectional=True)\n",
      "  (fc): Linear(in_features=512, out_features=1, bias=True)\n",
      "  (dropout): Dropout(p=0.3, inplace=False)\n",
      ")\n"
     ]
    }
   ],
   "source": [
    "myInput = len(TEXT.vocab)\n",
    "myEmbed = 300\n",
    "myHid = 256\n",
    "myOut = 1\n",
    "batch=1024\n",
    "train_it, val_it, test_it = data.BucketIterator.splits((X_train, X_val, X_test),sort_key = lambda x: len(x.text),\n",
    "    sort_within_batch=True,batch_size = batch,device = device)  \n",
    "dropout = 0.3\n",
    "\n",
    "new_model2 = myLSTM(myInput, myEmbed, myHid, myOut,dropout)\n",
    "new_model2.to(torch.device(device))\n",
    "new_model3 = myGRU(myInput, myEmbed, myHid, myOut,dropout)\n",
    "new_model3.to(torch.device(device))\n",
    "\n",
    "print(new_model2)\n",
    "print(new_model3)\n",
    "#torch.save(new_model2.state_dict(), 'model_LSTM_1.pt')"
   ]
  },
  {
   "cell_type": "code",
   "execution_count": 19,
   "metadata": {
    "colab": {
     "base_uri": "https://localhost:8080/",
     "height": 598
    },
    "colab_type": "code",
    "id": "xEMSmzBOfArf",
    "outputId": "0112773d-6054-4869-cd7f-09bc731093f8"
   },
   "outputs": [
    {
     "name": "stdout",
     "output_type": "stream",
     "text": [
      "Epoch :  5  Train Loss :  0.24562312108242795   Train Acc :  0.8898809523809523   Valid Loss :  0.3080747276544571  Val Acc :  0.8644594192504883\n",
      "Epoch :  10  Train Loss :  0.100096498424786   Train Acc :  0.9604724702380952   Valid Loss :  0.42255963683128356  Val Acc :  0.8661731243133545\n",
      "Epoch :  15  Train Loss :  0.03824930118086437   Train Acc :  0.9856770833333334   Valid Loss :  0.5956168353557587  Val Acc :  0.8660093188285828\n",
      "Epoch :  20  Train Loss :  0.020811549949853327   Train Acc :  0.9926060267857143   Valid Loss :  0.7055203735828399  Val Acc :  0.8605279684066772\n",
      "Epoch :  25  Train Loss :  0.0142272282342414   Train Acc :  0.9952101934523809   Valid Loss :  0.9845600247383117  Val Acc :  0.8642452001571655\n",
      "Epoch :  30  Train Loss :  0.016005154848071038   Train Acc :  0.9944196428571429   Valid Loss :  1.0840083181858062  Val Acc :  0.8655808925628662\n",
      "Epoch :  35  Train Loss :  0.00911457421136133   Train Acc :  0.9972098214285714   Valid Loss :  1.1404455423355102  Val Acc :  0.8677734375\n",
      "Epoch :  40  Train Loss :  0.0077606399467012605   Train Acc :  0.9969773065476191   Valid Loss :  1.4075106263160706  Val Acc :  0.8734627008438111\n",
      "\n",
      "Time needed for Training :  1.8883516550064088\n",
      "\n",
      "Loss in Testset :  1.4992683691283066   Accuracy in Testset :  0.8792813354068332 \n",
      "\n",
      "Normalized confusion matrix\n",
      "[[0.84 0.16]\n",
      " [0.1  0.9 ]]\n"
     ]
    },
    {
     "data": {
      "image/png": "[encoded data removed]",
      "text/plain": [
       "<Figure size 432x288 with 2 Axes>"
      ]
     },
     "metadata": {
      "needs_background": "light",
      "tags": []
     },
     "output_type": "display_data"
    }
   ],
   "source": [
    "process_test(new_model2,40,train_it,val_it,test_it,0.001,\"lstm1_loss.txt\",\"lstm1_acc.txt\",\"LSTM_Tech_NeutnotNeut_model.pt\")"
   ]
  },
  {
   "cell_type": "code",
   "execution_count": 20,
   "metadata": {
    "colab": {
     "base_uri": "https://localhost:8080/",
     "height": 598
    },
    "colab_type": "code",
    "id": "ufEdn9rhfAri",
    "outputId": "1fff8a32-1b6a-44af-ff67-3b79c3ad77d2"
   },
   "outputs": [
    {
     "name": "stdout",
     "output_type": "stream",
     "text": [
      "Epoch :  5  Train Loss :  0.23464203577133871   Train Acc :  0.8971354166666666   Valid Loss :  0.32607778906822205  Val Acc :  0.8550340175628662\n",
      "Epoch :  10  Train Loss :  0.11479379143704482   Train Acc :  0.9555431547619048   Valid Loss :  0.4101711630821228  Val Acc :  0.8746534705162048\n",
      "Epoch :  15  Train Loss :  0.05395063573849343   Train Acc :  0.9800502232142857   Valid Loss :  0.5411662518978119  Val Acc :  0.8675907254219055\n",
      "Epoch :  20  Train Loss :  0.027531544670983704   Train Acc :  0.9907924107142857   Valid Loss :  0.6515701055526734  Val Acc :  0.86755291223526\n",
      "Epoch :  25  Train Loss :  0.020038058231529293   Train Acc :  0.9927920386904762   Valid Loss :  0.7943174839019775  Val Acc :  0.8658392071723938\n",
      "Epoch :  30  Train Loss :  0.014758749604446902   Train Acc :  0.9954892113095238   Valid Loss :  0.9776990294456482  Val Acc :  0.8675844192504882\n",
      "Epoch :  35  Train Loss :  0.012097393095679027   Train Acc :  0.9956287202380952   Valid Loss :  1.0509837031364442  Val Acc :  0.8663999438285828\n",
      "Epoch :  40  Train Loss :  0.009981160646237271   Train Acc :  0.9966052827380952   Valid Loss :  1.0859055399894715  Val Acc :  0.8625188946723938\n",
      "\n",
      "Time needed for Training :  1.75656658411026\n",
      "\n",
      "Loss in Testset :  0.4078945580145551   Accuracy in Testset :  0.8783047729068332 \n",
      "\n",
      "Normalized confusion matrix\n",
      "[[0.84 0.16]\n",
      " [0.1  0.9 ]]\n"
     ]
    },
    {
     "data": {
      "image/png": "[encoded data removed]",
      "text/plain": [
       "<Figure size 432x288 with 2 Axes>"
      ]
     },
     "metadata": {
      "needs_background": "light",
      "tags": []
     },
     "output_type": "display_data"
    }
   ],
   "source": [
    "process_test(new_model3,40,train_it,val_it,test_it,0.001,\"gru1_loss.txt\",\"gru1_acc.txt\",\"GRU_Tech_NeutnotNeut_model.pt\")"
   ]
  }
 ],
 "metadata": {
  "accelerator": "GPU",
  "colab": {
   "collapsed_sections": [],
   "name": "General_RNN .ipynb",
   "provenance": []
  },
  "kernelspec": {
   "display_name": "Python 3",
   "language": "python",
   "name": "python3"
  },
  "language_info": {
   "codemirror_mode": {
    "name": "ipython",
    "version": 3
   },
   "file_extension": ".py",
   "mimetype": "text/x-python",
   "name": "python",
   "nbconvert_exporter": "python",
   "pygments_lexer": "ipython3",
   "version": "3.7.7"
  }
 },
 "nbformat": 4,
 "nbformat_minor": 1
}
