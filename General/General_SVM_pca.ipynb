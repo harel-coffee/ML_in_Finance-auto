{
 "cells": [
  {
   "cell_type": "code",
   "execution_count": 1,
   "metadata": {},
   "outputs": [
    {
     "name": "stderr",
     "output_type": "stream",
     "text": [
      "C:\\Users\\Almalis\\Anaconda3\\lib\\site-packages\\sklearn\\utils\\deprecation.py:143: FutureWarning: The sklearn.neighbors.base module is  deprecated in version 0.22 and will be removed in version 0.24. The corresponding classes / functions should instead be imported from sklearn.neighbors. Anything that cannot be imported from sklearn.neighbors is now part of the private API.\n",
      "  warnings.warn(message, FutureWarning)\n"
     ]
    }
   ],
   "source": [
    "import pandas as pd\n",
    "import json\n",
    "import numpy as np\n",
    "import re\n",
    "from nltk.stem.porter import *\n",
    "from nltk.corpus import stopwords\n",
    "from sklearn.model_selection import train_test_split\n",
    "from sklearn import model_selection,metrics,naive_bayes,preprocessing\n",
    "from sklearn.preprocessing import MinMaxScaler\n",
    "from sklearn.svm import SVC\n",
    "from sklearn.ensemble import RandomForestClassifier\n",
    "from sklearn.feature_extraction.text import TfidfVectorizer\n",
    "stemmer = PorterStemmer()\n",
    "from sklearn.decomposition import PCA\n",
    "from sklearn.discriminant_analysis import LinearDiscriminantAnalysis\n",
    "from sklearn.preprocessing import MinMaxScaler\n",
    "from sklearn.metrics import confusion_matrix\n",
    "import matplotlib.pyplot as plt\n",
    "import warnings\n",
    "import six\n",
    "import sys\n",
    "sys.modules['sklearn.externals.six'] = six\n",
    "from imblearn.under_sampling import RandomUnderSampler\n",
    "import warnings\n",
    "warnings.filterwarnings('ignore')\n",
    "mypca = PCA(0.9)\n",
    "lda = LinearDiscriminantAnalysis(n_components=2)"
   ]
  },
  {
   "cell_type": "code",
   "execution_count": 2,
   "metadata": {},
   "outputs": [],
   "source": [
    "def plot_confusion_matrix(cm, classes,\n",
    "                          normalize=True,\n",
    "                          title='Confusion matrix',\n",
    "                          cmap=plt.cm.Blues):\n",
    "    \n",
    "    import itertools\n",
    "    if normalize:\n",
    "        cm = cm.astype('float') / cm.sum(axis=1)[:, np.newaxis]\n",
    "        print(\"Normalized confusion matrix\")\n",
    "    else:\n",
    "        print('Confusion matrix, without normalization')\n",
    "\n",
    "    print(cm)\n",
    "\n",
    "    plt.imshow(cm, interpolation='nearest', cmap=cmap)\n",
    "    plt.title(title)\n",
    "    plt.colorbar()\n",
    "    tick_marks = np.arange(len(classes))\n",
    "    plt.xticks(tick_marks, classes, rotation=45)\n",
    "    plt.yticks(tick_marks, classes)\n",
    "\n",
    "    fmt = '.2f' if normalize else 'd'\n",
    "    thresh = cm.max() / 2.\n",
    "    for i, j in itertools.product(range(cm.shape[0]), range(cm.shape[1])):\n",
    "        plt.text(j, i, format(cm[i, j], fmt),\n",
    "                 horizontalalignment=\"center\",\n",
    "                 color=\"white\" if cm[i, j] > thresh else \"black\")\n",
    "\n",
    "    plt.ylabel('True label')\n",
    "    plt.xlabel('Predicted label')\n",
    "    plt.tight_layout()"
   ]
  },
  {
   "cell_type": "code",
   "execution_count": 3,
   "metadata": {},
   "outputs": [],
   "source": [
    "def clean_data(X):\n",
    "    STOPWORDS = set(stopwords.words('english'))\n",
    "    X=X.str.lower()\n",
    "    X=X.str.replace(\"[/(){}\\[\\]\\|@,;]\", \" \")\n",
    "    X=X.str.replace(\"[^0-9a-z #+_]\", \" \")\n",
    "    X = X.str.replace(r'\\d+','')\n",
    "    X = X.apply(lambda x: ' '.join([w for w in str(x).split() if (len(w)>2 and w not in STOPWORDS) ] ))\n",
    "    X = X.apply(lambda x: x.split()) \n",
    "    return X\n",
    "\n",
    "def target_arrange(y):\n",
    "    \n",
    "    for i in range(len(y)):\n",
    "        if y.values[i]==\"Negative\":\n",
    "            y.values[i]=0.0\n",
    "        elif y[i]==\"Positive\":\n",
    "            y.values[i]=1.0\n",
    "        else:\n",
    "            y.values[i]=2.0\n",
    "            \n",
    "    y=y.to_numpy()  \n",
    "    y=y.reshape(y.shape[0],1)\n",
    "    y= pd.DataFrame(data=y)\n",
    "    y=np.ravel(y)\n",
    "    y=y.astype('float')\n",
    "    return y\n",
    "\n",
    "def select_n_components(ratio, goal):\n",
    "        # Set initial variance explained so far\n",
    "        s=0.0 \n",
    "        # Set initial number of features\n",
    "        num_components = 0\n",
    "\n",
    "        for i in ratio:\n",
    "            s += i\n",
    "            num_components += 1\n",
    "            if s >= goal:\n",
    "                break\n",
    "\n",
    "        # Return the number of components\n",
    "        return num_components"
   ]
  },
  {
   "cell_type": "code",
   "execution_count": 4,
   "metadata": {},
   "outputs": [
    {
     "name": "stdout",
     "output_type": "stream",
     "text": [
      "Number of Examples :  28680\n",
      "Number of Examples after removing duplicates:  28478 \n",
      "\n",
      "Number of words before cleaning :  1086021\n",
      "Number of words after cleaning :  730700\n",
      "\n",
      "\n",
      "Negative Examples :  3262\n",
      "Positive Examples :  10112\n",
      "Neutral Examples :  15104\n"
     ]
    }
   ],
   "source": [
    "with open(\"All_Tickers.json\",\"r\") as fp:\n",
    "#with open(\"General_Market.json\",encoding='utf8') as fp:\n",
    "    json_d = json.load(fp)\n",
    " \n",
    "ticks_d = json_d['data']\n",
    "df = pd.DataFrame(ticks_d)\n",
    "\n",
    "X= pd.DataFrame(columns=['Date', 'Article','Target'])\n",
    "X['Date']=pd.to_datetime(df['date'])\n",
    "X['Article']=df['title']+\" \"+df['text']\n",
    "X['Target']=df['sentiment']\n",
    "\n",
    "X=X.sort_values(\"Date\")\n",
    "print(\"Number of Examples : \",len(X))\n",
    "X.drop_duplicates(inplace=True)\n",
    "X.index = range(len(X))\n",
    "print(\"Number of Examples after removing duplicates: \",len(X),\"\\n\")\n",
    "X.to_csv (r'General.csv', index = False, header=True)\n",
    "\n",
    "print('Number of words before cleaning : ',X['Article'].apply(lambda x: len(str(x).split(' '))).sum())\n",
    "X['Article']=clean_data(X['Article'])\n",
    "print('Number of words after cleaning : ',X['Article'].apply(lambda x: len(str(x).split(' '))).sum())\n",
    "\n",
    "y=target_arrange(X['Target'])\n",
    "\n",
    "print(\"\\n\")\n",
    "print(\"Negative Examples : \",(y==0.0).sum())\n",
    "print(\"Positive Examples : \",(y==1.0).sum())\n",
    "print(\"Neutral Examples : \", (y==2.0).sum())\n",
    "\n",
    "\n",
    "\n"
   ]
  },
  {
   "cell_type": "code",
   "execution_count": 5,
   "metadata": {},
   "outputs": [
    {
     "name": "stdout",
     "output_type": "stream",
     "text": [
      "0        vianet group inc announc unaudit second quarte...\n",
      "1        krato present canaccord virtual growth confer ...\n",
      "2        rewalk robot report second quarter financi res...\n",
      "3        pyxi tanker announc date releas second quarter...\n",
      "4        bionano genom report second quarter financi re...\n",
      "                               ...                        \n",
      "28473    latest market buzz market go crazi spac reader...\n",
      "28474    hubspot surg august digit market softwar compa...\n",
      "28475    dividend increas expect septemb august anoth e...\n",
      "28476    jcom final deadlin rosen trust top rank law fi...\n",
      "28477    virgin galact plan next test spaceflight oct n...\n",
      "Name: Article, Length: 28478, dtype: object\n"
     ]
    }
   ],
   "source": [
    "X['Article']= X['Article'].apply(lambda x: [stemmer.stem(i) for i in x]) # stemming\n",
    "for i in range(len(X['Article'])): #φέρνω τα tokens ξανά μαζί διαχωριζόμενα με κενά\n",
    "    X['Article'][i] = ' '.join(X['Article'][i])\n",
    "\n",
    "print(X['Article'])"
   ]
  },
  {
   "cell_type": "markdown",
   "metadata": {},
   "source": [
    "## UnderSampling"
   ]
  },
  {
   "cell_type": "code",
   "execution_count": 6,
   "metadata": {},
   "outputs": [],
   "source": [
    "tfidf_vectorizer = TfidfVectorizer(max_df=0.9)\n",
    "Xv = tfidf_vectorizer.fit_transform(X['Article'])\n",
    "Xv = pd.DataFrame(Xv.todense())\n",
    "X_train,X_test,y_train,y_test = train_test_split(Xv,y, test_size=0.25,stratify=y)\n",
    "\n",
    "rus = RandomUnderSampler(sampling_strategy='majority')\n",
    "X_rus, y_rus = rus.fit_resample(X_train, y_train)\n",
    "\n",
    "scaler = MinMaxScaler()\n",
    "X_rus = scaler.fit_transform(X_rus)\n",
    "X_test = scaler.transform(X_test)\n",
    "\n",
    "X_train = mypca.fit_transform(X_rus)\n",
    "X_test = mypca.transform(X_test)\n",
    "\n",
    "X_lda = lda.fit(X_train, y_rus)\n",
    "\n",
    "X_train=lda.transform(X_train)\n",
    "X_test=lda.transform(X_test)"
   ]
  },
  {
   "cell_type": "code",
   "execution_count": 8,
   "metadata": {},
   "outputs": [
    {
     "name": "stdout",
     "output_type": "stream",
     "text": [
      "{'C': 0.03, 'gamma': 0.01, 'kernel': 'rbf'}\n",
      "\n",
      "Metrics with UnderSampling\n",
      "\n",
      " Recall metric: 0.772369183763758\n",
      " F1 metric: 0.7359675234095343\n",
      " Precision metric: 0.725516711998604\n",
      " Accuracy metric: 0.7723314606741573\n",
      " Balanced Accuracy metric: 0.772369183763758 \n",
      "\n",
      "**************************************************\n",
      "\n",
      "Normalized confusion matrix\n",
      "[[0.74 0.23 0.03]\n",
      " [0.1  0.85 0.05]\n",
      " [0.07 0.2  0.73]]\n"
     ]
    },
    {
     "data": {
      "image/png": "[encoded data removed]",
      "text/plain": [
       "<Figure size 432x288 with 2 Axes>"
      ]
     },
     "metadata": {
      "needs_background": "light"
     },
     "output_type": "display_data"
    }
   ],
   "source": [
    "from sklearn.model_selection import GridSearchCV\n",
    "tuned_parameters = [\n",
    "  {'C': [0.1, 1, 10, 100, 1000], 'kernel': ['linear']},\n",
    "  {'C': [0.03, 0.1, 1, 10, 100 ], 'gamma': [5, 1, 0.1, 0.01, 0.001, 0.0001, 0.00001, 0.000001], 'kernel': ['rbf']}\n",
    "  \n",
    " ]\n",
    "\n",
    "grid = GridSearchCV(SVC(class_weight='balanced', decision_function_shape='ovo'), tuned_parameters, n_jobs=-1, refit = True, cv=5) \n",
    "grid.fit(X_train, y_rus) \n",
    "print(grid.best_params_) \n",
    "grid_predictions = grid.predict(X_test) \n",
    "\n",
    "print(\"\\nMetrics with UnderSampling\\n\")\n",
    "recall = metrics.recall_score(y_test,grid_predictions ,average='macro')\n",
    "precision = metrics.precision_score(y_test,grid_predictions ,average='macro')\n",
    "f1 = metrics.f1_score(y_test,grid_predictions ,average='macro')\n",
    "Accur=metrics.accuracy_score(y_test,grid_predictions )\n",
    "B_Accur=metrics.balanced_accuracy_score(y_test,grid_predictions )\n",
    "\n",
    "print(' Recall metric:',recall)\n",
    "print(' F1 metric:',f1)\n",
    "print(' Precision metric:',precision)\n",
    "print(' Accuracy metric:',Accur)\n",
    "print(' Balanced Accuracy metric:',B_Accur,\"\\n\")\n",
    "print(\"**************************************************\\n\")\n",
    "\n",
    "cnf_matrix = confusion_matrix(y_test, grid_predictions ,labels=[0.0, 1.0, 2.0])\n",
    "np.set_printoptions(precision=2)\n",
    "\n",
    "plt.figure()\n",
    "plot_confusion_matrix(cnf_matrix, classes=[0.0, 1.0, 2.0],\n",
    "                      title='Confusion matrix, with normalization')"
   ]
  },
  {
   "cell_type": "markdown",
   "metadata": {},
   "source": [
    "## Without UnderSampling"
   ]
  },
  {
   "cell_type": "code",
   "execution_count": 6,
   "metadata": {},
   "outputs": [],
   "source": [
    "tfidf_vectorizer = TfidfVectorizer(max_df=0.9)\n",
    "Xv = tfidf_vectorizer.fit_transform(X['Article'])\n",
    "Xv = pd.DataFrame(Xv.todense())\n",
    "X_train,X_test,y_train,y_test = train_test_split(Xv,y, test_size=0.25,stratify=y)\n",
    "\n",
    "scaler = MinMaxScaler()\n",
    "X_train = scaler.fit_transform(X_train)\n",
    "X_test = scaler.transform(X_test)\n",
    "\n",
    "X_train = mypca.fit_transform(X_train)\n",
    "X_test = mypca.transform(X_test)\n",
    "\n",
    "X_lda = lda.fit(X_train, y_train)\n",
    "\n",
    "X_train=lda.transform(X_train)\n",
    "X_test=lda.transform(X_test)\n"
   ]
  },
  {
   "cell_type": "code",
   "execution_count": 7,
   "metadata": {},
   "outputs": [
    {
     "name": "stdout",
     "output_type": "stream",
     "text": [
      "{'C': 10, 'gamma': 1e-06, 'kernel': 'rbf'}\n",
      "\n",
      "Metrics\n",
      "\n",
      " Recall metric: 0.7737167584798348\n",
      " F1 metric: 0.7632507357630849\n",
      " Precision metric: 0.7563142064607701\n",
      " Accuracy metric: 0.7985955056179775\n",
      " Balanced Accuracy metric: 0.7737167584798348 \n",
      "\n",
      "**************************************************\n",
      "\n",
      "Normalized confusion matrix\n",
      "[[0.69 0.22 0.08]\n",
      " [0.06 0.82 0.12]\n",
      " [0.04 0.15 0.81]]\n"
     ]
    },
    {
     "data": {
      "image/png": "[encoded data removed]",
      "text/plain": [
       "<Figure size 432x288 with 2 Axes>"
      ]
     },
     "metadata": {
      "needs_background": "light"
     },
     "output_type": "display_data"
    }
   ],
   "source": [
    "tuned_parameters = [\n",
    "  {'C': [0.03, 0.1, 1, 10, 100 ], 'gamma': [5, 1, 0.1, 0.01, 0.001, 0.0001, 0.00001, 0.000001], 'kernel': ['rbf']},\n",
    "  \n",
    " ]\n",
    "\n",
    "grid = GridSearchCV(SVC(class_weight='balanced', decision_function_shape='ovo'), tuned_parameters, n_jobs=-1, refit = True, cv=5) \n",
    "grid.fit(X_train, y_train) \n",
    "print(grid.best_params_) \n",
    "grid_predictions = grid.predict(X_test) \n",
    "\n",
    "print(\"\\nMetrics\\n\")\n",
    "recall = metrics.recall_score(y_test,grid_predictions ,average='macro')\n",
    "precision = metrics.precision_score(y_test,grid_predictions ,average='macro')\n",
    "f1 = metrics.f1_score(y_test,grid_predictions ,average='macro')\n",
    "Accur=metrics.accuracy_score(y_test,grid_predictions )\n",
    "B_Accur=metrics.balanced_accuracy_score(y_test,grid_predictions )\n",
    "\n",
    "print(' Recall metric:',recall)\n",
    "print(' F1 metric:',f1)\n",
    "print(' Precision metric:',precision)\n",
    "print(' Accuracy metric:',Accur)\n",
    "print(' Balanced Accuracy metric:',B_Accur,\"\\n\")\n",
    "print(\"**************************************************\\n\")\n",
    "\n",
    "cnf_matrix = confusion_matrix(y_test, grid_predictions ,labels=[0.0, 1.0, 2.0])\n",
    "np.set_printoptions(precision=2)\n",
    "\n",
    "plt.figure()\n",
    "plot_confusion_matrix(cnf_matrix, classes=[0.0, 1.0, 2.0],\n",
    "                      title='Confusion matrix, with normalization')"
   ]
  },
  {
   "cell_type": "code",
   "execution_count": null,
   "metadata": {},
   "outputs": [],
   "source": []
  }
 ],
 "metadata": {
  "kernelspec": {
   "display_name": "Python 3",
   "language": "python",
   "name": "python3"
  },
  "language_info": {
   "codemirror_mode": {
    "name": "ipython",
    "version": 3
   },
   "file_extension": ".py",
   "mimetype": "text/x-python",
   "name": "python",
   "nbconvert_exporter": "python",
   "pygments_lexer": "ipython3",
   "version": "3.7.7"
  }
 },
 "nbformat": 4,
 "nbformat_minor": 4
}
